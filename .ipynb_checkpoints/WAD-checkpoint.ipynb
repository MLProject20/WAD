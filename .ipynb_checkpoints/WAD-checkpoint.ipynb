{
 "cells": [
  {
   "cell_type": "markdown",
   "metadata": {},
   "source": [
    "### Import Libraries"
   ]
  },
  {
   "cell_type": "code",
   "execution_count": null,
   "metadata": {},
   "outputs": [],
   "source": [
    "import pandas as pd\n",
    "import numpy as np\n",
    "import os\n",
    "import panel as pn\n",
    "\n",
    "pn.extension('tabulator')\n",
    "\n",
    "import hvplot.pandas\n",
    "\n",
    "import dash\n",
    "from dash import dcc\n",
    "from dash import html\n",
    "from datetime import datetime as dt\n",
    "\n",
    "import seaborn as sns\n",
    "import matplotlib.pyplot as plt\n",
    "import plotly.graph_objs as go\n",
    "\n",
    "from shiny import ui, render, App"
   ]
  },
  {
   "cell_type": "markdown",
   "metadata": {},
   "source": [
    "### Read Data"
   ]
  },
  {
   "cell_type": "code",
   "execution_count": null,
   "metadata": {},
   "outputs": [],
   "source": [
    "WAD = pd.read_excel ('C:\\\\Users\\\\padu\\\\Downloads\\\\WAD\\\\Statistical Report Dataset.xlsx', sheet_name= 'Ghana Union Data')\n",
    "WAD"
   ]
  },
  {
   "cell_type": "markdown",
   "metadata": {},
   "source": [
    "### Preprocessing "
   ]
  },
  {
   "cell_type": "code",
   "execution_count": null,
   "metadata": {},
   "outputs": [],
   "source": [
    "WAD = WAD.fillna(0)"
   ]
  },
  {
   "cell_type": "code",
   "execution_count": null,
   "metadata": {},
   "outputs": [],
   "source": [
    "WAD.columns "
   ]
  },
  {
   "cell_type": "markdown",
   "metadata": {},
   "source": [
    "### Make Dataframe Interactive"
   ]
  },
  {
   "cell_type": "code",
   "execution_count": null,
   "metadata": {},
   "outputs": [],
   "source": [
    "WADInteractive = WAD.interactive()"
   ]
  },
  {
   "cell_type": "markdown",
   "metadata": {},
   "source": [
    "## Year Widget"
   ]
  },
  {
   "cell_type": "code",
   "execution_count": null,
   "metadata": {},
   "outputs": [],
   "source": [
    "sliderYear = pn.widgets.Select(name = 'Year', options= list(WAD['Year']))\n",
    "sliderYear"
   ]
  },
  {
   "cell_type": "code",
   "execution_count": null,
   "metadata": {},
   "outputs": [],
   "source": [
    "Yearaxis = pn.widgets.RadioButtonGroup(name = 'Y axis', options= ['Southern Union Conference', 'Northern Union Conference'],\n",
    "                                    button_type = 'warning')\n",
    "Yearaxis"
   ]
  },
  {
   "cell_type": "markdown",
   "metadata": {},
   "source": [
    "### Data Pipeline "
   ]
  },
  {
   "cell_type": "code",
   "execution_count": null,
   "metadata": {},
   "outputs": [],
   "source": [
    "Ghanaconferences = list(set(WAD.Ghana))\n",
    "Years  = list(set(WAD.Year))\n",
    "Years"
   ]
  },
  {
   "cell_type": "code",
   "execution_count": null,
   "metadata": {
    "scrolled": true
   },
   "outputs": [],
   "source": [
    "WADataPipeLine = (WADInteractive[(WAD.Year.isin(Years))].reset_index().sort_values(by = 'Year'))\n"
   ]
  },
  {
   "cell_type": "code",
   "execution_count": null,
   "metadata": {},
   "outputs": [],
   "source": [
    "# WADplot = WADataPipeLine.hvplot(x = 'Year', y ='str(WAD.Baptisms)', line_width = 2, title = 'UnionDashboard' )\n",
    "# WADplot"
   ]
  },
  {
   "cell_type": "code",
   "execution_count": null,
   "metadata": {},
   "outputs": [],
   "source": [
    "WAD.columns"
   ]
  },
  {
   "cell_type": "code",
   "execution_count": null,
   "metadata": {},
   "outputs": [],
   "source": [
    "WAD"
   ]
  },
  {
   "cell_type": "markdown",
   "metadata": {},
   "source": [
    "### Dash"
   ]
  },
  {
   "cell_type": "code",
   "execution_count": null,
   "metadata": {},
   "outputs": [],
   "source": [
    "app = dash.Dash()"
   ]
  },
  {
   "cell_type": "code",
   "execution_count": null,
   "metadata": {},
   "outputs": [],
   "source": [
    "app.layout = html.Div(\n",
    "    style = {\n",
    "        \n",
    "       'display': 'grid',\n",
    "        'grid-template-columns': '1fr 1fr',\n",
    "        'grid-template-rows': '1fr 1fr',\n",
    "        'grid-template-areas': '''\n",
    "            \"sidebar quadrant1 quadrant2\"\n",
    "            \"sidebar quadrant3 quadrant4\"\n",
    "        ''',\n",
    "        'height': '100vh' \n",
    "    },\n",
    "    \n",
    "    children = [\n",
    "        html.Div(\n",
    "        id = 'sidebar',\n",
    "        \n",
    "        style = {\n",
    "            \n",
    "            'grid-area': 'sidebar',\n",
    "            'background-color': 'lightgray',\n",
    "            'padding': '50px'\n",
    "        },\n",
    "            \n",
    "        children = [\n",
    "            html.H3('Sidebar')\n",
    "        ]\n",
    "        \n",
    "        ),\n",
    "        dcc.Graph(\n",
    "        id = 'quadrant 1',\n",
    "        style ={'grid-area': 'quadrant 1'},\n",
    "        figure = {\n",
    "            'data' : [{'x': WAD['Year'], 'y': WAD['Baptisms'], 'type': 'bar'}],\n",
    "            'layout':{'title':'Quadrant 1'}\n",
    "        }),\n",
    "        \n",
    "        dcc.Graph(\n",
    "        id = 'quadrant 2',\n",
    "        style ={'grid-area': 'quadrant 2'},\n",
    "        figure = {\n",
    "            'data': [{'x' : WAD['Year'], 'y':WAD['Professions of Faith'], 'type': 'bar'}]\n",
    "        }\n",
    "        ),\n",
    "        \n",
    "       dcc.DatePickerSingle(\n",
    "       id = 'Date Picker',\n",
    "       date = dt(2010,1,1)\n",
    "       ),\n",
    "        \n",
    "       dcc.Dropdown(\n",
    "         id = 'Union Ghana',\n",
    "         options =[\n",
    "             \n",
    "             {'label': 'Northern conference','value': list(set(WAD['Ghana']))[0]},\n",
    "             {'label': 'Southern conference','value': list(set(WAD['Ghana']))[1]}\n",
    "         ],\n",
    "         value = list(set(WAD['Ghana']))[1],\n",
    "         placeholder= 'Select a Union ',\n",
    "         multi = True\n",
    "         )\n",
    "    ]\n",
    ")"
   ]
  },
  {
   "cell_type": "code",
   "execution_count": null,
   "metadata": {},
   "outputs": [],
   "source": [
    "app.run_server()"
   ]
  },
  {
   "cell_type": "code",
   "execution_count": null,
   "metadata": {
    "scrolled": true
   },
   "outputs": [],
   "source": [
    "app.layout = html.Div(\n",
    "\n",
    "    style = {\n",
    "        \n",
    "        'display': 'grid',\n",
    "        'grid template columns': '1fr 1fr',\n",
    "        'grid template rows': '1fr 1fr',\n",
    "        'grid template areas': '''\n",
    "        \n",
    "            'sidebar quadrant 1 quadrant 2'\n",
    "            'sidebar quadrant 3 quadrant 4'\n",
    "        ''',\n",
    "        'height': '150vh'\n",
    "    },\n",
    "    \n",
    "    children = [\n",
    "       html.Div(\n",
    "        id = 'sidebar',\n",
    "       style = {\n",
    "           'grid-area': 'sidebar',\n",
    "           'color': 'lightgray',\n",
    "           'padding': '10px'\n",
    "       },\n",
    "       \n",
    "        children =[\n",
    "\n",
    "                html.H3('Sidebar'),\n",
    "            ]\n",
    "           \n",
    "       ),\n",
    "           \n",
    "        dcc.Graph(\n",
    "        id = 'quadrant 1',\n",
    "        style ={'grid-area': 'quadrant 1'},\n",
    "        figure = {\n",
    "            'data' : [{'x': WAD['Year'], 'y': WAD['Baptisms'], 'type': 'bar'}],\n",
    "            'layout':{'title':'Quadrant 1'}\n",
    "        }),\n",
    "        \n",
    "        dcc.Graph(\n",
    "        id = 'quadrant 2',\n",
    "        style ={'grid-area': 'quadrant 2'},\n",
    "        figure = {\n",
    "            'data': [{'x' : WAD['Year'], 'y':WAD['Professions of Faith'], 'type': 'bar'}]\n",
    "        }\n",
    "        ),\n",
    "        \n",
    "       dcc.DatePickerSingle(\n",
    "       id = 'Date Picker',\n",
    "       date = dt(2010,1,1)\n",
    "       ),\n",
    "        \n",
    "        \n",
    "         dcc.Dropdown(\n",
    "         id = 'Union Ghana',\n",
    "         options =[\n",
    "             \n",
    "             {'label': 'Northern conference','value': list(set(WAD['Ghana']))[0]},\n",
    "             {'label': 'Southern conference','value': list(set(WAD['Ghana']))[1]}\n",
    "         ],\n",
    "         value = list(set(WAD['Ghana']))[1],\n",
    "         placeholder= 'Select a Union ',\n",
    "         multi = True\n",
    "         )\n",
    "        \n",
    "        \n",
    "    ]\n",
    "\n",
    ")"
   ]
  },
  {
   "cell_type": "code",
   "execution_count": null,
   "metadata": {},
   "outputs": [],
   "source": [
    "app.run_server()"
   ]
  },
  {
   "cell_type": "code",
   "execution_count": null,
   "metadata": {},
   "outputs": [],
   "source": [
    "app.layout = html.Div([\n",
    "    \n",
    "    html.H1(children= 'WAD Dashboard',\n",
    "           style = {\n",
    "               'display': 'grid',\n",
    "               'textAlign': 'center',\n",
    "               'color': '#454B1B'\n",
    "           }),\n",
    "    html.Div(children = 'Union Report',\n",
    "            style = {\n",
    "                'textAlign': 'center',\n",
    "               'color': '#3cb043'\n",
    "            }),\n",
    "    \n",
    "    \n",
    "    dcc.Graph(\n",
    "    id = 'report bar one',\n",
    "    figure = {\n",
    "        'data' : [{'x': WAD['Year'], 'y': WAD['Baptisms'], 'type': 'bar','name':'Baptisms'}],\n",
    "        'layout':{'title':'church report',\n",
    "                 'font':{\n",
    "                     'plot': '#464B1B',\n",
    "                     'color': '#3cb043'}\n",
    "                 }\n",
    "    }\n",
    "    ),\n",
    "    html.Div([\n",
    "        \n",
    "        html.H2('Profession of Faith'),\n",
    "        \n",
    "        dcc.Graph(\n",
    "        id = 'report bar 2',\n",
    "        figure = {\n",
    "            'data': [{'x' : WAD['Year'], 'y':WAD['Professions of Faith'], 'type': 'bar'}]\n",
    "        }\n",
    "        ),\n",
    "        \n",
    "     html.Div([\n",
    "         html.H2('Baptism and Faith'),\n",
    "         \n",
    "         dcc.Graph(\n",
    "         id = 'report bar 3',\n",
    "         figure = {\n",
    "             'data': [go.Scatter(x = WAD['Professions of Faith'],\n",
    "                               y= WAD['Baptisms'],\n",
    "                               mode = 'markers')]\n",
    "         }\n",
    "         )\n",
    "     ]),\n",
    "     html.Div([\n",
    "         \n",
    "         html.H2('Unions In Ghana'),\n",
    "         html.Label('Choose Union'),\n",
    "         \n",
    "         dcc.Dropdown(\n",
    "         id = 'Union Ghana',\n",
    "         options =[\n",
    "             \n",
    "             {'label': 'Northern conference','value': list(set(WAD['Ghana']))[0]},\n",
    "             {'label': 'Southern conference','value': list(set(WAD['Ghana']))[1]}\n",
    "         ],\n",
    "         value = list(set(WAD['Ghana']))[1],\n",
    "         placeholder= 'Select a Union ',\n",
    "         multi = True\n",
    "         )\n",
    "     ]),\n",
    "    ]),\n",
    "    \n",
    "    \n",
    "    html.Div([\n",
    "        html.Br(),\n",
    "        html.Br(),\n",
    "        html.Br(),\n",
    "        dcc.RadioItems(\n",
    "         id = 'Union Ghana Option 2',\n",
    "         options =[\n",
    "             \n",
    "             {'label': 'Northern conference','value': list(set(WAD['Ghana']))[0]},\n",
    "             {'label': 'Southern conference','value': list(set(WAD['Ghana']))[1]}\n",
    "         ])\n",
    "    ]),\n",
    "   html.Div([\n",
    "       \n",
    "       html.Br(),\n",
    "       html.Br(),\n",
    "       \n",
    "       dcc.DatePickerSingle(\n",
    "       id = 'Date Picker',\n",
    "       date = dt(2010,1,1)\n",
    "       )\n",
    "   ]),\n",
    "   html.Div([\n",
    "       html.H2('Fiscal Year'),\n",
    "         html.Label('Choose Union'),\n",
    "         \n",
    "         dcc.Dropdown(\n",
    "         id = 'Union Ghana 3',\n",
    "         options =[\n",
    "             \n",
    "             {'label': 'Year','value': list(WAD['Year'])},\n",
    "             \n",
    "         ],\n",
    "         placeholder= 'Select a Year ',\n",
    "         multi = True\n",
    "         )\n",
    "   ]),\n",
    "    html.Div(\n",
    "    \n",
    "        style = {\n",
    "        \n",
    "        'display': 'grid',\n",
    "        'grid-template-columns': 'ifr ifr',\n",
    "        'grid-template-rows': 'ifr ifr',\n",
    "        'height': '100vh'\n",
    "    },\n",
    "    \n",
    "    children = [dcc.Dropdown(\n",
    "         id = 'Union Ghana 3',\n",
    "         options =[\n",
    "             \n",
    "             {'label': 'Year','value': list(WAD['Year'])},\n",
    "             \n",
    "         ],\n",
    "         placeholder= 'Select a Year ',\n",
    "         multi = True\n",
    "         ),\n",
    "               \n",
    "         dcc.Dropdown(\n",
    "         id = 'Union Ghana 3',\n",
    "         options =[\n",
    "             \n",
    "             {'label': 'Year','value': list(WAD['Year'])},\n",
    "             \n",
    "         ],\n",
    "         placeholder= 'Select a Year ',\n",
    "         multi = True\n",
    "         )      ]\n",
    "    \n",
    "    )\n",
    "    \n",
    " \n",
    "])"
   ]
  }
 ],
 "metadata": {
  "kernelspec": {
   "display_name": "Python 3",
   "language": "python",
   "name": "python3"
  },
  "language_info": {
   "codemirror_mode": {
    "name": "ipython",
    "version": 3
   },
   "file_extension": ".py",
   "mimetype": "text/x-python",
   "name": "python",
   "nbconvert_exporter": "python",
   "pygments_lexer": "ipython3",
   "version": "3.7.9"
  }
 },
 "nbformat": 4,
 "nbformat_minor": 4
}
