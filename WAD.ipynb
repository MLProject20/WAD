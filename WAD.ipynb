{
 "cells": [
  {
   "cell_type": "markdown",
   "metadata": {},
   "source": [
    "### Import Libraries"
   ]
  },
  {
   "cell_type": "code",
   "execution_count": 3,
   "metadata": {},
   "outputs": [],
   "source": [
    "import pandas as pd\n",
    "import numpy as np\n",
    "import os\n",
    "import panel as pn\n",
    "\n",
    "pn.extension('tabulator')\n",
    "\n",
    "import hvplot.pandas\n",
    "\n",
    "import seaborn as sns\n",
    "import matplotlib.pyplot as plt\n",
    "\n",
    "import dash\n",
    "from dash import dcc\n",
    "from dash import html\n",
    "\n",
    "from shiny import ui, render, App"
   ]
  },
  {
   "cell_type": "markdown",
   "metadata": {},
   "source": [
    "### Read Data"
   ]
  },
  {
   "cell_type": "code",
<<<<<<< HEAD
   "execution_count": 5,
=======
   "execution_count": 6,
>>>>>>> 62261214fd86d10151dd8483aa40a4df5a2ee098
   "metadata": {},
   "outputs": [
    {
     "data": {
      "text/plain": [
       "Index(['Ghana', 'Year', 'Churches', 'Companies', 'Congregations',\n",
       "       'Beginning Membership', 'Baptisms', 'Former Member Baptisms',\n",
       "       'Professions of Faith', 'Transfers In', 'Transfers Out', 'Deaths',\n",
       "       'Dropped', 'Missing', 'Total Gains', 'Total Losses', 'Adjust',\n",
       "       'Net Growth', 'Ending Membership', 'Growth Rate', 'Accession Rate',\n",
       "       'Death Rate', 'Ordained Ministers', 'Licensed Ministers', 'Ministers'],\n",
       "      dtype='object')"
      ]
     },
<<<<<<< HEAD
     "execution_count": 5,
=======
     "execution_count": 6,
>>>>>>> 62261214fd86d10151dd8483aa40a4df5a2ee098
     "metadata": {},
     "output_type": "execute_result"
    }
   ],
   "source": [
    "WAD = pd.read_excel ('C:\\\\Users\\\\padu\\\\Desktop\\\\WAD\\\\Statistical Report Dataset.xlsx', sheet_name= 'Ghana Union Data')\n",
    "WAD.columns"
   ]
  },
  {
   "cell_type": "markdown",
   "metadata": {},
   "source": [
    "### Preprocessing "
   ]
  },
  {
   "cell_type": "code",
<<<<<<< HEAD
   "execution_count": 6,
=======
   "execution_count": 7,
>>>>>>> 62261214fd86d10151dd8483aa40a4df5a2ee098
   "metadata": {},
   "outputs": [],
   "source": [
    "WAD = WAD.fillna(0)"
   ]
  },
  {
   "cell_type": "code",
<<<<<<< HEAD
   "execution_count": 7,
=======
   "execution_count": 8,
>>>>>>> 62261214fd86d10151dd8483aa40a4df5a2ee098
   "metadata": {},
   "outputs": [
    {
     "data": {
      "text/plain": [
       "Index(['Ghana', 'Year', 'Churches', 'Companies', 'Congregations',\n",
       "       'Beginning Membership', 'Baptisms', 'Former Member Baptisms',\n",
       "       'Professions of Faith', 'Transfers In', 'Transfers Out', 'Deaths',\n",
       "       'Dropped', 'Missing', 'Total Gains', 'Total Losses', 'Adjust',\n",
       "       'Net Growth', 'Ending Membership', 'Growth Rate', 'Accession Rate',\n",
       "       'Death Rate', 'Ordained Ministers', 'Licensed Ministers', 'Ministers'],\n",
       "      dtype='object')"
      ]
     },
<<<<<<< HEAD
     "execution_count": 7,
=======
     "execution_count": 8,
>>>>>>> 62261214fd86d10151dd8483aa40a4df5a2ee098
     "metadata": {},
     "output_type": "execute_result"
    }
   ],
   "source": [
    "WAD.columns "
   ]
  },
  {
   "cell_type": "markdown",
   "metadata": {},
   "source": [
    "### Make Dataframe Interactive"
   ]
  },
  {
   "cell_type": "code",
<<<<<<< HEAD
   "execution_count": 8,
=======
   "execution_count": 9,
>>>>>>> 62261214fd86d10151dd8483aa40a4df5a2ee098
   "metadata": {},
   "outputs": [],
   "source": [
    "WADInteractive = WAD.interactive()"
   ]
  },
  {
   "cell_type": "markdown",
   "metadata": {},
   "source": [
    "## Year Widget"
   ]
  },
  {
   "cell_type": "code",
<<<<<<< HEAD
   "execution_count": 9,
=======
   "execution_count": 10,
>>>>>>> 62261214fd86d10151dd8483aa40a4df5a2ee098
   "metadata": {},
   "outputs": [
    {
     "data": {},
     "metadata": {},
     "output_type": "display_data"
    },
    {
     "data": {
      "application/vnd.holoviews_exec.v0+json": "",
      "text/html": [
       "<div id='1002'>\n",
<<<<<<< HEAD
       "  <div class=\"bk-root\" id=\"ff6ed0ba-bb15-448b-8996-b4a99dd76c5d\" data-root-id=\"1002\"></div>\n",
       "</div>\n",
       "<script type=\"application/javascript\">(function(root) {\n",
       "  function embed_document(root) {\n",
       "    var docs_json = {\"e3bb9c2e-ddf3-467d-83c9-3cf85ac49ca0\":{\"defs\":[{\"extends\":null,\"module\":null,\"name\":\"ReactiveHTML1\",\"overrides\":[],\"properties\":[]},{\"extends\":null,\"module\":null,\"name\":\"FlexBox1\",\"overrides\":[],\"properties\":[{\"default\":\"flex-start\",\"kind\":null,\"name\":\"align_content\"},{\"default\":\"flex-start\",\"kind\":null,\"name\":\"align_items\"},{\"default\":\"row\",\"kind\":null,\"name\":\"flex_direction\"},{\"default\":\"wrap\",\"kind\":null,\"name\":\"flex_wrap\"},{\"default\":\"flex-start\",\"kind\":null,\"name\":\"justify_content\"}]},{\"extends\":null,\"module\":null,\"name\":\"GridStack1\",\"overrides\":[],\"properties\":[{\"default\":\"warn\",\"kind\":null,\"name\":\"mode\"},{\"default\":null,\"kind\":null,\"name\":\"ncols\"},{\"default\":null,\"kind\":null,\"name\":\"nrows\"},{\"default\":true,\"kind\":null,\"name\":\"allow_resize\"},{\"default\":true,\"kind\":null,\"name\":\"allow_drag\"},{\"default\":[],\"kind\":null,\"name\":\"state\"}]},{\"extends\":null,\"module\":null,\"name\":\"click1\",\"overrides\":[],\"properties\":[{\"default\":\"\",\"kind\":null,\"name\":\"terminal_output\"},{\"default\":\"\",\"kind\":null,\"name\":\"debug_name\"},{\"default\":0,\"kind\":null,\"name\":\"clears\"}]},{\"extends\":null,\"module\":null,\"name\":\"NotificationAreaBase1\",\"overrides\":[],\"properties\":[{\"default\":\"bottom-right\",\"kind\":null,\"name\":\"position\"},{\"default\":0,\"kind\":null,\"name\":\"_clear\"}]},{\"extends\":null,\"module\":null,\"name\":\"NotificationArea1\",\"overrides\":[],\"properties\":[{\"default\":[],\"kind\":null,\"name\":\"notifications\"},{\"default\":\"bottom-right\",\"kind\":null,\"name\":\"position\"},{\"default\":0,\"kind\":null,\"name\":\"_clear\"},{\"default\":[{\"background\":\"#ffc107\",\"icon\":{\"className\":\"fas fa-exclamation-triangle\",\"color\":\"white\",\"tagName\":\"i\"},\"type\":\"warning\"},{\"background\":\"#007bff\",\"icon\":{\"className\":\"fas fa-info-circle\",\"color\":\"white\",\"tagName\":\"i\"},\"type\":\"info\"}],\"kind\":null,\"name\":\"types\"}]},{\"extends\":null,\"module\":null,\"name\":\"Notification\",\"overrides\":[],\"properties\":[{\"default\":null,\"kind\":null,\"name\":\"background\"},{\"default\":3000,\"kind\":null,\"name\":\"duration\"},{\"default\":null,\"kind\":null,\"name\":\"icon\"},{\"default\":\"\",\"kind\":null,\"name\":\"message\"},{\"default\":null,\"kind\":null,\"name\":\"notification_type\"},{\"default\":false,\"kind\":null,\"name\":\"_destroyed\"}]},{\"extends\":null,\"module\":null,\"name\":\"TemplateActions1\",\"overrides\":[],\"properties\":[{\"default\":0,\"kind\":null,\"name\":\"open_modal\"},{\"default\":0,\"kind\":null,\"name\":\"close_modal\"}]},{\"extends\":null,\"module\":null,\"name\":\"MaterialTemplateActions1\",\"overrides\":[],\"properties\":[{\"default\":0,\"kind\":null,\"name\":\"open_modal\"},{\"default\":0,\"kind\":null,\"name\":\"close_modal\"}]}],\"roots\":{\"references\":[{\"attributes\":{\"margin\":[5,10,5,10],\"options\":[\"2013\",\"2014\",\"2015\",\"2016\",\"2017\",\"2018\",\"2019\",\"2020\",\"2021\",\"2013\",\"2014\",\"2015\",\"2016\",\"2017\",\"2018\",\"2019\",\"2020\",\"2021\"],\"title\":\"Year\",\"value\":\"2013\"},\"id\":\"1002\",\"type\":\"panel.models.widgets.CustomSelect\"},{\"attributes\":{\"client_comm_id\":\"067c1a21ac82427abe90e252aa3eb201\",\"comm_id\":\"dcc8ad6cb5d149f6ad596041faae39e1\",\"plot_id\":\"1002\"},\"id\":\"1003\",\"type\":\"panel.models.comm_manager.CommManager\"},{\"attributes\":{\"reload\":false},\"id\":\"1004\",\"type\":\"panel.models.location.Location\"}],\"root_ids\":[\"1002\",\"1003\",\"1004\"]},\"title\":\"Bokeh Application\",\"version\":\"2.4.3\"}};\n",
       "    var render_items = [{\"docid\":\"e3bb9c2e-ddf3-467d-83c9-3cf85ac49ca0\",\"root_ids\":[\"1002\"],\"roots\":{\"1002\":\"ff6ed0ba-bb15-448b-8996-b4a99dd76c5d\"}}];\n",
=======
       "  <div class=\"bk-root\" id=\"f6967be9-6751-4f2b-b1fe-8942a796da90\" data-root-id=\"1002\"></div>\n",
       "</div>\n",
       "<script type=\"application/javascript\">(function(root) {\n",
       "  function embed_document(root) {\n",
       "    var docs_json = {\"9438d9e3-02dc-4260-bf9f-1da85c8fd4b7\":{\"defs\":[{\"extends\":null,\"module\":null,\"name\":\"ReactiveHTML1\",\"overrides\":[],\"properties\":[]},{\"extends\":null,\"module\":null,\"name\":\"FlexBox1\",\"overrides\":[],\"properties\":[{\"default\":\"flex-start\",\"kind\":null,\"name\":\"align_content\"},{\"default\":\"flex-start\",\"kind\":null,\"name\":\"align_items\"},{\"default\":\"row\",\"kind\":null,\"name\":\"flex_direction\"},{\"default\":\"wrap\",\"kind\":null,\"name\":\"flex_wrap\"},{\"default\":\"flex-start\",\"kind\":null,\"name\":\"justify_content\"}]},{\"extends\":null,\"module\":null,\"name\":\"GridStack1\",\"overrides\":[],\"properties\":[{\"default\":\"warn\",\"kind\":null,\"name\":\"mode\"},{\"default\":null,\"kind\":null,\"name\":\"ncols\"},{\"default\":null,\"kind\":null,\"name\":\"nrows\"},{\"default\":true,\"kind\":null,\"name\":\"allow_resize\"},{\"default\":true,\"kind\":null,\"name\":\"allow_drag\"},{\"default\":[],\"kind\":null,\"name\":\"state\"}]},{\"extends\":null,\"module\":null,\"name\":\"click1\",\"overrides\":[],\"properties\":[{\"default\":\"\",\"kind\":null,\"name\":\"terminal_output\"},{\"default\":\"\",\"kind\":null,\"name\":\"debug_name\"},{\"default\":0,\"kind\":null,\"name\":\"clears\"}]},{\"extends\":null,\"module\":null,\"name\":\"NotificationAreaBase1\",\"overrides\":[],\"properties\":[{\"default\":\"bottom-right\",\"kind\":null,\"name\":\"position\"},{\"default\":0,\"kind\":null,\"name\":\"_clear\"}]},{\"extends\":null,\"module\":null,\"name\":\"NotificationArea1\",\"overrides\":[],\"properties\":[{\"default\":[],\"kind\":null,\"name\":\"notifications\"},{\"default\":\"bottom-right\",\"kind\":null,\"name\":\"position\"},{\"default\":0,\"kind\":null,\"name\":\"_clear\"},{\"default\":[{\"background\":\"#ffc107\",\"icon\":{\"className\":\"fas fa-exclamation-triangle\",\"color\":\"white\",\"tagName\":\"i\"},\"type\":\"warning\"},{\"background\":\"#007bff\",\"icon\":{\"className\":\"fas fa-info-circle\",\"color\":\"white\",\"tagName\":\"i\"},\"type\":\"info\"}],\"kind\":null,\"name\":\"types\"}]},{\"extends\":null,\"module\":null,\"name\":\"Notification\",\"overrides\":[],\"properties\":[{\"default\":null,\"kind\":null,\"name\":\"background\"},{\"default\":3000,\"kind\":null,\"name\":\"duration\"},{\"default\":null,\"kind\":null,\"name\":\"icon\"},{\"default\":\"\",\"kind\":null,\"name\":\"message\"},{\"default\":null,\"kind\":null,\"name\":\"notification_type\"},{\"default\":false,\"kind\":null,\"name\":\"_destroyed\"}]},{\"extends\":null,\"module\":null,\"name\":\"TemplateActions1\",\"overrides\":[],\"properties\":[{\"default\":0,\"kind\":null,\"name\":\"open_modal\"},{\"default\":0,\"kind\":null,\"name\":\"close_modal\"}]},{\"extends\":null,\"module\":null,\"name\":\"MaterialTemplateActions1\",\"overrides\":[],\"properties\":[{\"default\":0,\"kind\":null,\"name\":\"open_modal\"},{\"default\":0,\"kind\":null,\"name\":\"close_modal\"}]}],\"roots\":{\"references\":[{\"attributes\":{\"client_comm_id\":\"9cacaf480ac54d33ac9bc05351d618a5\",\"comm_id\":\"518a466e56a14813b4ae3b90c52e094e\",\"plot_id\":\"1002\"},\"id\":\"1003\",\"type\":\"panel.models.comm_manager.CommManager\"},{\"attributes\":{\"reload\":false},\"id\":\"1004\",\"type\":\"panel.models.location.Location\"},{\"attributes\":{\"margin\":[5,10,5,10],\"options\":[\"2013\",\"2014\",\"2015\",\"2016\",\"2017\",\"2018\",\"2019\",\"2020\",\"2021\",\"2013\",\"2014\",\"2015\",\"2016\",\"2017\",\"2018\",\"2019\",\"2020\",\"2021\"],\"title\":\"Year\",\"value\":\"2013\"},\"id\":\"1002\",\"type\":\"panel.models.widgets.CustomSelect\"}],\"root_ids\":[\"1002\",\"1003\",\"1004\"]},\"title\":\"Bokeh Application\",\"version\":\"2.4.3\"}};\n",
       "    var render_items = [{\"docid\":\"9438d9e3-02dc-4260-bf9f-1da85c8fd4b7\",\"root_ids\":[\"1002\"],\"roots\":{\"1002\":\"f6967be9-6751-4f2b-b1fe-8942a796da90\"}}];\n",
>>>>>>> 62261214fd86d10151dd8483aa40a4df5a2ee098
       "    root.Bokeh.embed.embed_items_notebook(docs_json, render_items);\n",
       "    for (const render_item of render_items) {\n",
       "      for (const root_id of render_item.root_ids) {\n",
       "\tconst id_el = document.getElementById(root_id)\n",
       "\tif (id_el.children.length && (id_el.children[0].className === 'bk-root')) {\n",
       "\t  const root_el = id_el.children[0]\n",
       "\t  root_el.id = root_el.id + '-rendered'\n",
       "\t}\n",
       "      }\n",
       "    }\n",
       "  }\n",
<<<<<<< HEAD
       "  if (root.Bokeh !== undefined && root.Bokeh.Panel !== undefined && ( root['Tabulator'] !== undefined) && ( root['Tabulator'] !== undefined) && ( root['Tabulator'] !== undefined)) {\n",
=======
       "  if (root.Bokeh !== undefined && root.Bokeh.Panel !== undefined && ( root['Tabulator'] !== undefined) && ( root['Tabulator'] !== undefined)) {\n",
>>>>>>> 62261214fd86d10151dd8483aa40a4df5a2ee098
       "    embed_document(root);\n",
       "  } else {\n",
       "    var attempts = 0;\n",
       "    var timer = setInterval(function(root) {\n",
<<<<<<< HEAD
       "      if (root.Bokeh !== undefined && root.Bokeh.Panel !== undefined && (root['Tabulator'] !== undefined) && (root['Tabulator'] !== undefined) && (root['Tabulator'] !== undefined)) {\n",
=======
       "      if (root.Bokeh !== undefined && root.Bokeh.Panel !== undefined && (root['Tabulator'] !== undefined) && (root['Tabulator'] !== undefined)) {\n",
>>>>>>> 62261214fd86d10151dd8483aa40a4df5a2ee098
       "        clearInterval(timer);\n",
       "        embed_document(root);\n",
       "      } else if (document.readyState == \"complete\") {\n",
       "        attempts++;\n",
       "        if (attempts > 200) {\n",
       "          clearInterval(timer);\n",
       "          console.log(\"Bokeh: ERROR: Unable to run BokehJS code because BokehJS library is missing\");\n",
       "        }\n",
       "      }\n",
       "    }, 25, root)\n",
       "  }\n",
       "})(window);</script>"
      ],
      "text/plain": [
       "Select(name='Year', options=[2013, 2014, 2015, ...], value=2013)"
      ]
     },
<<<<<<< HEAD
     "execution_count": 9,
=======
     "execution_count": 10,
>>>>>>> 62261214fd86d10151dd8483aa40a4df5a2ee098
     "metadata": {
      "application/vnd.holoviews_exec.v0+json": {
       "id": "1002"
      }
     },
     "output_type": "execute_result"
    }
   ],
   "source": [
    "sliderYear = pn.widgets.Select(name = 'Year', options= list(WAD['Year']))\n",
    "sliderYear"
   ]
  },
  {
   "cell_type": "code",
<<<<<<< HEAD
   "execution_count": 10,
=======
   "execution_count": 11,
>>>>>>> 62261214fd86d10151dd8483aa40a4df5a2ee098
   "metadata": {},
   "outputs": [
    {
     "data": {},
     "metadata": {},
     "output_type": "display_data"
    },
    {
     "data": {
      "application/vnd.holoviews_exec.v0+json": "",
      "text/html": [
       "<div id='1005'>\n",
<<<<<<< HEAD
       "  <div class=\"bk-root\" id=\"a693036e-01ba-4fc2-b756-a4c1ec98da10\" data-root-id=\"1005\"></div>\n",
       "</div>\n",
       "<script type=\"application/javascript\">(function(root) {\n",
       "  function embed_document(root) {\n",
       "    var docs_json = {\"bf2824d9-02b2-4cb7-ac9c-9473ff0ddeda\":{\"defs\":[{\"extends\":null,\"module\":null,\"name\":\"ReactiveHTML1\",\"overrides\":[],\"properties\":[]},{\"extends\":null,\"module\":null,\"name\":\"FlexBox1\",\"overrides\":[],\"properties\":[{\"default\":\"flex-start\",\"kind\":null,\"name\":\"align_content\"},{\"default\":\"flex-start\",\"kind\":null,\"name\":\"align_items\"},{\"default\":\"row\",\"kind\":null,\"name\":\"flex_direction\"},{\"default\":\"wrap\",\"kind\":null,\"name\":\"flex_wrap\"},{\"default\":\"flex-start\",\"kind\":null,\"name\":\"justify_content\"}]},{\"extends\":null,\"module\":null,\"name\":\"GridStack1\",\"overrides\":[],\"properties\":[{\"default\":\"warn\",\"kind\":null,\"name\":\"mode\"},{\"default\":null,\"kind\":null,\"name\":\"ncols\"},{\"default\":null,\"kind\":null,\"name\":\"nrows\"},{\"default\":true,\"kind\":null,\"name\":\"allow_resize\"},{\"default\":true,\"kind\":null,\"name\":\"allow_drag\"},{\"default\":[],\"kind\":null,\"name\":\"state\"}]},{\"extends\":null,\"module\":null,\"name\":\"click1\",\"overrides\":[],\"properties\":[{\"default\":\"\",\"kind\":null,\"name\":\"terminal_output\"},{\"default\":\"\",\"kind\":null,\"name\":\"debug_name\"},{\"default\":0,\"kind\":null,\"name\":\"clears\"}]},{\"extends\":null,\"module\":null,\"name\":\"NotificationAreaBase1\",\"overrides\":[],\"properties\":[{\"default\":\"bottom-right\",\"kind\":null,\"name\":\"position\"},{\"default\":0,\"kind\":null,\"name\":\"_clear\"}]},{\"extends\":null,\"module\":null,\"name\":\"NotificationArea1\",\"overrides\":[],\"properties\":[{\"default\":[],\"kind\":null,\"name\":\"notifications\"},{\"default\":\"bottom-right\",\"kind\":null,\"name\":\"position\"},{\"default\":0,\"kind\":null,\"name\":\"_clear\"},{\"default\":[{\"background\":\"#ffc107\",\"icon\":{\"className\":\"fas fa-exclamation-triangle\",\"color\":\"white\",\"tagName\":\"i\"},\"type\":\"warning\"},{\"background\":\"#007bff\",\"icon\":{\"className\":\"fas fa-info-circle\",\"color\":\"white\",\"tagName\":\"i\"},\"type\":\"info\"}],\"kind\":null,\"name\":\"types\"}]},{\"extends\":null,\"module\":null,\"name\":\"Notification\",\"overrides\":[],\"properties\":[{\"default\":null,\"kind\":null,\"name\":\"background\"},{\"default\":3000,\"kind\":null,\"name\":\"duration\"},{\"default\":null,\"kind\":null,\"name\":\"icon\"},{\"default\":\"\",\"kind\":null,\"name\":\"message\"},{\"default\":null,\"kind\":null,\"name\":\"notification_type\"},{\"default\":false,\"kind\":null,\"name\":\"_destroyed\"}]},{\"extends\":null,\"module\":null,\"name\":\"TemplateActions1\",\"overrides\":[],\"properties\":[{\"default\":0,\"kind\":null,\"name\":\"open_modal\"},{\"default\":0,\"kind\":null,\"name\":\"close_modal\"}]},{\"extends\":null,\"module\":null,\"name\":\"MaterialTemplateActions1\",\"overrides\":[],\"properties\":[{\"default\":0,\"kind\":null,\"name\":\"open_modal\"},{\"default\":0,\"kind\":null,\"name\":\"close_modal\"}]}],\"roots\":{\"references\":[{\"attributes\":{\"active\":0,\"button_type\":\"warning\",\"labels\":[\"Southern Union Conference\",\"Northern Union Conference\"],\"margin\":[5,10,5,10]},\"id\":\"1005\",\"type\":\"RadioButtonGroup\"},{\"attributes\":{\"client_comm_id\":\"d2441450a44543878812f9017652b688\",\"comm_id\":\"b34b52a7cf57408185a4ce11c50f77cf\",\"plot_id\":\"1005\"},\"id\":\"1006\",\"type\":\"panel.models.comm_manager.CommManager\"}],\"root_ids\":[\"1005\",\"1006\"]},\"title\":\"Bokeh Application\",\"version\":\"2.4.3\"}};\n",
       "    var render_items = [{\"docid\":\"bf2824d9-02b2-4cb7-ac9c-9473ff0ddeda\",\"root_ids\":[\"1005\"],\"roots\":{\"1005\":\"a693036e-01ba-4fc2-b756-a4c1ec98da10\"}}];\n",
=======
       "  <div class=\"bk-root\" id=\"ff1de6af-30f2-403b-b320-ae75ef702f0d\" data-root-id=\"1005\"></div>\n",
       "</div>\n",
       "<script type=\"application/javascript\">(function(root) {\n",
       "  function embed_document(root) {\n",
       "    var docs_json = {\"65070854-e4e3-4b3c-bff6-38fa3aa8802a\":{\"defs\":[{\"extends\":null,\"module\":null,\"name\":\"ReactiveHTML1\",\"overrides\":[],\"properties\":[]},{\"extends\":null,\"module\":null,\"name\":\"FlexBox1\",\"overrides\":[],\"properties\":[{\"default\":\"flex-start\",\"kind\":null,\"name\":\"align_content\"},{\"default\":\"flex-start\",\"kind\":null,\"name\":\"align_items\"},{\"default\":\"row\",\"kind\":null,\"name\":\"flex_direction\"},{\"default\":\"wrap\",\"kind\":null,\"name\":\"flex_wrap\"},{\"default\":\"flex-start\",\"kind\":null,\"name\":\"justify_content\"}]},{\"extends\":null,\"module\":null,\"name\":\"GridStack1\",\"overrides\":[],\"properties\":[{\"default\":\"warn\",\"kind\":null,\"name\":\"mode\"},{\"default\":null,\"kind\":null,\"name\":\"ncols\"},{\"default\":null,\"kind\":null,\"name\":\"nrows\"},{\"default\":true,\"kind\":null,\"name\":\"allow_resize\"},{\"default\":true,\"kind\":null,\"name\":\"allow_drag\"},{\"default\":[],\"kind\":null,\"name\":\"state\"}]},{\"extends\":null,\"module\":null,\"name\":\"click1\",\"overrides\":[],\"properties\":[{\"default\":\"\",\"kind\":null,\"name\":\"terminal_output\"},{\"default\":\"\",\"kind\":null,\"name\":\"debug_name\"},{\"default\":0,\"kind\":null,\"name\":\"clears\"}]},{\"extends\":null,\"module\":null,\"name\":\"NotificationAreaBase1\",\"overrides\":[],\"properties\":[{\"default\":\"bottom-right\",\"kind\":null,\"name\":\"position\"},{\"default\":0,\"kind\":null,\"name\":\"_clear\"}]},{\"extends\":null,\"module\":null,\"name\":\"NotificationArea1\",\"overrides\":[],\"properties\":[{\"default\":[],\"kind\":null,\"name\":\"notifications\"},{\"default\":\"bottom-right\",\"kind\":null,\"name\":\"position\"},{\"default\":0,\"kind\":null,\"name\":\"_clear\"},{\"default\":[{\"background\":\"#ffc107\",\"icon\":{\"className\":\"fas fa-exclamation-triangle\",\"color\":\"white\",\"tagName\":\"i\"},\"type\":\"warning\"},{\"background\":\"#007bff\",\"icon\":{\"className\":\"fas fa-info-circle\",\"color\":\"white\",\"tagName\":\"i\"},\"type\":\"info\"}],\"kind\":null,\"name\":\"types\"}]},{\"extends\":null,\"module\":null,\"name\":\"Notification\",\"overrides\":[],\"properties\":[{\"default\":null,\"kind\":null,\"name\":\"background\"},{\"default\":3000,\"kind\":null,\"name\":\"duration\"},{\"default\":null,\"kind\":null,\"name\":\"icon\"},{\"default\":\"\",\"kind\":null,\"name\":\"message\"},{\"default\":null,\"kind\":null,\"name\":\"notification_type\"},{\"default\":false,\"kind\":null,\"name\":\"_destroyed\"}]},{\"extends\":null,\"module\":null,\"name\":\"TemplateActions1\",\"overrides\":[],\"properties\":[{\"default\":0,\"kind\":null,\"name\":\"open_modal\"},{\"default\":0,\"kind\":null,\"name\":\"close_modal\"}]},{\"extends\":null,\"module\":null,\"name\":\"MaterialTemplateActions1\",\"overrides\":[],\"properties\":[{\"default\":0,\"kind\":null,\"name\":\"open_modal\"},{\"default\":0,\"kind\":null,\"name\":\"close_modal\"}]}],\"roots\":{\"references\":[{\"attributes\":{\"client_comm_id\":\"b7e4f666cc9d4fd0bf04b7fdedf96eff\",\"comm_id\":\"1625bedf459e4157aeb55edcf13dcd76\",\"plot_id\":\"1005\"},\"id\":\"1006\",\"type\":\"panel.models.comm_manager.CommManager\"},{\"attributes\":{\"active\":0,\"button_type\":\"warning\",\"labels\":[\"Southern Union Conference\",\"Northern Union Conference\"],\"margin\":[5,10,5,10]},\"id\":\"1005\",\"type\":\"RadioButtonGroup\"}],\"root_ids\":[\"1005\",\"1006\"]},\"title\":\"Bokeh Application\",\"version\":\"2.4.3\"}};\n",
       "    var render_items = [{\"docid\":\"65070854-e4e3-4b3c-bff6-38fa3aa8802a\",\"root_ids\":[\"1005\"],\"roots\":{\"1005\":\"ff1de6af-30f2-403b-b320-ae75ef702f0d\"}}];\n",
>>>>>>> 62261214fd86d10151dd8483aa40a4df5a2ee098
       "    root.Bokeh.embed.embed_items_notebook(docs_json, render_items);\n",
       "    for (const render_item of render_items) {\n",
       "      for (const root_id of render_item.root_ids) {\n",
       "\tconst id_el = document.getElementById(root_id)\n",
       "\tif (id_el.children.length && (id_el.children[0].className === 'bk-root')) {\n",
       "\t  const root_el = id_el.children[0]\n",
       "\t  root_el.id = root_el.id + '-rendered'\n",
       "\t}\n",
       "      }\n",
       "    }\n",
       "  }\n",
<<<<<<< HEAD
       "  if (root.Bokeh !== undefined && root.Bokeh.Panel !== undefined && ( root['Tabulator'] !== undefined) && ( root['Tabulator'] !== undefined) && ( root['Tabulator'] !== undefined)) {\n",
=======
       "  if (root.Bokeh !== undefined && root.Bokeh.Panel !== undefined && ( root['Tabulator'] !== undefined) && ( root['Tabulator'] !== undefined)) {\n",
>>>>>>> 62261214fd86d10151dd8483aa40a4df5a2ee098
       "    embed_document(root);\n",
       "  } else {\n",
       "    var attempts = 0;\n",
       "    var timer = setInterval(function(root) {\n",
<<<<<<< HEAD
       "      if (root.Bokeh !== undefined && root.Bokeh.Panel !== undefined && (root['Tabulator'] !== undefined) && (root['Tabulator'] !== undefined) && (root['Tabulator'] !== undefined)) {\n",
=======
       "      if (root.Bokeh !== undefined && root.Bokeh.Panel !== undefined && (root['Tabulator'] !== undefined) && (root['Tabulator'] !== undefined)) {\n",
>>>>>>> 62261214fd86d10151dd8483aa40a4df5a2ee098
       "        clearInterval(timer);\n",
       "        embed_document(root);\n",
       "      } else if (document.readyState == \"complete\") {\n",
       "        attempts++;\n",
       "        if (attempts > 200) {\n",
       "          clearInterval(timer);\n",
       "          console.log(\"Bokeh: ERROR: Unable to run BokehJS code because BokehJS library is missing\");\n",
       "        }\n",
       "      }\n",
       "    }, 25, root)\n",
       "  }\n",
       "})(window);</script>"
      ],
      "text/plain": [
       "RadioButtonGroup(button_type='warning', name='Y axis', options=['Southern Union Conferenc...], value='Southern Union C...)"
      ]
     },
<<<<<<< HEAD
     "execution_count": 10,
=======
     "execution_count": 11,
>>>>>>> 62261214fd86d10151dd8483aa40a4df5a2ee098
     "metadata": {
      "application/vnd.holoviews_exec.v0+json": {
       "id": "1005"
      }
     },
     "output_type": "execute_result"
    }
   ],
   "source": [
    "Yearaxis = pn.widgets.RadioButtonGroup(name = 'Y axis', options= ['Southern Union Conference', 'Northern Union Conference'],\n",
    "                                    button_type = 'warning')\n",
    "Yearaxis"
   ]
  },
  {
   "cell_type": "markdown",
   "metadata": {},
   "source": [
    "### Data Pipeline "
   ]
  },
  {
   "cell_type": "code",
<<<<<<< HEAD
   "execution_count": 11,
=======
   "execution_count": 12,
>>>>>>> 62261214fd86d10151dd8483aa40a4df5a2ee098
   "metadata": {},
   "outputs": [
    {
     "data": {
      "text/plain": [
       "[2016, 2017, 2018, 2019, 2020, 2021, 2013, 2014, 2015]"
      ]
     },
<<<<<<< HEAD
     "execution_count": 11,
=======
     "execution_count": 12,
>>>>>>> 62261214fd86d10151dd8483aa40a4df5a2ee098
     "metadata": {},
     "output_type": "execute_result"
    }
   ],
   "source": [
    "Ghanaconferences = list(set(WAD.Ghana))\n",
    "Years  = list(set(WAD.Year))\n",
    "Years"
   ]
  },
  {
   "cell_type": "code",
<<<<<<< HEAD
   "execution_count": 12,
=======
   "execution_count": 13,
>>>>>>> 62261214fd86d10151dd8483aa40a4df5a2ee098
   "metadata": {
    "scrolled": true
   },
   "outputs": [
    {
     "data": {},
     "metadata": {},
     "output_type": "display_data"
    },
    {
     "data": {
      "application/vnd.holoviews_exec.v0+json": "",
      "text/html": [
       "<div id='1007'>\n",
<<<<<<< HEAD
       "  <div class=\"bk-root\" id=\"d2a708c8-107c-4f83-9d19-58fcd0bbbd17\" data-root-id=\"1007\"></div>\n",
       "</div>\n",
       "<script type=\"application/javascript\">(function(root) {\n",
       "  function embed_document(root) {\n",
       "    var docs_json = {\"9b992481-a204-4acf-99f9-0cf219bff1e4\":{\"defs\":[{\"extends\":null,\"module\":null,\"name\":\"ReactiveHTML1\",\"overrides\":[],\"properties\":[]},{\"extends\":null,\"module\":null,\"name\":\"FlexBox1\",\"overrides\":[],\"properties\":[{\"default\":\"flex-start\",\"kind\":null,\"name\":\"align_content\"},{\"default\":\"flex-start\",\"kind\":null,\"name\":\"align_items\"},{\"default\":\"row\",\"kind\":null,\"name\":\"flex_direction\"},{\"default\":\"wrap\",\"kind\":null,\"name\":\"flex_wrap\"},{\"default\":\"flex-start\",\"kind\":null,\"name\":\"justify_content\"}]},{\"extends\":null,\"module\":null,\"name\":\"GridStack1\",\"overrides\":[],\"properties\":[{\"default\":\"warn\",\"kind\":null,\"name\":\"mode\"},{\"default\":null,\"kind\":null,\"name\":\"ncols\"},{\"default\":null,\"kind\":null,\"name\":\"nrows\"},{\"default\":true,\"kind\":null,\"name\":\"allow_resize\"},{\"default\":true,\"kind\":null,\"name\":\"allow_drag\"},{\"default\":[],\"kind\":null,\"name\":\"state\"}]},{\"extends\":null,\"module\":null,\"name\":\"click1\",\"overrides\":[],\"properties\":[{\"default\":\"\",\"kind\":null,\"name\":\"terminal_output\"},{\"default\":\"\",\"kind\":null,\"name\":\"debug_name\"},{\"default\":0,\"kind\":null,\"name\":\"clears\"}]},{\"extends\":null,\"module\":null,\"name\":\"NotificationAreaBase1\",\"overrides\":[],\"properties\":[{\"default\":\"bottom-right\",\"kind\":null,\"name\":\"position\"},{\"default\":0,\"kind\":null,\"name\":\"_clear\"}]},{\"extends\":null,\"module\":null,\"name\":\"NotificationArea1\",\"overrides\":[],\"properties\":[{\"default\":[],\"kind\":null,\"name\":\"notifications\"},{\"default\":\"bottom-right\",\"kind\":null,\"name\":\"position\"},{\"default\":0,\"kind\":null,\"name\":\"_clear\"},{\"default\":[{\"background\":\"#ffc107\",\"icon\":{\"className\":\"fas fa-exclamation-triangle\",\"color\":\"white\",\"tagName\":\"i\"},\"type\":\"warning\"},{\"background\":\"#007bff\",\"icon\":{\"className\":\"fas fa-info-circle\",\"color\":\"white\",\"tagName\":\"i\"},\"type\":\"info\"}],\"kind\":null,\"name\":\"types\"}]},{\"extends\":null,\"module\":null,\"name\":\"Notification\",\"overrides\":[],\"properties\":[{\"default\":null,\"kind\":null,\"name\":\"background\"},{\"default\":3000,\"kind\":null,\"name\":\"duration\"},{\"default\":null,\"kind\":null,\"name\":\"icon\"},{\"default\":\"\",\"kind\":null,\"name\":\"message\"},{\"default\":null,\"kind\":null,\"name\":\"notification_type\"},{\"default\":false,\"kind\":null,\"name\":\"_destroyed\"}]},{\"extends\":null,\"module\":null,\"name\":\"TemplateActions1\",\"overrides\":[],\"properties\":[{\"default\":0,\"kind\":null,\"name\":\"open_modal\"},{\"default\":0,\"kind\":null,\"name\":\"close_modal\"}]},{\"extends\":null,\"module\":null,\"name\":\"MaterialTemplateActions1\",\"overrides\":[],\"properties\":[{\"default\":0,\"kind\":null,\"name\":\"open_modal\"},{\"default\":0,\"kind\":null,\"name\":\"close_modal\"}]}],\"roots\":{\"references\":[{\"attributes\":{\"margin\":[0,0,0,0],\"name\":\"Column01101\"},\"id\":\"1013\",\"type\":\"Column\"},{\"attributes\":{\"client_comm_id\":\"50879b88b5424221ae1615d6affd0c51\",\"comm_id\":\"31c79a2b21054845b495029a8f4611a5\",\"plot_id\":\"1007\"},\"id\":\"1016\",\"type\":\"panel.models.comm_manager.CommManager\"},{\"attributes\":{\"children\":[{\"id\":\"1008\"}],\"margin\":[0,0,0,0],\"name\":\"Row01105\"},\"id\":\"1007\",\"type\":\"Row\"},{\"attributes\":{\"children\":[{\"id\":\"1015\"}],\"margin\":[0,0,0,0],\"name\":\"Row01100\"},\"id\":\"1014\",\"type\":\"Row\"},{\"attributes\":{\"children\":[{\"id\":\"1010\"},{\"id\":\"1011\"}],\"margin\":[0,0,0,0],\"name\":\"Row01103\"},\"id\":\"1009\",\"type\":\"Row\"},{\"attributes\":{\"children\":[{\"id\":\"1013\"},{\"id\":\"1014\"}],\"margin\":[0,0,0,0],\"name\":\"Column01097\"},\"id\":\"1012\",\"type\":\"Column\"},{\"attributes\":{\"children\":[{\"id\":\"1009\"},{\"id\":\"1012\"}],\"margin\":[0,0,0,0],\"name\":\"Column01104\"},\"id\":\"1008\",\"type\":\"Column\"},{\"attributes\":{\"margin\":[5,5,5,5],\"name\":\"HSpacer01102\",\"sizing_mode\":\"stretch_width\"},\"id\":\"1011\",\"type\":\"Spacer\"},{\"attributes\":{\"margin\":[5,5,5,5],\"name\":\"DataFrame01098\",\"text\":\"&lt;table border=&quot;0&quot; class=&quot;dataframe panel-df&quot;&gt;\\n  &lt;thead&gt;\\n    &lt;tr style=&quot;text-align: right;&quot;&gt;\\n      &lt;th&gt;&lt;/th&gt;\\n      &lt;th&gt;index&lt;/th&gt;\\n      &lt;th&gt;Ghana&lt;/th&gt;\\n      &lt;th&gt;Year&lt;/th&gt;\\n      &lt;th&gt;Churches&lt;/th&gt;\\n      &lt;th&gt;Companies&lt;/th&gt;\\n      &lt;th&gt;Congregations&lt;/th&gt;\\n      &lt;th&gt;Beginning Membership&lt;/th&gt;\\n      &lt;th&gt;Baptisms&lt;/th&gt;\\n      &lt;th&gt;Former Member Baptisms&lt;/th&gt;\\n      &lt;th&gt;Professions of Faith&lt;/th&gt;\\n      &lt;th&gt;Transfers In&lt;/th&gt;\\n      &lt;th&gt;Transfers Out&lt;/th&gt;\\n      &lt;th&gt;Deaths&lt;/th&gt;\\n      &lt;th&gt;Dropped&lt;/th&gt;\\n      &lt;th&gt;Missing&lt;/th&gt;\\n      &lt;th&gt;Total Gains&lt;/th&gt;\\n      &lt;th&gt;Total Losses&lt;/th&gt;\\n      &lt;th&gt;Adjust&lt;/th&gt;\\n      &lt;th&gt;Net Growth&lt;/th&gt;\\n      &lt;th&gt;Ending Membership&lt;/th&gt;\\n      &lt;th&gt;Growth Rate&lt;/th&gt;\\n      &lt;th&gt;Accession Rate&lt;/th&gt;\\n      &lt;th&gt;Death Rate&lt;/th&gt;\\n      &lt;th&gt;Ordained Ministers&lt;/th&gt;\\n      &lt;th&gt;Licensed Ministers&lt;/th&gt;\\n      &lt;th&gt;Ministers&lt;/th&gt;\\n    &lt;/tr&gt;\\n  &lt;/thead&gt;\\n  &lt;tbody&gt;\\n    &lt;tr&gt;\\n      &lt;th&gt;0&lt;/th&gt;\\n      &lt;td&gt;0&lt;/td&gt;\\n      &lt;td&gt;North Ghana Union Conference&lt;/td&gt;\\n      &lt;td&gt;2013&lt;/td&gt;\\n      &lt;td&gt;733&lt;/td&gt;\\n      &lt;td&gt;1021&lt;/td&gt;\\n      &lt;td&gt;1754&lt;/td&gt;\\n      &lt;td&gt;256864&lt;/td&gt;\\n      &lt;td&gt;11354&lt;/td&gt;\\n      &lt;td&gt;0.0&lt;/td&gt;\\n      &lt;td&gt;110&lt;/td&gt;\\n      &lt;td&gt;581&lt;/td&gt;\\n      &lt;td&gt;679&lt;/td&gt;\\n      &lt;td&gt;620&lt;/td&gt;\\n      &lt;td&gt;111&lt;/td&gt;\\n      &lt;td&gt;95&lt;/td&gt;\\n      &lt;td&gt;12045&lt;/td&gt;\\n      &lt;td&gt;1505&lt;/td&gt;\\n      &lt;td&gt;2&lt;/td&gt;\\n      &lt;td&gt;10542&lt;/td&gt;\\n      &lt;td&gt;267406&lt;/td&gt;\\n      &lt;td&gt;0.0410&lt;/td&gt;\\n      &lt;td&gt;0.0446&lt;/td&gt;\\n      &lt;td&gt;0.0024&lt;/td&gt;\\n      &lt;td&gt;139.0&lt;/td&gt;\\n      &lt;td&gt;67.0&lt;/td&gt;\\n      &lt;td&gt;206&lt;/td&gt;\\n    &lt;/tr&gt;\\n    &lt;tr&gt;\\n      &lt;th&gt;9&lt;/th&gt;\\n      &lt;td&gt;9&lt;/td&gt;\\n      &lt;td&gt;Southern Ghana Union Conference&lt;/td&gt;\\n      &lt;td&gt;2013&lt;/td&gt;\\n      &lt;td&gt;548&lt;/td&gt;\\n      &lt;td&gt;799&lt;/td&gt;\\n      &lt;td&gt;1347&lt;/td&gt;\\n      &lt;td&gt;139951&lt;/td&gt;\\n      &lt;td&gt;9521&lt;/td&gt;\\n      &lt;td&gt;0.0&lt;/td&gt;\\n      &lt;td&gt;118&lt;/td&gt;\\n      &lt;td&gt;689&lt;/td&gt;\\n      &lt;td&gt;751&lt;/td&gt;\\n      &lt;td&gt;454&lt;/td&gt;\\n      &lt;td&gt;132&lt;/td&gt;\\n      &lt;td&gt;685&lt;/td&gt;\\n      &lt;td&gt;10328&lt;/td&gt;\\n      &lt;td&gt;2022&lt;/td&gt;\\n      &lt;td&gt;-6819&lt;/td&gt;\\n      &lt;td&gt;1487&lt;/td&gt;\\n      &lt;td&gt;141438&lt;/td&gt;\\n      &lt;td&gt;0.0106&lt;/td&gt;\\n      &lt;td&gt;0.0689&lt;/td&gt;\\n      &lt;td&gt;0.0032&lt;/td&gt;\\n      &lt;td&gt;105.0&lt;/td&gt;\\n      &lt;td&gt;76.0&lt;/td&gt;\\n      &lt;td&gt;181&lt;/td&gt;\\n    &lt;/tr&gt;\\n    &lt;tr&gt;\\n      &lt;th&gt;1&lt;/th&gt;\\n      &lt;td&gt;1&lt;/td&gt;\\n      &lt;td&gt;North Ghana Union Conference&lt;/td&gt;\\n      &lt;td&gt;2014&lt;/td&gt;\\n      &lt;td&gt;689&lt;/td&gt;\\n      &lt;td&gt;939&lt;/td&gt;\\n      &lt;td&gt;1628&lt;/td&gt;\\n      &lt;td&gt;267406&lt;/td&gt;\\n      &lt;td&gt;15015&lt;/td&gt;\\n      &lt;td&gt;0.0&lt;/td&gt;\\n      &lt;td&gt;120&lt;/td&gt;\\n      &lt;td&gt;12861&lt;/td&gt;\\n      &lt;td&gt;14740&lt;/td&gt;\\n      &lt;td&gt;653&lt;/td&gt;\\n      &lt;td&gt;201&lt;/td&gt;\\n      &lt;td&gt;41&lt;/td&gt;\\n      &lt;td&gt;27996&lt;/td&gt;\\n      &lt;td&gt;15635&lt;/td&gt;\\n      &lt;td&gt;-125335&lt;/td&gt;\\n      &lt;td&gt;-112974&lt;/td&gt;\\n      &lt;td&gt;154432&lt;/td&gt;\\n      &lt;td&gt;-0.4225&lt;/td&gt;\\n      &lt;td&gt;0.0566&lt;/td&gt;\\n      &lt;td&gt;0.0024&lt;/td&gt;\\n      &lt;td&gt;161.0&lt;/td&gt;\\n      &lt;td&gt;71.0&lt;/td&gt;\\n      &lt;td&gt;232&lt;/td&gt;\\n    &lt;/tr&gt;\\n    &lt;tr&gt;\\n      &lt;th&gt;10&lt;/th&gt;\\n      &lt;td&gt;10&lt;/td&gt;\\n      &lt;td&gt;Southern Ghana Union Conference&lt;/td&gt;\\n      &lt;td&gt;2014&lt;/td&gt;\\n      &lt;td&gt;687&lt;/td&gt;\\n      &lt;td&gt;993&lt;/td&gt;\\n      &lt;td&gt;1680&lt;/td&gt;\\n      &lt;td&gt;141438&lt;/td&gt;\\n      &lt;td&gt;13703&lt;/td&gt;\\n      &lt;td&gt;0.0&lt;/td&gt;\\n      &lt;td&gt;1003&lt;/td&gt;\\n      &lt;td&gt;785&lt;/td&gt;\\n      &lt;td&gt;484&lt;/td&gt;\\n      &lt;td&gt;420&lt;/td&gt;\\n      &lt;td&gt;95&lt;/td&gt;\\n      &lt;td&gt;142&lt;/td&gt;\\n      &lt;td&gt;15491&lt;/td&gt;\\n      &lt;td&gt;1141&lt;/td&gt;\\n      &lt;td&gt;-48437&lt;/td&gt;\\n      &lt;td&gt;-34087&lt;/td&gt;\\n      &lt;td&gt;107351&lt;/td&gt;\\n      &lt;td&gt;-0.2410&lt;/td&gt;\\n      &lt;td&gt;0.1040&lt;/td&gt;\\n      &lt;td&gt;0.0030&lt;/td&gt;\\n      &lt;td&gt;107.0&lt;/td&gt;\\n      &lt;td&gt;90.0&lt;/td&gt;\\n      &lt;td&gt;197&lt;/td&gt;\\n    &lt;/tr&gt;\\n    &lt;tr&gt;\\n      &lt;th&gt;2&lt;/th&gt;\\n      &lt;td&gt;2&lt;/td&gt;\\n      &lt;td&gt;North Ghana Union Conference&lt;/td&gt;\\n      &lt;td&gt;2015&lt;/td&gt;\\n      &lt;td&gt;705&lt;/td&gt;\\n      &lt;td&gt;955&lt;/td&gt;\\n      &lt;td&gt;1660&lt;/td&gt;\\n      &lt;td&gt;154432&lt;/td&gt;\\n      &lt;td&gt;15148&lt;/td&gt;\\n      &lt;td&gt;0.0&lt;/td&gt;\\n      &lt;td&gt;158&lt;/td&gt;\\n      &lt;td&gt;114886&lt;/td&gt;\\n      &lt;td&gt;114668&lt;/td&gt;\\n      &lt;td&gt;901&lt;/td&gt;\\n      &lt;td&gt;184&lt;/td&gt;\\n      &lt;td&gt;287&lt;/td&gt;\\n      &lt;td&gt;130192&lt;/td&gt;\\n      &lt;td&gt;116040&lt;/td&gt;\\n      &lt;td&gt;72&lt;/td&gt;\\n      &lt;td&gt;14224&lt;/td&gt;\\n      &lt;td&gt;168656&lt;/td&gt;\\n      &lt;td&gt;0.0921&lt;/td&gt;\\n      &lt;td&gt;0.0991&lt;/td&gt;\\n      &lt;td&gt;0.0058&lt;/td&gt;\\n      &lt;td&gt;0.0&lt;/td&gt;\\n      &lt;td&gt;0.0&lt;/td&gt;\\n      &lt;td&gt;0&lt;/td&gt;\\n    &lt;/tr&gt;\\n    &lt;tr&gt;\\n      &lt;th&gt;11&lt;/th&gt;\\n      &lt;td&gt;11&lt;/td&gt;\\n      &lt;td&gt;Southern Ghana Union Conference&lt;/td&gt;\\n      &lt;td&gt;2015&lt;/td&gt;\\n      &lt;td&gt;731&lt;/td&gt;\\n      &lt;td&gt;1037&lt;/td&gt;\\n      &lt;td&gt;1768&lt;/td&gt;\\n      &lt;td&gt;107351&lt;/td&gt;\\n      &lt;td&gt;13668&lt;/td&gt;\\n      &lt;td&gt;0.0&lt;/td&gt;\\n      &lt;td&gt;1228&lt;/td&gt;\\n      &lt;td&gt;21848&lt;/td&gt;\\n      &lt;td&gt;21589&lt;/td&gt;\\n      &lt;td&gt;492&lt;/td&gt;\\n      &lt;td&gt;95&lt;/td&gt;\\n      &lt;td&gt;611&lt;/td&gt;\\n      &lt;td&gt;36744&lt;/td&gt;\\n      &lt;td&gt;22787&lt;/td&gt;\\n      &lt;td&gt;-67&lt;/td&gt;\\n      &lt;td&gt;13890&lt;/td&gt;\\n      &lt;td&gt;121241&lt;/td&gt;\\n      &lt;td&gt;0.1294&lt;/td&gt;\\n      &lt;td&gt;0.1388&lt;/td&gt;\\n      &lt;td&gt;0.0046&lt;/td&gt;\\n      &lt;td&gt;0.0&lt;/td&gt;\\n      &lt;td&gt;0.0&lt;/td&gt;\\n      &lt;td&gt;0&lt;/td&gt;\\n    &lt;/tr&gt;\\n    &lt;tr&gt;\\n      &lt;th&gt;3&lt;/th&gt;\\n      &lt;td&gt;3&lt;/td&gt;\\n      &lt;td&gt;North Ghana Union Conference&lt;/td&gt;\\n      &lt;td&gt;2016&lt;/td&gt;\\n      &lt;td&gt;783&lt;/td&gt;\\n      &lt;td&gt;986&lt;/td&gt;\\n      &lt;td&gt;1769&lt;/td&gt;\\n      &lt;td&gt;168656&lt;/td&gt;\\n      &lt;td&gt;13144&lt;/td&gt;\\n      &lt;td&gt;0.0&lt;/td&gt;\\n      &lt;td&gt;116&lt;/td&gt;\\n      &lt;td&gt;8763&lt;/td&gt;\\n      &lt;td&gt;10016&lt;/td&gt;\\n      &lt;td&gt;889&lt;/td&gt;\\n      &lt;td&gt;330&lt;/td&gt;\\n      &lt;td&gt;349&lt;/td&gt;\\n      &lt;td&gt;22023&lt;/td&gt;\\n      &lt;td&gt;11584&lt;/td&gt;\\n      &lt;td&gt;64&lt;/td&gt;\\n      &lt;td&gt;10503&lt;/td&gt;\\n      &lt;td&gt;179159&lt;/td&gt;\\n      &lt;td&gt;0.0623&lt;/td&gt;\\n      &lt;td&gt;0.0786&lt;/td&gt;\\n      &lt;td&gt;0.0053&lt;/td&gt;\\n      &lt;td&gt;0.0&lt;/td&gt;\\n      &lt;td&gt;0.0&lt;/td&gt;\\n      &lt;td&gt;0&lt;/td&gt;\\n    &lt;/tr&gt;\\n    &lt;tr&gt;\\n      &lt;th&gt;12&lt;/th&gt;\\n      &lt;td&gt;12&lt;/td&gt;\\n      &lt;td&gt;Southern Ghana Union Conference&lt;/td&gt;\\n      &lt;td&gt;2016&lt;/td&gt;\\n      &lt;td&gt;806&lt;/td&gt;\\n      &lt;td&gt;1066&lt;/td&gt;\\n      &lt;td&gt;1872&lt;/td&gt;\\n      &lt;td&gt;121241&lt;/td&gt;\\n      &lt;td&gt;12664&lt;/td&gt;\\n      &lt;td&gt;0.0&lt;/td&gt;\\n      &lt;td&gt;612&lt;/td&gt;\\n      &lt;td&gt;1559&lt;/td&gt;\\n      &lt;td&gt;1822&lt;/td&gt;\\n      &lt;td&gt;591&lt;/td&gt;\\n      &lt;td&gt;264&lt;/td&gt;\\n      &lt;td&gt;323&lt;/td&gt;\\n      &lt;td&gt;14835&lt;/td&gt;\\n      &lt;td&gt;3000&lt;/td&gt;\\n      &lt;td&gt;631&lt;/td&gt;\\n      &lt;td&gt;12466&lt;/td&gt;\\n      &lt;td&gt;133707&lt;/td&gt;\\n      &lt;td&gt;0.1028&lt;/td&gt;\\n      &lt;td&gt;0.1095&lt;/td&gt;\\n      &lt;td&gt;0.0049&lt;/td&gt;\\n      &lt;td&gt;0.0&lt;/td&gt;\\n      &lt;td&gt;0.0&lt;/td&gt;\\n      &lt;td&gt;0&lt;/td&gt;\\n    &lt;/tr&gt;\\n    &lt;tr&gt;\\n      &lt;th&gt;4&lt;/th&gt;\\n      &lt;td&gt;4&lt;/td&gt;\\n      &lt;td&gt;North Ghana Union Conference&lt;/td&gt;\\n      &lt;td&gt;2017&lt;/td&gt;\\n      &lt;td&gt;835&lt;/td&gt;\\n      &lt;td&gt;1046&lt;/td&gt;\\n      &lt;td&gt;1881&lt;/td&gt;\\n      &lt;td&gt;179159&lt;/td&gt;\\n      &lt;td&gt;13985&lt;/td&gt;\\n      &lt;td&gt;8.0&lt;/td&gt;\\n      &lt;td&gt;106&lt;/td&gt;\\n      &lt;td&gt;2673&lt;/td&gt;\\n      &lt;td&gt;4062&lt;/td&gt;\\n      &lt;td&gt;755&lt;/td&gt;\\n      &lt;td&gt;249&lt;/td&gt;\\n      &lt;td&gt;182&lt;/td&gt;\\n      &lt;td&gt;16772&lt;/td&gt;\\n      &lt;td&gt;5248&lt;/td&gt;\\n      &lt;td&gt;-35&lt;/td&gt;\\n      &lt;td&gt;11489&lt;/td&gt;\\n      &lt;td&gt;190648&lt;/td&gt;\\n      &lt;td&gt;0.0641&lt;/td&gt;\\n      &lt;td&gt;0.0787&lt;/td&gt;\\n      &lt;td&gt;0.0042&lt;/td&gt;\\n      &lt;td&gt;0.0&lt;/td&gt;\\n      &lt;td&gt;0.0&lt;/td&gt;\\n      &lt;td&gt;0&lt;/td&gt;\\n    &lt;/tr&gt;\\n    &lt;tr&gt;\\n      &lt;th&gt;13&lt;/th&gt;\\n      &lt;td&gt;13&lt;/td&gt;\\n      &lt;td&gt;Southern Ghana Union Conference&lt;/td&gt;\\n      &lt;td&gt;2017&lt;/td&gt;\\n      &lt;td&gt;887&lt;/td&gt;\\n      &lt;td&gt;1168&lt;/td&gt;\\n      &lt;td&gt;2055&lt;/td&gt;\\n      &lt;td&gt;133707&lt;/td&gt;\\n      &lt;td&gt;17805&lt;/td&gt;\\n      &lt;td&gt;0.0&lt;/td&gt;\\n      &lt;td&gt;562&lt;/td&gt;\\n      &lt;td&gt;83096&lt;/td&gt;\\n      &lt;td&gt;82746&lt;/td&gt;\\n      &lt;td&gt;602&lt;/td&gt;\\n      &lt;td&gt;143&lt;/td&gt;\\n      &lt;td&gt;148&lt;/td&gt;\\n      &lt;td&gt;101463&lt;/td&gt;\\n      &lt;td&gt;83639&lt;/td&gt;\\n      &lt;td&gt;6&lt;/td&gt;\\n      &lt;td&gt;17836&lt;/td&gt;\\n      &lt;td&gt;151543&lt;/td&gt;\\n      &lt;td&gt;0.1334&lt;/td&gt;\\n      &lt;td&gt;0.1374&lt;/td&gt;\\n      &lt;td&gt;0.0045&lt;/td&gt;\\n      &lt;td&gt;0.0&lt;/td&gt;\\n      &lt;td&gt;0.0&lt;/td&gt;\\n      &lt;td&gt;0&lt;/td&gt;\\n    &lt;/tr&gt;\\n    &lt;tr&gt;\\n      &lt;th&gt;5&lt;/th&gt;\\n      &lt;td&gt;5&lt;/td&gt;\\n      &lt;td&gt;North Ghana Union Conference&lt;/td&gt;\\n      &lt;td&gt;2018&lt;/td&gt;\\n      &lt;td&gt;902&lt;/td&gt;\\n      &lt;td&gt;1092&lt;/td&gt;\\n      &lt;td&gt;1994&lt;/td&gt;\\n      &lt;td&gt;190648&lt;/td&gt;\\n      &lt;td&gt;12076&lt;/td&gt;\\n      &lt;td&gt;114.0&lt;/td&gt;\\n      &lt;td&gt;87&lt;/td&gt;\\n      &lt;td&gt;4809&lt;/td&gt;\\n      &lt;td&gt;7190&lt;/td&gt;\\n      &lt;td&gt;734&lt;/td&gt;\\n      &lt;td&gt;245&lt;/td&gt;\\n      &lt;td&gt;359&lt;/td&gt;\\n      &lt;td&gt;17086&lt;/td&gt;\\n      &lt;td&gt;8528&lt;/td&gt;\\n      &lt;td&gt;-319&lt;/td&gt;\\n      &lt;td&gt;8239&lt;/td&gt;\\n      &lt;td&gt;198887&lt;/td&gt;\\n      &lt;td&gt;0.0432&lt;/td&gt;\\n      &lt;td&gt;0.0638&lt;/td&gt;\\n      &lt;td&gt;0.0039&lt;/td&gt;\\n      &lt;td&gt;0.0&lt;/td&gt;\\n      &lt;td&gt;0.0&lt;/td&gt;\\n      &lt;td&gt;0&lt;/td&gt;\\n    &lt;/tr&gt;\\n    &lt;tr&gt;\\n      &lt;th&gt;14&lt;/th&gt;\\n      &lt;td&gt;14&lt;/td&gt;\\n      &lt;td&gt;Southern Ghana Union Conference&lt;/td&gt;\\n      &lt;td&gt;2018&lt;/td&gt;\\n      &lt;td&gt;927&lt;/td&gt;\\n      &lt;td&gt;1244&lt;/td&gt;\\n      &lt;td&gt;2171&lt;/td&gt;\\n      &lt;td&gt;151543&lt;/td&gt;\\n      &lt;td&gt;16127&lt;/td&gt;\\n      &lt;td&gt;0.0&lt;/td&gt;\\n      &lt;td&gt;180&lt;/td&gt;\\n      &lt;td&gt;1512&lt;/td&gt;\\n      &lt;td&gt;1351&lt;/td&gt;\\n      &lt;td&gt;611&lt;/td&gt;\\n      &lt;td&gt;157&lt;/td&gt;\\n      &lt;td&gt;325&lt;/td&gt;\\n      &lt;td&gt;17819&lt;/td&gt;\\n      &lt;td&gt;2444&lt;/td&gt;\\n      &lt;td&gt;-167&lt;/td&gt;\\n      &lt;td&gt;15225&lt;/td&gt;\\n      &lt;td&gt;166768&lt;/td&gt;\\n      &lt;td&gt;0.1005&lt;/td&gt;\\n      &lt;td&gt;0.1076&lt;/td&gt;\\n      &lt;td&gt;0.0040&lt;/td&gt;\\n      &lt;td&gt;0.0&lt;/td&gt;\\n      &lt;td&gt;0.0&lt;/td&gt;\\n      &lt;td&gt;0&lt;/td&gt;\\n    &lt;/tr&gt;\\n    &lt;tr&gt;\\n      &lt;th&gt;6&lt;/th&gt;\\n      &lt;td&gt;6&lt;/td&gt;\\n      &lt;td&gt;North Ghana Union Conference&lt;/td&gt;\\n      &lt;td&gt;2019&lt;/td&gt;\\n      &lt;td&gt;967&lt;/td&gt;\\n      &lt;td&gt;1084&lt;/td&gt;\\n      &lt;td&gt;2051&lt;/td&gt;\\n      &lt;td&gt;198887&lt;/td&gt;\\n      &lt;td&gt;8378&lt;/td&gt;\\n      &lt;td&gt;17.0&lt;/td&gt;\\n      &lt;td&gt;105&lt;/td&gt;\\n      &lt;td&gt;4215&lt;/td&gt;\\n      &lt;td&gt;4757&lt;/td&gt;\\n      &lt;td&gt;629&lt;/td&gt;\\n      &lt;td&gt;501&lt;/td&gt;\\n      &lt;td&gt;397&lt;/td&gt;\\n      &lt;td&gt;12715&lt;/td&gt;\\n      &lt;td&gt;6284&lt;/td&gt;\\n      &lt;td&gt;-9804&lt;/td&gt;\\n      &lt;td&gt;-3373&lt;/td&gt;\\n      &lt;td&gt;195514&lt;/td&gt;\\n      &lt;td&gt;-0.0170&lt;/td&gt;\\n      &lt;td&gt;0.0427&lt;/td&gt;\\n      &lt;td&gt;0.0032&lt;/td&gt;\\n      &lt;td&gt;0.0&lt;/td&gt;\\n      &lt;td&gt;0.0&lt;/td&gt;\\n      &lt;td&gt;0&lt;/td&gt;\\n    &lt;/tr&gt;\\n    &lt;tr&gt;\\n      &lt;th&gt;15&lt;/th&gt;\\n      &lt;td&gt;15&lt;/td&gt;\\n      &lt;td&gt;Southern Ghana Union Conference&lt;/td&gt;\\n      &lt;td&gt;2019&lt;/td&gt;\\n      &lt;td&gt;964&lt;/td&gt;\\n      &lt;td&gt;1229&lt;/td&gt;\\n      &lt;td&gt;2193&lt;/td&gt;\\n      &lt;td&gt;166768&lt;/td&gt;\\n      &lt;td&gt;9679&lt;/td&gt;\\n      &lt;td&gt;0.0&lt;/td&gt;\\n      &lt;td&gt;76&lt;/td&gt;\\n      &lt;td&gt;1300&lt;/td&gt;\\n      &lt;td&gt;1282&lt;/td&gt;\\n      &lt;td&gt;561&lt;/td&gt;\\n      &lt;td&gt;117&lt;/td&gt;\\n      &lt;td&gt;488&lt;/td&gt;\\n      &lt;td&gt;11055&lt;/td&gt;\\n      &lt;td&gt;2448&lt;/td&gt;\\n      &lt;td&gt;502&lt;/td&gt;\\n      &lt;td&gt;9118&lt;/td&gt;\\n      &lt;td&gt;175886&lt;/td&gt;\\n      &lt;td&gt;0.0547&lt;/td&gt;\\n      &lt;td&gt;0.0585&lt;/td&gt;\\n      &lt;td&gt;0.0034&lt;/td&gt;\\n      &lt;td&gt;0.0&lt;/td&gt;\\n      &lt;td&gt;0.0&lt;/td&gt;\\n      &lt;td&gt;0&lt;/td&gt;\\n    &lt;/tr&gt;\\n    &lt;tr&gt;\\n      &lt;th&gt;7&lt;/th&gt;\\n      &lt;td&gt;7&lt;/td&gt;\\n      &lt;td&gt;North Ghana Union Conference&lt;/td&gt;\\n      &lt;td&gt;2020&lt;/td&gt;\\n      &lt;td&gt;1014&lt;/td&gt;\\n      &lt;td&gt;1127&lt;/td&gt;\\n      &lt;td&gt;2141&lt;/td&gt;\\n      &lt;td&gt;195514&lt;/td&gt;\\n      &lt;td&gt;5697&lt;/td&gt;\\n      &lt;td&gt;16.0&lt;/td&gt;\\n      &lt;td&gt;20&lt;/td&gt;\\n      &lt;td&gt;2854&lt;/td&gt;\\n      &lt;td&gt;3078&lt;/td&gt;\\n      &lt;td&gt;368&lt;/td&gt;\\n      &lt;td&gt;49&lt;/td&gt;\\n      &lt;td&gt;525&lt;/td&gt;\\n      &lt;td&gt;8587&lt;/td&gt;\\n      &lt;td&gt;4020&lt;/td&gt;\\n      &lt;td&gt;-5364&lt;/td&gt;\\n      &lt;td&gt;-797&lt;/td&gt;\\n      &lt;td&gt;194717&lt;/td&gt;\\n      &lt;td&gt;-0.0041&lt;/td&gt;\\n      &lt;td&gt;0.0292&lt;/td&gt;\\n      &lt;td&gt;0.0019&lt;/td&gt;\\n      &lt;td&gt;0.0&lt;/td&gt;\\n      &lt;td&gt;0.0&lt;/td&gt;\\n      &lt;td&gt;0&lt;/td&gt;\\n    &lt;/tr&gt;\\n    &lt;tr&gt;\\n      &lt;th&gt;16&lt;/th&gt;\\n      &lt;td&gt;16&lt;/td&gt;\\n      &lt;td&gt;Southern Ghana Union Conference&lt;/td&gt;\\n      &lt;td&gt;2020&lt;/td&gt;\\n      &lt;td&gt;1009&lt;/td&gt;\\n      &lt;td&gt;1236&lt;/td&gt;\\n      &lt;td&gt;2245&lt;/td&gt;\\n      &lt;td&gt;175886&lt;/td&gt;\\n      &lt;td&gt;4199&lt;/td&gt;\\n      &lt;td&gt;0.0&lt;/td&gt;\\n      &lt;td&gt;26&lt;/td&gt;\\n      &lt;td&gt;1450&lt;/td&gt;\\n      &lt;td&gt;1121&lt;/td&gt;\\n      &lt;td&gt;448&lt;/td&gt;\\n      &lt;td&gt;116&lt;/td&gt;\\n      &lt;td&gt;320&lt;/td&gt;\\n      &lt;td&gt;5675&lt;/td&gt;\\n      &lt;td&gt;2005&lt;/td&gt;\\n      &lt;td&gt;-668&lt;/td&gt;\\n      &lt;td&gt;3055&lt;/td&gt;\\n      &lt;td&gt;178941&lt;/td&gt;\\n      &lt;td&gt;0.0174&lt;/td&gt;\\n      &lt;td&gt;0.0240&lt;/td&gt;\\n      &lt;td&gt;0.0025&lt;/td&gt;\\n      &lt;td&gt;0.0&lt;/td&gt;\\n      &lt;td&gt;0.0&lt;/td&gt;\\n      &lt;td&gt;0&lt;/td&gt;\\n    &lt;/tr&gt;\\n    &lt;tr&gt;\\n      &lt;th&gt;8&lt;/th&gt;\\n      &lt;td&gt;8&lt;/td&gt;\\n      &lt;td&gt;North Ghana Union Conference&lt;/td&gt;\\n      &lt;td&gt;2021&lt;/td&gt;\\n      &lt;td&gt;1050&lt;/td&gt;\\n      &lt;td&gt;1112&lt;/td&gt;\\n      &lt;td&gt;2162&lt;/td&gt;\\n      &lt;td&gt;194717&lt;/td&gt;\\n      &lt;td&gt;9956&lt;/td&gt;\\n      &lt;td&gt;26.0&lt;/td&gt;\\n      &lt;td&gt;28&lt;/td&gt;\\n      &lt;td&gt;3371&lt;/td&gt;\\n      &lt;td&gt;3389&lt;/td&gt;\\n      &lt;td&gt;469&lt;/td&gt;\\n      &lt;td&gt;387&lt;/td&gt;\\n      &lt;td&gt;157&lt;/td&gt;\\n      &lt;td&gt;13381&lt;/td&gt;\\n      &lt;td&gt;4402&lt;/td&gt;\\n      &lt;td&gt;-2148&lt;/td&gt;\\n      &lt;td&gt;6831&lt;/td&gt;\\n      &lt;td&gt;201548&lt;/td&gt;\\n      &lt;td&gt;0.0351&lt;/td&gt;\\n      &lt;td&gt;0.0513&lt;/td&gt;\\n      &lt;td&gt;0.0024&lt;/td&gt;\\n      &lt;td&gt;0.0&lt;/td&gt;\\n      &lt;td&gt;0.0&lt;/td&gt;\\n      &lt;td&gt;0&lt;/td&gt;\\n    &lt;/tr&gt;\\n    &lt;tr&gt;\\n      &lt;th&gt;17&lt;/th&gt;\\n      &lt;td&gt;17&lt;/td&gt;\\n      &lt;td&gt;Southern Ghana Union Conference&lt;/td&gt;\\n      &lt;td&gt;2021&lt;/td&gt;\\n      &lt;td&gt;1040&lt;/td&gt;\\n      &lt;td&gt;1259&lt;/td&gt;\\n      &lt;td&gt;2299&lt;/td&gt;\\n      &lt;td&gt;178941&lt;/td&gt;\\n      &lt;td&gt;7367&lt;/td&gt;\\n      &lt;td&gt;0.0&lt;/td&gt;\\n      &lt;td&gt;95&lt;/td&gt;\\n      &lt;td&gt;996&lt;/td&gt;\\n      &lt;td&gt;1070&lt;/td&gt;\\n      &lt;td&gt;495&lt;/td&gt;\\n      &lt;td&gt;56&lt;/td&gt;\\n      &lt;td&gt;219&lt;/td&gt;\\n      &lt;td&gt;8458&lt;/td&gt;\\n      &lt;td&gt;1840&lt;/td&gt;\\n      &lt;td&gt;239&lt;/td&gt;\\n      &lt;td&gt;6890&lt;/td&gt;\\n      &lt;td&gt;185831&lt;/td&gt;\\n      &lt;td&gt;0.0385&lt;/td&gt;\\n      &lt;td&gt;0.0417&lt;/td&gt;\\n      &lt;td&gt;0.0028&lt;/td&gt;\\n      &lt;td&gt;0.0&lt;/td&gt;\\n      &lt;td&gt;0.0&lt;/td&gt;\\n      &lt;td&gt;0&lt;/td&gt;\\n    &lt;/tr&gt;\\n  &lt;/tbody&gt;\\n&lt;/table&gt;\"},\"id\":\"1015\",\"type\":\"panel.models.markup.HTML\"},{\"attributes\":{\"margin\":[0,0,0,0],\"name\":\"Column01095\"},\"id\":\"1010\",\"type\":\"Column\"}],\"root_ids\":[\"1007\",\"1016\"]},\"title\":\"Bokeh Application\",\"version\":\"2.4.3\"}};\n",
       "    var render_items = [{\"docid\":\"9b992481-a204-4acf-99f9-0cf219bff1e4\",\"root_ids\":[\"1007\"],\"roots\":{\"1007\":\"d2a708c8-107c-4f83-9d19-58fcd0bbbd17\"}}];\n",
=======
       "  <div class=\"bk-root\" id=\"a9d90e93-4a49-4e30-9917-5307ffcd460c\" data-root-id=\"1007\"></div>\n",
       "</div>\n",
       "<script type=\"application/javascript\">(function(root) {\n",
       "  function embed_document(root) {\n",
       "    var docs_json = {\"48618fab-8bb5-422d-a9d7-3c03b701078c\":{\"defs\":[{\"extends\":null,\"module\":null,\"name\":\"ReactiveHTML1\",\"overrides\":[],\"properties\":[]},{\"extends\":null,\"module\":null,\"name\":\"FlexBox1\",\"overrides\":[],\"properties\":[{\"default\":\"flex-start\",\"kind\":null,\"name\":\"align_content\"},{\"default\":\"flex-start\",\"kind\":null,\"name\":\"align_items\"},{\"default\":\"row\",\"kind\":null,\"name\":\"flex_direction\"},{\"default\":\"wrap\",\"kind\":null,\"name\":\"flex_wrap\"},{\"default\":\"flex-start\",\"kind\":null,\"name\":\"justify_content\"}]},{\"extends\":null,\"module\":null,\"name\":\"GridStack1\",\"overrides\":[],\"properties\":[{\"default\":\"warn\",\"kind\":null,\"name\":\"mode\"},{\"default\":null,\"kind\":null,\"name\":\"ncols\"},{\"default\":null,\"kind\":null,\"name\":\"nrows\"},{\"default\":true,\"kind\":null,\"name\":\"allow_resize\"},{\"default\":true,\"kind\":null,\"name\":\"allow_drag\"},{\"default\":[],\"kind\":null,\"name\":\"state\"}]},{\"extends\":null,\"module\":null,\"name\":\"click1\",\"overrides\":[],\"properties\":[{\"default\":\"\",\"kind\":null,\"name\":\"terminal_output\"},{\"default\":\"\",\"kind\":null,\"name\":\"debug_name\"},{\"default\":0,\"kind\":null,\"name\":\"clears\"}]},{\"extends\":null,\"module\":null,\"name\":\"NotificationAreaBase1\",\"overrides\":[],\"properties\":[{\"default\":\"bottom-right\",\"kind\":null,\"name\":\"position\"},{\"default\":0,\"kind\":null,\"name\":\"_clear\"}]},{\"extends\":null,\"module\":null,\"name\":\"NotificationArea1\",\"overrides\":[],\"properties\":[{\"default\":[],\"kind\":null,\"name\":\"notifications\"},{\"default\":\"bottom-right\",\"kind\":null,\"name\":\"position\"},{\"default\":0,\"kind\":null,\"name\":\"_clear\"},{\"default\":[{\"background\":\"#ffc107\",\"icon\":{\"className\":\"fas fa-exclamation-triangle\",\"color\":\"white\",\"tagName\":\"i\"},\"type\":\"warning\"},{\"background\":\"#007bff\",\"icon\":{\"className\":\"fas fa-info-circle\",\"color\":\"white\",\"tagName\":\"i\"},\"type\":\"info\"}],\"kind\":null,\"name\":\"types\"}]},{\"extends\":null,\"module\":null,\"name\":\"Notification\",\"overrides\":[],\"properties\":[{\"default\":null,\"kind\":null,\"name\":\"background\"},{\"default\":3000,\"kind\":null,\"name\":\"duration\"},{\"default\":null,\"kind\":null,\"name\":\"icon\"},{\"default\":\"\",\"kind\":null,\"name\":\"message\"},{\"default\":null,\"kind\":null,\"name\":\"notification_type\"},{\"default\":false,\"kind\":null,\"name\":\"_destroyed\"}]},{\"extends\":null,\"module\":null,\"name\":\"TemplateActions1\",\"overrides\":[],\"properties\":[{\"default\":0,\"kind\":null,\"name\":\"open_modal\"},{\"default\":0,\"kind\":null,\"name\":\"close_modal\"}]},{\"extends\":null,\"module\":null,\"name\":\"MaterialTemplateActions1\",\"overrides\":[],\"properties\":[{\"default\":0,\"kind\":null,\"name\":\"open_modal\"},{\"default\":0,\"kind\":null,\"name\":\"close_modal\"}]}],\"roots\":{\"references\":[{\"attributes\":{\"margin\":[0,0,0,0],\"name\":\"Column01101\"},\"id\":\"1013\",\"type\":\"Column\"},{\"attributes\":{\"children\":[{\"id\":\"1015\"}],\"margin\":[0,0,0,0],\"name\":\"Row01100\"},\"id\":\"1014\",\"type\":\"Row\"},{\"attributes\":{\"margin\":[5,5,5,5],\"name\":\"HSpacer01102\",\"sizing_mode\":\"stretch_width\"},\"id\":\"1011\",\"type\":\"Spacer\"},{\"attributes\":{\"children\":[{\"id\":\"1013\"},{\"id\":\"1014\"}],\"margin\":[0,0,0,0],\"name\":\"Column01097\"},\"id\":\"1012\",\"type\":\"Column\"},{\"attributes\":{\"children\":[{\"id\":\"1008\"}],\"margin\":[0,0,0,0],\"name\":\"Row01105\"},\"id\":\"1007\",\"type\":\"Row\"},{\"attributes\":{\"margin\":[0,0,0,0],\"name\":\"Column01095\"},\"id\":\"1010\",\"type\":\"Column\"},{\"attributes\":{\"children\":[{\"id\":\"1009\"},{\"id\":\"1012\"}],\"margin\":[0,0,0,0],\"name\":\"Column01104\"},\"id\":\"1008\",\"type\":\"Column\"},{\"attributes\":{\"client_comm_id\":\"304845215440407e913e62ee219f0440\",\"comm_id\":\"d9ef33caa454482dbd45bb92e158004e\",\"plot_id\":\"1007\"},\"id\":\"1016\",\"type\":\"panel.models.comm_manager.CommManager\"},{\"attributes\":{\"children\":[{\"id\":\"1010\"},{\"id\":\"1011\"}],\"margin\":[0,0,0,0],\"name\":\"Row01103\"},\"id\":\"1009\",\"type\":\"Row\"},{\"attributes\":{\"margin\":[5,5,5,5],\"name\":\"DataFrame01098\",\"text\":\"&lt;table border=&quot;0&quot; class=&quot;dataframe panel-df&quot;&gt;\\n  &lt;thead&gt;\\n    &lt;tr style=&quot;text-align: right;&quot;&gt;\\n      &lt;th&gt;&lt;/th&gt;\\n      &lt;th&gt;index&lt;/th&gt;\\n      &lt;th&gt;Ghana&lt;/th&gt;\\n      &lt;th&gt;Year&lt;/th&gt;\\n      &lt;th&gt;Churches&lt;/th&gt;\\n      &lt;th&gt;Companies&lt;/th&gt;\\n      &lt;th&gt;Congregations&lt;/th&gt;\\n      &lt;th&gt;Beginning Membership&lt;/th&gt;\\n      &lt;th&gt;Baptisms&lt;/th&gt;\\n      &lt;th&gt;Former Member Baptisms&lt;/th&gt;\\n      &lt;th&gt;Professions of Faith&lt;/th&gt;\\n      &lt;th&gt;Transfers In&lt;/th&gt;\\n      &lt;th&gt;Transfers Out&lt;/th&gt;\\n      &lt;th&gt;Deaths&lt;/th&gt;\\n      &lt;th&gt;Dropped&lt;/th&gt;\\n      &lt;th&gt;Missing&lt;/th&gt;\\n      &lt;th&gt;Total Gains&lt;/th&gt;\\n      &lt;th&gt;Total Losses&lt;/th&gt;\\n      &lt;th&gt;Adjust&lt;/th&gt;\\n      &lt;th&gt;Net Growth&lt;/th&gt;\\n      &lt;th&gt;Ending Membership&lt;/th&gt;\\n      &lt;th&gt;Growth Rate&lt;/th&gt;\\n      &lt;th&gt;Accession Rate&lt;/th&gt;\\n      &lt;th&gt;Death Rate&lt;/th&gt;\\n      &lt;th&gt;Ordained Ministers&lt;/th&gt;\\n      &lt;th&gt;Licensed Ministers&lt;/th&gt;\\n      &lt;th&gt;Ministers&lt;/th&gt;\\n    &lt;/tr&gt;\\n  &lt;/thead&gt;\\n  &lt;tbody&gt;\\n    &lt;tr&gt;\\n      &lt;th&gt;0&lt;/th&gt;\\n      &lt;td&gt;0&lt;/td&gt;\\n      &lt;td&gt;North Ghana Union Conference&lt;/td&gt;\\n      &lt;td&gt;2013&lt;/td&gt;\\n      &lt;td&gt;733&lt;/td&gt;\\n      &lt;td&gt;1021&lt;/td&gt;\\n      &lt;td&gt;1754&lt;/td&gt;\\n      &lt;td&gt;256864&lt;/td&gt;\\n      &lt;td&gt;11354&lt;/td&gt;\\n      &lt;td&gt;0.0&lt;/td&gt;\\n      &lt;td&gt;110&lt;/td&gt;\\n      &lt;td&gt;581&lt;/td&gt;\\n      &lt;td&gt;679&lt;/td&gt;\\n      &lt;td&gt;620&lt;/td&gt;\\n      &lt;td&gt;111&lt;/td&gt;\\n      &lt;td&gt;95&lt;/td&gt;\\n      &lt;td&gt;12045&lt;/td&gt;\\n      &lt;td&gt;1505&lt;/td&gt;\\n      &lt;td&gt;2&lt;/td&gt;\\n      &lt;td&gt;10542&lt;/td&gt;\\n      &lt;td&gt;267406&lt;/td&gt;\\n      &lt;td&gt;0.0410&lt;/td&gt;\\n      &lt;td&gt;0.0446&lt;/td&gt;\\n      &lt;td&gt;0.0024&lt;/td&gt;\\n      &lt;td&gt;139.0&lt;/td&gt;\\n      &lt;td&gt;67.0&lt;/td&gt;\\n      &lt;td&gt;206&lt;/td&gt;\\n    &lt;/tr&gt;\\n    &lt;tr&gt;\\n      &lt;th&gt;9&lt;/th&gt;\\n      &lt;td&gt;9&lt;/td&gt;\\n      &lt;td&gt;Southern Ghana Union Conference&lt;/td&gt;\\n      &lt;td&gt;2013&lt;/td&gt;\\n      &lt;td&gt;548&lt;/td&gt;\\n      &lt;td&gt;799&lt;/td&gt;\\n      &lt;td&gt;1347&lt;/td&gt;\\n      &lt;td&gt;139951&lt;/td&gt;\\n      &lt;td&gt;9521&lt;/td&gt;\\n      &lt;td&gt;0.0&lt;/td&gt;\\n      &lt;td&gt;118&lt;/td&gt;\\n      &lt;td&gt;689&lt;/td&gt;\\n      &lt;td&gt;751&lt;/td&gt;\\n      &lt;td&gt;454&lt;/td&gt;\\n      &lt;td&gt;132&lt;/td&gt;\\n      &lt;td&gt;685&lt;/td&gt;\\n      &lt;td&gt;10328&lt;/td&gt;\\n      &lt;td&gt;2022&lt;/td&gt;\\n      &lt;td&gt;-6819&lt;/td&gt;\\n      &lt;td&gt;1487&lt;/td&gt;\\n      &lt;td&gt;141438&lt;/td&gt;\\n      &lt;td&gt;0.0106&lt;/td&gt;\\n      &lt;td&gt;0.0689&lt;/td&gt;\\n      &lt;td&gt;0.0032&lt;/td&gt;\\n      &lt;td&gt;105.0&lt;/td&gt;\\n      &lt;td&gt;76.0&lt;/td&gt;\\n      &lt;td&gt;181&lt;/td&gt;\\n    &lt;/tr&gt;\\n    &lt;tr&gt;\\n      &lt;th&gt;1&lt;/th&gt;\\n      &lt;td&gt;1&lt;/td&gt;\\n      &lt;td&gt;North Ghana Union Conference&lt;/td&gt;\\n      &lt;td&gt;2014&lt;/td&gt;\\n      &lt;td&gt;689&lt;/td&gt;\\n      &lt;td&gt;939&lt;/td&gt;\\n      &lt;td&gt;1628&lt;/td&gt;\\n      &lt;td&gt;267406&lt;/td&gt;\\n      &lt;td&gt;15015&lt;/td&gt;\\n      &lt;td&gt;0.0&lt;/td&gt;\\n      &lt;td&gt;120&lt;/td&gt;\\n      &lt;td&gt;12861&lt;/td&gt;\\n      &lt;td&gt;14740&lt;/td&gt;\\n      &lt;td&gt;653&lt;/td&gt;\\n      &lt;td&gt;201&lt;/td&gt;\\n      &lt;td&gt;41&lt;/td&gt;\\n      &lt;td&gt;27996&lt;/td&gt;\\n      &lt;td&gt;15635&lt;/td&gt;\\n      &lt;td&gt;-125335&lt;/td&gt;\\n      &lt;td&gt;-112974&lt;/td&gt;\\n      &lt;td&gt;154432&lt;/td&gt;\\n      &lt;td&gt;-0.4225&lt;/td&gt;\\n      &lt;td&gt;0.0566&lt;/td&gt;\\n      &lt;td&gt;0.0024&lt;/td&gt;\\n      &lt;td&gt;161.0&lt;/td&gt;\\n      &lt;td&gt;71.0&lt;/td&gt;\\n      &lt;td&gt;232&lt;/td&gt;\\n    &lt;/tr&gt;\\n    &lt;tr&gt;\\n      &lt;th&gt;10&lt;/th&gt;\\n      &lt;td&gt;10&lt;/td&gt;\\n      &lt;td&gt;Southern Ghana Union Conference&lt;/td&gt;\\n      &lt;td&gt;2014&lt;/td&gt;\\n      &lt;td&gt;687&lt;/td&gt;\\n      &lt;td&gt;993&lt;/td&gt;\\n      &lt;td&gt;1680&lt;/td&gt;\\n      &lt;td&gt;141438&lt;/td&gt;\\n      &lt;td&gt;13703&lt;/td&gt;\\n      &lt;td&gt;0.0&lt;/td&gt;\\n      &lt;td&gt;1003&lt;/td&gt;\\n      &lt;td&gt;785&lt;/td&gt;\\n      &lt;td&gt;484&lt;/td&gt;\\n      &lt;td&gt;420&lt;/td&gt;\\n      &lt;td&gt;95&lt;/td&gt;\\n      &lt;td&gt;142&lt;/td&gt;\\n      &lt;td&gt;15491&lt;/td&gt;\\n      &lt;td&gt;1141&lt;/td&gt;\\n      &lt;td&gt;-48437&lt;/td&gt;\\n      &lt;td&gt;-34087&lt;/td&gt;\\n      &lt;td&gt;107351&lt;/td&gt;\\n      &lt;td&gt;-0.2410&lt;/td&gt;\\n      &lt;td&gt;0.1040&lt;/td&gt;\\n      &lt;td&gt;0.0030&lt;/td&gt;\\n      &lt;td&gt;107.0&lt;/td&gt;\\n      &lt;td&gt;90.0&lt;/td&gt;\\n      &lt;td&gt;197&lt;/td&gt;\\n    &lt;/tr&gt;\\n    &lt;tr&gt;\\n      &lt;th&gt;2&lt;/th&gt;\\n      &lt;td&gt;2&lt;/td&gt;\\n      &lt;td&gt;North Ghana Union Conference&lt;/td&gt;\\n      &lt;td&gt;2015&lt;/td&gt;\\n      &lt;td&gt;705&lt;/td&gt;\\n      &lt;td&gt;955&lt;/td&gt;\\n      &lt;td&gt;1660&lt;/td&gt;\\n      &lt;td&gt;154432&lt;/td&gt;\\n      &lt;td&gt;15148&lt;/td&gt;\\n      &lt;td&gt;0.0&lt;/td&gt;\\n      &lt;td&gt;158&lt;/td&gt;\\n      &lt;td&gt;114886&lt;/td&gt;\\n      &lt;td&gt;114668&lt;/td&gt;\\n      &lt;td&gt;901&lt;/td&gt;\\n      &lt;td&gt;184&lt;/td&gt;\\n      &lt;td&gt;287&lt;/td&gt;\\n      &lt;td&gt;130192&lt;/td&gt;\\n      &lt;td&gt;116040&lt;/td&gt;\\n      &lt;td&gt;72&lt;/td&gt;\\n      &lt;td&gt;14224&lt;/td&gt;\\n      &lt;td&gt;168656&lt;/td&gt;\\n      &lt;td&gt;0.0921&lt;/td&gt;\\n      &lt;td&gt;0.0991&lt;/td&gt;\\n      &lt;td&gt;0.0058&lt;/td&gt;\\n      &lt;td&gt;0.0&lt;/td&gt;\\n      &lt;td&gt;0.0&lt;/td&gt;\\n      &lt;td&gt;0&lt;/td&gt;\\n    &lt;/tr&gt;\\n    &lt;tr&gt;\\n      &lt;th&gt;11&lt;/th&gt;\\n      &lt;td&gt;11&lt;/td&gt;\\n      &lt;td&gt;Southern Ghana Union Conference&lt;/td&gt;\\n      &lt;td&gt;2015&lt;/td&gt;\\n      &lt;td&gt;731&lt;/td&gt;\\n      &lt;td&gt;1037&lt;/td&gt;\\n      &lt;td&gt;1768&lt;/td&gt;\\n      &lt;td&gt;107351&lt;/td&gt;\\n      &lt;td&gt;13668&lt;/td&gt;\\n      &lt;td&gt;0.0&lt;/td&gt;\\n      &lt;td&gt;1228&lt;/td&gt;\\n      &lt;td&gt;21848&lt;/td&gt;\\n      &lt;td&gt;21589&lt;/td&gt;\\n      &lt;td&gt;492&lt;/td&gt;\\n      &lt;td&gt;95&lt;/td&gt;\\n      &lt;td&gt;611&lt;/td&gt;\\n      &lt;td&gt;36744&lt;/td&gt;\\n      &lt;td&gt;22787&lt;/td&gt;\\n      &lt;td&gt;-67&lt;/td&gt;\\n      &lt;td&gt;13890&lt;/td&gt;\\n      &lt;td&gt;121241&lt;/td&gt;\\n      &lt;td&gt;0.1294&lt;/td&gt;\\n      &lt;td&gt;0.1388&lt;/td&gt;\\n      &lt;td&gt;0.0046&lt;/td&gt;\\n      &lt;td&gt;0.0&lt;/td&gt;\\n      &lt;td&gt;0.0&lt;/td&gt;\\n      &lt;td&gt;0&lt;/td&gt;\\n    &lt;/tr&gt;\\n    &lt;tr&gt;\\n      &lt;th&gt;3&lt;/th&gt;\\n      &lt;td&gt;3&lt;/td&gt;\\n      &lt;td&gt;North Ghana Union Conference&lt;/td&gt;\\n      &lt;td&gt;2016&lt;/td&gt;\\n      &lt;td&gt;783&lt;/td&gt;\\n      &lt;td&gt;986&lt;/td&gt;\\n      &lt;td&gt;1769&lt;/td&gt;\\n      &lt;td&gt;168656&lt;/td&gt;\\n      &lt;td&gt;13144&lt;/td&gt;\\n      &lt;td&gt;0.0&lt;/td&gt;\\n      &lt;td&gt;116&lt;/td&gt;\\n      &lt;td&gt;8763&lt;/td&gt;\\n      &lt;td&gt;10016&lt;/td&gt;\\n      &lt;td&gt;889&lt;/td&gt;\\n      &lt;td&gt;330&lt;/td&gt;\\n      &lt;td&gt;349&lt;/td&gt;\\n      &lt;td&gt;22023&lt;/td&gt;\\n      &lt;td&gt;11584&lt;/td&gt;\\n      &lt;td&gt;64&lt;/td&gt;\\n      &lt;td&gt;10503&lt;/td&gt;\\n      &lt;td&gt;179159&lt;/td&gt;\\n      &lt;td&gt;0.0623&lt;/td&gt;\\n      &lt;td&gt;0.0786&lt;/td&gt;\\n      &lt;td&gt;0.0053&lt;/td&gt;\\n      &lt;td&gt;0.0&lt;/td&gt;\\n      &lt;td&gt;0.0&lt;/td&gt;\\n      &lt;td&gt;0&lt;/td&gt;\\n    &lt;/tr&gt;\\n    &lt;tr&gt;\\n      &lt;th&gt;12&lt;/th&gt;\\n      &lt;td&gt;12&lt;/td&gt;\\n      &lt;td&gt;Southern Ghana Union Conference&lt;/td&gt;\\n      &lt;td&gt;2016&lt;/td&gt;\\n      &lt;td&gt;806&lt;/td&gt;\\n      &lt;td&gt;1066&lt;/td&gt;\\n      &lt;td&gt;1872&lt;/td&gt;\\n      &lt;td&gt;121241&lt;/td&gt;\\n      &lt;td&gt;12664&lt;/td&gt;\\n      &lt;td&gt;0.0&lt;/td&gt;\\n      &lt;td&gt;612&lt;/td&gt;\\n      &lt;td&gt;1559&lt;/td&gt;\\n      &lt;td&gt;1822&lt;/td&gt;\\n      &lt;td&gt;591&lt;/td&gt;\\n      &lt;td&gt;264&lt;/td&gt;\\n      &lt;td&gt;323&lt;/td&gt;\\n      &lt;td&gt;14835&lt;/td&gt;\\n      &lt;td&gt;3000&lt;/td&gt;\\n      &lt;td&gt;631&lt;/td&gt;\\n      &lt;td&gt;12466&lt;/td&gt;\\n      &lt;td&gt;133707&lt;/td&gt;\\n      &lt;td&gt;0.1028&lt;/td&gt;\\n      &lt;td&gt;0.1095&lt;/td&gt;\\n      &lt;td&gt;0.0049&lt;/td&gt;\\n      &lt;td&gt;0.0&lt;/td&gt;\\n      &lt;td&gt;0.0&lt;/td&gt;\\n      &lt;td&gt;0&lt;/td&gt;\\n    &lt;/tr&gt;\\n    &lt;tr&gt;\\n      &lt;th&gt;4&lt;/th&gt;\\n      &lt;td&gt;4&lt;/td&gt;\\n      &lt;td&gt;North Ghana Union Conference&lt;/td&gt;\\n      &lt;td&gt;2017&lt;/td&gt;\\n      &lt;td&gt;835&lt;/td&gt;\\n      &lt;td&gt;1046&lt;/td&gt;\\n      &lt;td&gt;1881&lt;/td&gt;\\n      &lt;td&gt;179159&lt;/td&gt;\\n      &lt;td&gt;13985&lt;/td&gt;\\n      &lt;td&gt;8.0&lt;/td&gt;\\n      &lt;td&gt;106&lt;/td&gt;\\n      &lt;td&gt;2673&lt;/td&gt;\\n      &lt;td&gt;4062&lt;/td&gt;\\n      &lt;td&gt;755&lt;/td&gt;\\n      &lt;td&gt;249&lt;/td&gt;\\n      &lt;td&gt;182&lt;/td&gt;\\n      &lt;td&gt;16772&lt;/td&gt;\\n      &lt;td&gt;5248&lt;/td&gt;\\n      &lt;td&gt;-35&lt;/td&gt;\\n      &lt;td&gt;11489&lt;/td&gt;\\n      &lt;td&gt;190648&lt;/td&gt;\\n      &lt;td&gt;0.0641&lt;/td&gt;\\n      &lt;td&gt;0.0787&lt;/td&gt;\\n      &lt;td&gt;0.0042&lt;/td&gt;\\n      &lt;td&gt;0.0&lt;/td&gt;\\n      &lt;td&gt;0.0&lt;/td&gt;\\n      &lt;td&gt;0&lt;/td&gt;\\n    &lt;/tr&gt;\\n    &lt;tr&gt;\\n      &lt;th&gt;13&lt;/th&gt;\\n      &lt;td&gt;13&lt;/td&gt;\\n      &lt;td&gt;Southern Ghana Union Conference&lt;/td&gt;\\n      &lt;td&gt;2017&lt;/td&gt;\\n      &lt;td&gt;887&lt;/td&gt;\\n      &lt;td&gt;1168&lt;/td&gt;\\n      &lt;td&gt;2055&lt;/td&gt;\\n      &lt;td&gt;133707&lt;/td&gt;\\n      &lt;td&gt;17805&lt;/td&gt;\\n      &lt;td&gt;0.0&lt;/td&gt;\\n      &lt;td&gt;562&lt;/td&gt;\\n      &lt;td&gt;83096&lt;/td&gt;\\n      &lt;td&gt;82746&lt;/td&gt;\\n      &lt;td&gt;602&lt;/td&gt;\\n      &lt;td&gt;143&lt;/td&gt;\\n      &lt;td&gt;148&lt;/td&gt;\\n      &lt;td&gt;101463&lt;/td&gt;\\n      &lt;td&gt;83639&lt;/td&gt;\\n      &lt;td&gt;6&lt;/td&gt;\\n      &lt;td&gt;17836&lt;/td&gt;\\n      &lt;td&gt;151543&lt;/td&gt;\\n      &lt;td&gt;0.1334&lt;/td&gt;\\n      &lt;td&gt;0.1374&lt;/td&gt;\\n      &lt;td&gt;0.0045&lt;/td&gt;\\n      &lt;td&gt;0.0&lt;/td&gt;\\n      &lt;td&gt;0.0&lt;/td&gt;\\n      &lt;td&gt;0&lt;/td&gt;\\n    &lt;/tr&gt;\\n    &lt;tr&gt;\\n      &lt;th&gt;5&lt;/th&gt;\\n      &lt;td&gt;5&lt;/td&gt;\\n      &lt;td&gt;North Ghana Union Conference&lt;/td&gt;\\n      &lt;td&gt;2018&lt;/td&gt;\\n      &lt;td&gt;902&lt;/td&gt;\\n      &lt;td&gt;1092&lt;/td&gt;\\n      &lt;td&gt;1994&lt;/td&gt;\\n      &lt;td&gt;190648&lt;/td&gt;\\n      &lt;td&gt;12076&lt;/td&gt;\\n      &lt;td&gt;114.0&lt;/td&gt;\\n      &lt;td&gt;87&lt;/td&gt;\\n      &lt;td&gt;4809&lt;/td&gt;\\n      &lt;td&gt;7190&lt;/td&gt;\\n      &lt;td&gt;734&lt;/td&gt;\\n      &lt;td&gt;245&lt;/td&gt;\\n      &lt;td&gt;359&lt;/td&gt;\\n      &lt;td&gt;17086&lt;/td&gt;\\n      &lt;td&gt;8528&lt;/td&gt;\\n      &lt;td&gt;-319&lt;/td&gt;\\n      &lt;td&gt;8239&lt;/td&gt;\\n      &lt;td&gt;198887&lt;/td&gt;\\n      &lt;td&gt;0.0432&lt;/td&gt;\\n      &lt;td&gt;0.0638&lt;/td&gt;\\n      &lt;td&gt;0.0039&lt;/td&gt;\\n      &lt;td&gt;0.0&lt;/td&gt;\\n      &lt;td&gt;0.0&lt;/td&gt;\\n      &lt;td&gt;0&lt;/td&gt;\\n    &lt;/tr&gt;\\n    &lt;tr&gt;\\n      &lt;th&gt;14&lt;/th&gt;\\n      &lt;td&gt;14&lt;/td&gt;\\n      &lt;td&gt;Southern Ghana Union Conference&lt;/td&gt;\\n      &lt;td&gt;2018&lt;/td&gt;\\n      &lt;td&gt;927&lt;/td&gt;\\n      &lt;td&gt;1244&lt;/td&gt;\\n      &lt;td&gt;2171&lt;/td&gt;\\n      &lt;td&gt;151543&lt;/td&gt;\\n      &lt;td&gt;16127&lt;/td&gt;\\n      &lt;td&gt;0.0&lt;/td&gt;\\n      &lt;td&gt;180&lt;/td&gt;\\n      &lt;td&gt;1512&lt;/td&gt;\\n      &lt;td&gt;1351&lt;/td&gt;\\n      &lt;td&gt;611&lt;/td&gt;\\n      &lt;td&gt;157&lt;/td&gt;\\n      &lt;td&gt;325&lt;/td&gt;\\n      &lt;td&gt;17819&lt;/td&gt;\\n      &lt;td&gt;2444&lt;/td&gt;\\n      &lt;td&gt;-167&lt;/td&gt;\\n      &lt;td&gt;15225&lt;/td&gt;\\n      &lt;td&gt;166768&lt;/td&gt;\\n      &lt;td&gt;0.1005&lt;/td&gt;\\n      &lt;td&gt;0.1076&lt;/td&gt;\\n      &lt;td&gt;0.0040&lt;/td&gt;\\n      &lt;td&gt;0.0&lt;/td&gt;\\n      &lt;td&gt;0.0&lt;/td&gt;\\n      &lt;td&gt;0&lt;/td&gt;\\n    &lt;/tr&gt;\\n    &lt;tr&gt;\\n      &lt;th&gt;6&lt;/th&gt;\\n      &lt;td&gt;6&lt;/td&gt;\\n      &lt;td&gt;North Ghana Union Conference&lt;/td&gt;\\n      &lt;td&gt;2019&lt;/td&gt;\\n      &lt;td&gt;967&lt;/td&gt;\\n      &lt;td&gt;1084&lt;/td&gt;\\n      &lt;td&gt;2051&lt;/td&gt;\\n      &lt;td&gt;198887&lt;/td&gt;\\n      &lt;td&gt;8378&lt;/td&gt;\\n      &lt;td&gt;17.0&lt;/td&gt;\\n      &lt;td&gt;105&lt;/td&gt;\\n      &lt;td&gt;4215&lt;/td&gt;\\n      &lt;td&gt;4757&lt;/td&gt;\\n      &lt;td&gt;629&lt;/td&gt;\\n      &lt;td&gt;501&lt;/td&gt;\\n      &lt;td&gt;397&lt;/td&gt;\\n      &lt;td&gt;12715&lt;/td&gt;\\n      &lt;td&gt;6284&lt;/td&gt;\\n      &lt;td&gt;-9804&lt;/td&gt;\\n      &lt;td&gt;-3373&lt;/td&gt;\\n      &lt;td&gt;195514&lt;/td&gt;\\n      &lt;td&gt;-0.0170&lt;/td&gt;\\n      &lt;td&gt;0.0427&lt;/td&gt;\\n      &lt;td&gt;0.0032&lt;/td&gt;\\n      &lt;td&gt;0.0&lt;/td&gt;\\n      &lt;td&gt;0.0&lt;/td&gt;\\n      &lt;td&gt;0&lt;/td&gt;\\n    &lt;/tr&gt;\\n    &lt;tr&gt;\\n      &lt;th&gt;15&lt;/th&gt;\\n      &lt;td&gt;15&lt;/td&gt;\\n      &lt;td&gt;Southern Ghana Union Conference&lt;/td&gt;\\n      &lt;td&gt;2019&lt;/td&gt;\\n      &lt;td&gt;964&lt;/td&gt;\\n      &lt;td&gt;1229&lt;/td&gt;\\n      &lt;td&gt;2193&lt;/td&gt;\\n      &lt;td&gt;166768&lt;/td&gt;\\n      &lt;td&gt;9679&lt;/td&gt;\\n      &lt;td&gt;0.0&lt;/td&gt;\\n      &lt;td&gt;76&lt;/td&gt;\\n      &lt;td&gt;1300&lt;/td&gt;\\n      &lt;td&gt;1282&lt;/td&gt;\\n      &lt;td&gt;561&lt;/td&gt;\\n      &lt;td&gt;117&lt;/td&gt;\\n      &lt;td&gt;488&lt;/td&gt;\\n      &lt;td&gt;11055&lt;/td&gt;\\n      &lt;td&gt;2448&lt;/td&gt;\\n      &lt;td&gt;502&lt;/td&gt;\\n      &lt;td&gt;9118&lt;/td&gt;\\n      &lt;td&gt;175886&lt;/td&gt;\\n      &lt;td&gt;0.0547&lt;/td&gt;\\n      &lt;td&gt;0.0585&lt;/td&gt;\\n      &lt;td&gt;0.0034&lt;/td&gt;\\n      &lt;td&gt;0.0&lt;/td&gt;\\n      &lt;td&gt;0.0&lt;/td&gt;\\n      &lt;td&gt;0&lt;/td&gt;\\n    &lt;/tr&gt;\\n    &lt;tr&gt;\\n      &lt;th&gt;7&lt;/th&gt;\\n      &lt;td&gt;7&lt;/td&gt;\\n      &lt;td&gt;North Ghana Union Conference&lt;/td&gt;\\n      &lt;td&gt;2020&lt;/td&gt;\\n      &lt;td&gt;1014&lt;/td&gt;\\n      &lt;td&gt;1127&lt;/td&gt;\\n      &lt;td&gt;2141&lt;/td&gt;\\n      &lt;td&gt;195514&lt;/td&gt;\\n      &lt;td&gt;5697&lt;/td&gt;\\n      &lt;td&gt;16.0&lt;/td&gt;\\n      &lt;td&gt;20&lt;/td&gt;\\n      &lt;td&gt;2854&lt;/td&gt;\\n      &lt;td&gt;3078&lt;/td&gt;\\n      &lt;td&gt;368&lt;/td&gt;\\n      &lt;td&gt;49&lt;/td&gt;\\n      &lt;td&gt;525&lt;/td&gt;\\n      &lt;td&gt;8587&lt;/td&gt;\\n      &lt;td&gt;4020&lt;/td&gt;\\n      &lt;td&gt;-5364&lt;/td&gt;\\n      &lt;td&gt;-797&lt;/td&gt;\\n      &lt;td&gt;194717&lt;/td&gt;\\n      &lt;td&gt;-0.0041&lt;/td&gt;\\n      &lt;td&gt;0.0292&lt;/td&gt;\\n      &lt;td&gt;0.0019&lt;/td&gt;\\n      &lt;td&gt;0.0&lt;/td&gt;\\n      &lt;td&gt;0.0&lt;/td&gt;\\n      &lt;td&gt;0&lt;/td&gt;\\n    &lt;/tr&gt;\\n    &lt;tr&gt;\\n      &lt;th&gt;16&lt;/th&gt;\\n      &lt;td&gt;16&lt;/td&gt;\\n      &lt;td&gt;Southern Ghana Union Conference&lt;/td&gt;\\n      &lt;td&gt;2020&lt;/td&gt;\\n      &lt;td&gt;1009&lt;/td&gt;\\n      &lt;td&gt;1236&lt;/td&gt;\\n      &lt;td&gt;2245&lt;/td&gt;\\n      &lt;td&gt;175886&lt;/td&gt;\\n      &lt;td&gt;4199&lt;/td&gt;\\n      &lt;td&gt;0.0&lt;/td&gt;\\n      &lt;td&gt;26&lt;/td&gt;\\n      &lt;td&gt;1450&lt;/td&gt;\\n      &lt;td&gt;1121&lt;/td&gt;\\n      &lt;td&gt;448&lt;/td&gt;\\n      &lt;td&gt;116&lt;/td&gt;\\n      &lt;td&gt;320&lt;/td&gt;\\n      &lt;td&gt;5675&lt;/td&gt;\\n      &lt;td&gt;2005&lt;/td&gt;\\n      &lt;td&gt;-668&lt;/td&gt;\\n      &lt;td&gt;3055&lt;/td&gt;\\n      &lt;td&gt;178941&lt;/td&gt;\\n      &lt;td&gt;0.0174&lt;/td&gt;\\n      &lt;td&gt;0.0240&lt;/td&gt;\\n      &lt;td&gt;0.0025&lt;/td&gt;\\n      &lt;td&gt;0.0&lt;/td&gt;\\n      &lt;td&gt;0.0&lt;/td&gt;\\n      &lt;td&gt;0&lt;/td&gt;\\n    &lt;/tr&gt;\\n    &lt;tr&gt;\\n      &lt;th&gt;8&lt;/th&gt;\\n      &lt;td&gt;8&lt;/td&gt;\\n      &lt;td&gt;North Ghana Union Conference&lt;/td&gt;\\n      &lt;td&gt;2021&lt;/td&gt;\\n      &lt;td&gt;1050&lt;/td&gt;\\n      &lt;td&gt;1112&lt;/td&gt;\\n      &lt;td&gt;2162&lt;/td&gt;\\n      &lt;td&gt;194717&lt;/td&gt;\\n      &lt;td&gt;9956&lt;/td&gt;\\n      &lt;td&gt;26.0&lt;/td&gt;\\n      &lt;td&gt;28&lt;/td&gt;\\n      &lt;td&gt;3371&lt;/td&gt;\\n      &lt;td&gt;3389&lt;/td&gt;\\n      &lt;td&gt;469&lt;/td&gt;\\n      &lt;td&gt;387&lt;/td&gt;\\n      &lt;td&gt;157&lt;/td&gt;\\n      &lt;td&gt;13381&lt;/td&gt;\\n      &lt;td&gt;4402&lt;/td&gt;\\n      &lt;td&gt;-2148&lt;/td&gt;\\n      &lt;td&gt;6831&lt;/td&gt;\\n      &lt;td&gt;201548&lt;/td&gt;\\n      &lt;td&gt;0.0351&lt;/td&gt;\\n      &lt;td&gt;0.0513&lt;/td&gt;\\n      &lt;td&gt;0.0024&lt;/td&gt;\\n      &lt;td&gt;0.0&lt;/td&gt;\\n      &lt;td&gt;0.0&lt;/td&gt;\\n      &lt;td&gt;0&lt;/td&gt;\\n    &lt;/tr&gt;\\n    &lt;tr&gt;\\n      &lt;th&gt;17&lt;/th&gt;\\n      &lt;td&gt;17&lt;/td&gt;\\n      &lt;td&gt;Southern Ghana Union Conference&lt;/td&gt;\\n      &lt;td&gt;2021&lt;/td&gt;\\n      &lt;td&gt;1040&lt;/td&gt;\\n      &lt;td&gt;1259&lt;/td&gt;\\n      &lt;td&gt;2299&lt;/td&gt;\\n      &lt;td&gt;178941&lt;/td&gt;\\n      &lt;td&gt;7367&lt;/td&gt;\\n      &lt;td&gt;0.0&lt;/td&gt;\\n      &lt;td&gt;95&lt;/td&gt;\\n      &lt;td&gt;996&lt;/td&gt;\\n      &lt;td&gt;1070&lt;/td&gt;\\n      &lt;td&gt;495&lt;/td&gt;\\n      &lt;td&gt;56&lt;/td&gt;\\n      &lt;td&gt;219&lt;/td&gt;\\n      &lt;td&gt;8458&lt;/td&gt;\\n      &lt;td&gt;1840&lt;/td&gt;\\n      &lt;td&gt;239&lt;/td&gt;\\n      &lt;td&gt;6890&lt;/td&gt;\\n      &lt;td&gt;185831&lt;/td&gt;\\n      &lt;td&gt;0.0385&lt;/td&gt;\\n      &lt;td&gt;0.0417&lt;/td&gt;\\n      &lt;td&gt;0.0028&lt;/td&gt;\\n      &lt;td&gt;0.0&lt;/td&gt;\\n      &lt;td&gt;0.0&lt;/td&gt;\\n      &lt;td&gt;0&lt;/td&gt;\\n    &lt;/tr&gt;\\n  &lt;/tbody&gt;\\n&lt;/table&gt;\"},\"id\":\"1015\",\"type\":\"panel.models.markup.HTML\"}],\"root_ids\":[\"1007\",\"1016\"]},\"title\":\"Bokeh Application\",\"version\":\"2.4.3\"}};\n",
       "    var render_items = [{\"docid\":\"48618fab-8bb5-422d-a9d7-3c03b701078c\",\"root_ids\":[\"1007\"],\"roots\":{\"1007\":\"a9d90e93-4a49-4e30-9917-5307ffcd460c\"}}];\n",
>>>>>>> 62261214fd86d10151dd8483aa40a4df5a2ee098
       "    root.Bokeh.embed.embed_items_notebook(docs_json, render_items);\n",
       "    for (const render_item of render_items) {\n",
       "      for (const root_id of render_item.root_ids) {\n",
       "\tconst id_el = document.getElementById(root_id)\n",
       "\tif (id_el.children.length && (id_el.children[0].className === 'bk-root')) {\n",
       "\t  const root_el = id_el.children[0]\n",
       "\t  root_el.id = root_el.id + '-rendered'\n",
       "\t}\n",
       "      }\n",
       "    }\n",
       "  }\n",
<<<<<<< HEAD
       "  if (root.Bokeh !== undefined && root.Bokeh.Panel !== undefined && ( root['Tabulator'] !== undefined) && ( root['Tabulator'] !== undefined) && ( root['Tabulator'] !== undefined)) {\n",
=======
       "  if (root.Bokeh !== undefined && root.Bokeh.Panel !== undefined && ( root['Tabulator'] !== undefined) && ( root['Tabulator'] !== undefined)) {\n",
>>>>>>> 62261214fd86d10151dd8483aa40a4df5a2ee098
       "    embed_document(root);\n",
       "  } else {\n",
       "    var attempts = 0;\n",
       "    var timer = setInterval(function(root) {\n",
<<<<<<< HEAD
       "      if (root.Bokeh !== undefined && root.Bokeh.Panel !== undefined && (root['Tabulator'] !== undefined) && (root['Tabulator'] !== undefined) && (root['Tabulator'] !== undefined)) {\n",
=======
       "      if (root.Bokeh !== undefined && root.Bokeh.Panel !== undefined && (root['Tabulator'] !== undefined) && (root['Tabulator'] !== undefined)) {\n",
>>>>>>> 62261214fd86d10151dd8483aa40a4df5a2ee098
       "        clearInterval(timer);\n",
       "        embed_document(root);\n",
       "      } else if (document.readyState == \"complete\") {\n",
       "        attempts++;\n",
       "        if (attempts > 200) {\n",
       "          clearInterval(timer);\n",
       "          console.log(\"Bokeh: ERROR: Unable to run BokehJS code because BokehJS library is missing\");\n",
       "        }\n",
       "      }\n",
       "    }, 25, root)\n",
       "  }\n",
       "})(window);</script>"
      ],
      "text/plain": [
<<<<<<< HEAD
       "<hvplot.interactive.Interactive at 0x1b143a0e308>"
      ]
     },
     "execution_count": 12,
=======
       "<hvplot.interactive.Interactive at 0x25309758248>"
      ]
     },
     "execution_count": 13,
>>>>>>> 62261214fd86d10151dd8483aa40a4df5a2ee098
     "metadata": {
      "application/vnd.holoviews_exec.v0+json": {
       "id": "1007"
      }
     },
     "output_type": "execute_result"
    }
   ],
   "source": [
    "WADataPipeLine = (WADInteractive[(WAD.Year.isin(Years))].reset_index().sort_values(by = 'Year'))\n",
    "# WADataPipeLine\n"
   ]
  },
  {
   "cell_type": "code",
<<<<<<< HEAD
   "execution_count": 107,
   "metadata": {
    "collapsed": true
   },
=======
   "execution_count": 14,
   "metadata": {},
>>>>>>> 62261214fd86d10151dd8483aa40a4df5a2ee098
   "outputs": [
    {
     "ename": "DataError",
     "evalue": "Supplied data does not contain specified dimensions, the following dimensions were not found: ['str(WAD.Baptisms)']\n\nPandasInterface expects tabular data, for more information on supported datatypes see http://holoviews.org/user_guide/Tabular_Datasets.html",
     "output_type": "error",
     "traceback": [
      "\u001b[1;31m---------------------------------------------------------------------------\u001b[0m",
      "\u001b[1;31mDataError\u001b[0m                                 Traceback (most recent call last)",
      "\u001b[1;32m<ipython-input-14-6a31177ba629>\u001b[0m in \u001b[0;36m<module>\u001b[1;34m\u001b[0m\n\u001b[1;32m----> 1\u001b[1;33m \u001b[0mWADplot\u001b[0m \u001b[1;33m=\u001b[0m \u001b[0mWADataPipeLine\u001b[0m\u001b[1;33m.\u001b[0m\u001b[0mhvplot\u001b[0m\u001b[1;33m(\u001b[0m\u001b[0mx\u001b[0m \u001b[1;33m=\u001b[0m \u001b[1;34m'Year'\u001b[0m\u001b[1;33m,\u001b[0m \u001b[0my\u001b[0m \u001b[1;33m=\u001b[0m\u001b[1;34m'str(WAD.Baptisms)'\u001b[0m\u001b[1;33m,\u001b[0m \u001b[0mline_width\u001b[0m \u001b[1;33m=\u001b[0m \u001b[1;36m2\u001b[0m\u001b[1;33m,\u001b[0m \u001b[0mtitle\u001b[0m \u001b[1;33m=\u001b[0m \u001b[1;34m'UnionDashboard'\u001b[0m \u001b[1;33m)\u001b[0m\u001b[1;33m\u001b[0m\u001b[1;33m\u001b[0m\u001b[0m\n\u001b[0m\u001b[0;32m      2\u001b[0m \u001b[0mWADplot\u001b[0m\u001b[1;33m\u001b[0m\u001b[1;33m\u001b[0m\u001b[0m\n",
      "\u001b[1;32mC:\\Program Files\\ArcGIS\\Pro\\bin\\Python\\envs\\arcgispro-py3\\lib\\site-packages\\hvplot\\interactive.py\u001b[0m in \u001b[0;36m__call__\u001b[1;34m(self, _kind, *args, **kwargs)\u001b[0m\n\u001b[0;32m    866\u001b[0m         \u001b[0mtransform\u001b[0m \u001b[1;33m=\u001b[0m \u001b[0mtype\u001b[0m\u001b[1;33m(\u001b[0m\u001b[0mtransform\u001b[0m\u001b[1;33m)\u001b[0m\u001b[1;33m(\u001b[0m\u001b[0mtransform\u001b[0m\u001b[1;33m,\u001b[0m \u001b[1;34m'hvplot'\u001b[0m\u001b[1;33m,\u001b[0m \u001b[0maccessor\u001b[0m\u001b[1;33m=\u001b[0m\u001b[1;32mTrue\u001b[0m\u001b[1;33m)\u001b[0m\u001b[1;33m\u001b[0m\u001b[1;33m\u001b[0m\u001b[0m\n\u001b[0;32m    867\u001b[0m         \u001b[0mdmap\u001b[0m \u001b[1;33m=\u001b[0m \u001b[1;34m'kind'\u001b[0m \u001b[1;32mnot\u001b[0m \u001b[1;32min\u001b[0m \u001b[0mkwargs\u001b[0m \u001b[1;32mor\u001b[0m \u001b[0misinstance\u001b[0m\u001b[1;33m(\u001b[0m\u001b[0mkwargs\u001b[0m\u001b[1;33m[\u001b[0m\u001b[1;34m'kind'\u001b[0m\u001b[1;33m]\u001b[0m\u001b[1;33m,\u001b[0m \u001b[0mstr\u001b[0m\u001b[1;33m)\u001b[0m\u001b[1;33m\u001b[0m\u001b[1;33m\u001b[0m\u001b[0m\n\u001b[1;32m--> 868\u001b[1;33m         \u001b[1;32mreturn\u001b[0m \u001b[0mnew\u001b[0m\u001b[1;33m.\u001b[0m\u001b[0m_clone\u001b[0m\u001b[1;33m(\u001b[0m\u001b[0mtransform\u001b[0m\u001b[1;33m(\u001b[0m\u001b[1;33m*\u001b[0m\u001b[0margs\u001b[0m\u001b[1;33m,\u001b[0m \u001b[1;33m**\u001b[0m\u001b[0mkwargs\u001b[0m\u001b[1;33m)\u001b[0m\u001b[1;33m,\u001b[0m \u001b[0mdmap\u001b[0m\u001b[1;33m=\u001b[0m\u001b[0mdmap\u001b[0m\u001b[1;33m)\u001b[0m\u001b[1;33m\u001b[0m\u001b[1;33m\u001b[0m\u001b[0m\n\u001b[0m\u001b[0;32m    869\u001b[0m \u001b[1;33m\u001b[0m\u001b[0m\n\u001b[0;32m    870\u001b[0m     \u001b[1;32mdef\u001b[0m \u001b[0m__getattr__\u001b[0m\u001b[1;33m(\u001b[0m\u001b[0mself\u001b[0m\u001b[1;33m,\u001b[0m \u001b[0mattr\u001b[0m\u001b[1;33m)\u001b[0m\u001b[1;33m:\u001b[0m\u001b[1;33m\u001b[0m\u001b[1;33m\u001b[0m\u001b[0m\n",
      "\u001b[1;32mC:\\Program Files\\ArcGIS\\Pro\\bin\\Python\\envs\\arcgispro-py3\\lib\\site-packages\\hvplot\\interactive.py\u001b[0m in \u001b[0;36m_clone\u001b[1;34m(self, transform, plot, loc, center, dmap, copy, max_rows, **kwargs)\u001b[0m\n\u001b[0;32m    388\u001b[0m         return type(self)(self._obj, fn=self._fn, transform=transform, plot=plot, depth=depth,\n\u001b[0;32m    389\u001b[0m                          \u001b[0mloc\u001b[0m\u001b[1;33m=\u001b[0m\u001b[0mloc\u001b[0m\u001b[1;33m,\u001b[0m \u001b[0mcenter\u001b[0m\u001b[1;33m=\u001b[0m\u001b[0mcenter\u001b[0m\u001b[1;33m,\u001b[0m \u001b[0mdmap\u001b[0m\u001b[1;33m=\u001b[0m\u001b[0mdmap\u001b[0m\u001b[1;33m,\u001b[0m \u001b[0m_shared_obj\u001b[0m\u001b[1;33m=\u001b[0m\u001b[0mself\u001b[0m\u001b[1;33m.\u001b[0m\u001b[0m_shared_obj\u001b[0m\u001b[1;33m,\u001b[0m\u001b[1;33m\u001b[0m\u001b[1;33m\u001b[0m\u001b[0m\n\u001b[1;32m--> 390\u001b[1;33m                          max_rows=max_rows, **kwargs)\n\u001b[0m\u001b[0;32m    391\u001b[0m \u001b[1;33m\u001b[0m\u001b[0m\n\u001b[0;32m    392\u001b[0m     \u001b[1;32mdef\u001b[0m \u001b[0m_repr_mimebundle_\u001b[0m\u001b[1;33m(\u001b[0m\u001b[0mself\u001b[0m\u001b[1;33m,\u001b[0m \u001b[0minclude\u001b[0m\u001b[1;33m=\u001b[0m\u001b[1;33m[\u001b[0m\u001b[1;33m]\u001b[0m\u001b[1;33m,\u001b[0m \u001b[0mexclude\u001b[0m\u001b[1;33m=\u001b[0m\u001b[1;33m[\u001b[0m\u001b[1;33m]\u001b[0m\u001b[1;33m)\u001b[0m\u001b[1;33m:\u001b[0m\u001b[1;33m\u001b[0m\u001b[1;33m\u001b[0m\u001b[0m\n",
      "\u001b[1;32mC:\\Program Files\\ArcGIS\\Pro\\bin\\Python\\envs\\arcgispro-py3\\lib\\site-packages\\hvplot\\interactive.py\u001b[0m in \u001b[0;36m__init__\u001b[1;34m(self, obj, transform, fn, plot, depth, loc, center, dmap, inherit_kwargs, max_rows, method, _shared_obj, _current, **kwargs)\u001b[0m\n\u001b[0;32m    280\u001b[0m             \u001b[0mself\u001b[0m\u001b[1;33m.\u001b[0m\u001b[0m_current_\u001b[0m \u001b[1;33m=\u001b[0m \u001b[0m_current\u001b[0m\u001b[1;33m\u001b[0m\u001b[1;33m\u001b[0m\u001b[0m\n\u001b[0;32m    281\u001b[0m         \u001b[1;32melse\u001b[0m\u001b[1;33m:\u001b[0m\u001b[1;33m\u001b[0m\u001b[1;33m\u001b[0m\u001b[0m\n\u001b[1;32m--> 282\u001b[1;33m             \u001b[0mself\u001b[0m\u001b[1;33m.\u001b[0m\u001b[0m_current_\u001b[0m \u001b[1;33m=\u001b[0m \u001b[0mself\u001b[0m\u001b[1;33m.\u001b[0m\u001b[0m_transform\u001b[0m\u001b[1;33m.\u001b[0m\u001b[0mapply\u001b[0m\u001b[1;33m(\u001b[0m\u001b[0mds\u001b[0m\u001b[1;33m,\u001b[0m \u001b[0mkeep_index\u001b[0m\u001b[1;33m=\u001b[0m\u001b[1;32mTrue\u001b[0m\u001b[1;33m,\u001b[0m \u001b[0mcompute\u001b[0m\u001b[1;33m=\u001b[0m\u001b[1;32mFalse\u001b[0m\u001b[1;33m)\u001b[0m\u001b[1;33m\u001b[0m\u001b[1;33m\u001b[0m\u001b[0m\n\u001b[0m\u001b[0;32m    283\u001b[0m         \u001b[0mself\u001b[0m\u001b[1;33m.\u001b[0m\u001b[0m_init\u001b[0m \u001b[1;33m=\u001b[0m \u001b[1;32mTrue\u001b[0m\u001b[1;33m\u001b[0m\u001b[1;33m\u001b[0m\u001b[0m\n\u001b[0;32m    284\u001b[0m         \u001b[0mself\u001b[0m\u001b[1;33m.\u001b[0m\u001b[0m_dirty\u001b[0m \u001b[1;33m=\u001b[0m \u001b[1;32mFalse\u001b[0m\u001b[1;33m\u001b[0m\u001b[1;33m\u001b[0m\u001b[0m\n",
      "\u001b[1;32mC:\\Program Files\\ArcGIS\\Pro\\bin\\Python\\envs\\arcgispro-py3\\lib\\site-packages\\holoviews\\util\\transform.py\u001b[0m in \u001b[0;36mapply\u001b[1;34m(self, dataset, flat, expanded, ranges, all_values, keep_index, compute, strict)\u001b[0m\n\u001b[0;32m    773\u001b[0m             \u001b[0mdrange\u001b[0m \u001b[1;33m=\u001b[0m \u001b[0mdrange\u001b[0m\u001b[1;33m.\u001b[0m\u001b[0mget\u001b[0m\u001b[1;33m(\u001b[0m\u001b[1;34m'combined'\u001b[0m\u001b[1;33m,\u001b[0m \u001b[0mdrange\u001b[0m\u001b[1;33m)\u001b[0m\u001b[1;33m\u001b[0m\u001b[1;33m\u001b[0m\u001b[0m\n\u001b[0;32m    774\u001b[0m             data = self._apply_fn(dataset, data, fn, fn_name, args,\n\u001b[1;32m--> 775\u001b[1;33m                                   kwargs, accessor, drange)\n\u001b[0m\u001b[0;32m    776\u001b[0m         \u001b[0mdrop_index\u001b[0m \u001b[1;33m=\u001b[0m \u001b[0mkeep_index_for_compute\u001b[0m \u001b[1;32mand\u001b[0m \u001b[1;32mnot\u001b[0m \u001b[0mkeep_index\u001b[0m\u001b[1;33m\u001b[0m\u001b[1;33m\u001b[0m\u001b[0m\n\u001b[0;32m    777\u001b[0m         \u001b[0mcompute\u001b[0m \u001b[1;33m=\u001b[0m \u001b[1;32mnot\u001b[0m \u001b[0mcompute_for_compute\u001b[0m \u001b[1;32mand\u001b[0m \u001b[0mcompute\u001b[0m\u001b[1;33m\u001b[0m\u001b[1;33m\u001b[0m\u001b[0m\n",
      "\u001b[1;32mC:\\Program Files\\ArcGIS\\Pro\\bin\\Python\\envs\\arcgispro-py3\\lib\\site-packages\\holoviews\\util\\transform.py\u001b[0m in \u001b[0;36m_apply_fn\u001b[1;34m(self, dataset, data, fn, fn_name, args, kwargs, accessor, drange)\u001b[0m\n\u001b[0;32m    670\u001b[0m                         \u001b[0mdata\u001b[0m \u001b[1;33m=\u001b[0m \u001b[0mmethod\u001b[0m\u001b[1;33m(\u001b[0m\u001b[1;33m*\u001b[0m\u001b[0margs\u001b[0m\u001b[1;33m,\u001b[0m \u001b[1;33m**\u001b[0m\u001b[0mkwargs\u001b[0m\u001b[1;33m)\u001b[0m\u001b[1;33m\u001b[0m\u001b[1;33m\u001b[0m\u001b[0m\n\u001b[0;32m    671\u001b[0m                     \u001b[1;32melse\u001b[0m\u001b[1;33m:\u001b[0m\u001b[1;33m\u001b[0m\u001b[1;33m\u001b[0m\u001b[0m\n\u001b[1;32m--> 672\u001b[1;33m                         \u001b[1;32mraise\u001b[0m \u001b[0me\u001b[0m\u001b[1;33m\u001b[0m\u001b[1;33m\u001b[0m\u001b[0m\n\u001b[0m\u001b[0;32m    673\u001b[0m         \u001b[1;32melse\u001b[0m\u001b[1;33m:\u001b[0m\u001b[1;33m\u001b[0m\u001b[1;33m\u001b[0m\u001b[0m\n\u001b[0;32m    674\u001b[0m             \u001b[0mdata\u001b[0m \u001b[1;33m=\u001b[0m \u001b[0mfn\u001b[0m\u001b[1;33m(\u001b[0m\u001b[1;33m*\u001b[0m\u001b[0margs\u001b[0m\u001b[1;33m,\u001b[0m \u001b[1;33m**\u001b[0m\u001b[0mkwargs\u001b[0m\u001b[1;33m)\u001b[0m\u001b[1;33m\u001b[0m\u001b[1;33m\u001b[0m\u001b[0m\n",
      "\u001b[1;32mC:\\Program Files\\ArcGIS\\Pro\\bin\\Python\\envs\\arcgispro-py3\\lib\\site-packages\\holoviews\\util\\transform.py\u001b[0m in \u001b[0;36m_apply_fn\u001b[1;34m(self, dataset, data, fn, fn_name, args, kwargs, accessor, drange)\u001b[0m\n\u001b[0;32m    664\u001b[0m             \u001b[1;32melse\u001b[0m\u001b[1;33m:\u001b[0m\u001b[1;33m\u001b[0m\u001b[1;33m\u001b[0m\u001b[0m\n\u001b[0;32m    665\u001b[0m                 \u001b[1;32mtry\u001b[0m\u001b[1;33m:\u001b[0m\u001b[1;33m\u001b[0m\u001b[1;33m\u001b[0m\u001b[0m\n\u001b[1;32m--> 666\u001b[1;33m                     \u001b[0mdata\u001b[0m \u001b[1;33m=\u001b[0m \u001b[0mmethod\u001b[0m\u001b[1;33m(\u001b[0m\u001b[1;33m*\u001b[0m\u001b[0margs\u001b[0m\u001b[1;33m,\u001b[0m \u001b[1;33m**\u001b[0m\u001b[0mkwargs\u001b[0m\u001b[1;33m)\u001b[0m\u001b[1;33m\u001b[0m\u001b[1;33m\u001b[0m\u001b[0m\n\u001b[0m\u001b[0;32m    667\u001b[0m                 \u001b[1;32mexcept\u001b[0m \u001b[0mException\u001b[0m \u001b[1;32mas\u001b[0m \u001b[0me\u001b[0m\u001b[1;33m:\u001b[0m\u001b[1;33m\u001b[0m\u001b[1;33m\u001b[0m\u001b[0m\n\u001b[0;32m    668\u001b[0m                     \u001b[1;32mif\u001b[0m \u001b[1;34m'axis'\u001b[0m \u001b[1;32min\u001b[0m \u001b[0mkwargs\u001b[0m\u001b[1;33m:\u001b[0m\u001b[1;33m\u001b[0m\u001b[1;33m\u001b[0m\u001b[0m\n",
      "\u001b[1;32mC:\\Program Files\\ArcGIS\\Pro\\bin\\Python\\envs\\arcgispro-py3\\lib\\site-packages\\hvplot\\plotting\\core.py\u001b[0m in \u001b[0;36m__call__\u001b[1;34m(self, x, y, kind, **kwds)\u001b[0m\n\u001b[0;32m     90\u001b[0m                 \u001b[1;32mreturn\u001b[0m \u001b[0mpn\u001b[0m\u001b[1;33m.\u001b[0m\u001b[0mpanel\u001b[0m\u001b[1;33m(\u001b[0m\u001b[0mplot\u001b[0m\u001b[1;33m,\u001b[0m \u001b[1;33m**\u001b[0m\u001b[0mpanel_dict\u001b[0m\u001b[1;33m)\u001b[0m\u001b[1;33m\u001b[0m\u001b[1;33m\u001b[0m\u001b[0m\n\u001b[0;32m     91\u001b[0m \u001b[1;33m\u001b[0m\u001b[0m\n\u001b[1;32m---> 92\u001b[1;33m         \u001b[1;32mreturn\u001b[0m \u001b[0mself\u001b[0m\u001b[1;33m.\u001b[0m\u001b[0m_get_converter\u001b[0m\u001b[1;33m(\u001b[0m\u001b[0mx\u001b[0m\u001b[1;33m,\u001b[0m \u001b[0my\u001b[0m\u001b[1;33m,\u001b[0m \u001b[0mkind\u001b[0m\u001b[1;33m,\u001b[0m \u001b[1;33m**\u001b[0m\u001b[0mkwds\u001b[0m\u001b[1;33m)\u001b[0m\u001b[1;33m(\u001b[0m\u001b[0mkind\u001b[0m\u001b[1;33m,\u001b[0m \u001b[0mx\u001b[0m\u001b[1;33m,\u001b[0m \u001b[0my\u001b[0m\u001b[1;33m)\u001b[0m\u001b[1;33m\u001b[0m\u001b[1;33m\u001b[0m\u001b[0m\n\u001b[0m\u001b[0;32m     93\u001b[0m \u001b[1;33m\u001b[0m\u001b[0m\n\u001b[0;32m     94\u001b[0m     \u001b[1;32mdef\u001b[0m \u001b[0m_get_converter\u001b[0m\u001b[1;33m(\u001b[0m\u001b[0mself\u001b[0m\u001b[1;33m,\u001b[0m \u001b[0mx\u001b[0m\u001b[1;33m=\u001b[0m\u001b[1;32mNone\u001b[0m\u001b[1;33m,\u001b[0m \u001b[0my\u001b[0m\u001b[1;33m=\u001b[0m\u001b[1;32mNone\u001b[0m\u001b[1;33m,\u001b[0m \u001b[0mkind\u001b[0m\u001b[1;33m=\u001b[0m\u001b[1;32mNone\u001b[0m\u001b[1;33m,\u001b[0m \u001b[1;33m**\u001b[0m\u001b[0mkwds\u001b[0m\u001b[1;33m)\u001b[0m\u001b[1;33m:\u001b[0m\u001b[1;33m\u001b[0m\u001b[1;33m\u001b[0m\u001b[0m\n",
      "\u001b[1;32mC:\\Program Files\\ArcGIS\\Pro\\bin\\Python\\envs\\arcgispro-py3\\lib\\site-packages\\hvplot\\converter.py\u001b[0m in \u001b[0;36m__call__\u001b[1;34m(self, kind, x, y)\u001b[0m\n\u001b[0;32m   1247\u001b[0m                         \u001b[0mdataset\u001b[0m \u001b[1;33m=\u001b[0m \u001b[0mDataset\u001b[0m\u001b[1;33m(\u001b[0m\u001b[0mdata\u001b[0m\u001b[1;33m)\u001b[0m\u001b[1;33m\u001b[0m\u001b[1;33m\u001b[0m\u001b[0m\n\u001b[0;32m   1248\u001b[0m                     \u001b[0mdataset\u001b[0m \u001b[1;33m=\u001b[0m \u001b[0mdataset\u001b[0m\u001b[1;33m.\u001b[0m\u001b[0mredim\u001b[0m\u001b[1;33m(\u001b[0m\u001b[1;33m**\u001b[0m\u001b[0mself\u001b[0m\u001b[1;33m.\u001b[0m\u001b[0m_redim\u001b[0m\u001b[1;33m)\u001b[0m\u001b[1;33m\u001b[0m\u001b[1;33m\u001b[0m\u001b[0m\n\u001b[1;32m-> 1249\u001b[1;33m                 \u001b[0mobj\u001b[0m \u001b[1;33m=\u001b[0m \u001b[0mmethod\u001b[0m\u001b[1;33m(\u001b[0m\u001b[0mx\u001b[0m\u001b[1;33m,\u001b[0m \u001b[0my\u001b[0m\u001b[1;33m)\u001b[0m\u001b[1;33m\u001b[0m\u001b[1;33m\u001b[0m\u001b[0m\n\u001b[0m\u001b[0;32m   1250\u001b[0m                 \u001b[0mobj\u001b[0m\u001b[1;33m.\u001b[0m\u001b[0m_dataset\u001b[0m \u001b[1;33m=\u001b[0m \u001b[0mdataset\u001b[0m\u001b[1;33m\u001b[0m\u001b[1;33m\u001b[0m\u001b[0m\n\u001b[0;32m   1251\u001b[0m \u001b[1;33m\u001b[0m\u001b[0m\n",
      "\u001b[1;32mC:\\Program Files\\ArcGIS\\Pro\\bin\\Python\\envs\\arcgispro-py3\\lib\\site-packages\\hvplot\\converter.py\u001b[0m in \u001b[0;36mline\u001b[1;34m(self, x, y, data)\u001b[0m\n\u001b[0;32m   1652\u001b[0m     \u001b[1;32mdef\u001b[0m \u001b[0mline\u001b[0m\u001b[1;33m(\u001b[0m\u001b[0mself\u001b[0m\u001b[1;33m,\u001b[0m \u001b[0mx\u001b[0m\u001b[1;33m=\u001b[0m\u001b[1;32mNone\u001b[0m\u001b[1;33m,\u001b[0m \u001b[0my\u001b[0m\u001b[1;33m=\u001b[0m\u001b[1;32mNone\u001b[0m\u001b[1;33m,\u001b[0m \u001b[0mdata\u001b[0m\u001b[1;33m=\u001b[0m\u001b[1;32mNone\u001b[0m\u001b[1;33m)\u001b[0m\u001b[1;33m:\u001b[0m\u001b[1;33m\u001b[0m\u001b[1;33m\u001b[0m\u001b[0m\n\u001b[0;32m   1653\u001b[0m         \u001b[0mself\u001b[0m\u001b[1;33m.\u001b[0m\u001b[0m_error_if_unavailable\u001b[0m\u001b[1;33m(\u001b[0m\u001b[1;34m'line'\u001b[0m\u001b[1;33m)\u001b[0m\u001b[1;33m\u001b[0m\u001b[1;33m\u001b[0m\u001b[0m\n\u001b[1;32m-> 1654\u001b[1;33m         \u001b[1;32mreturn\u001b[0m \u001b[0mself\u001b[0m\u001b[1;33m.\u001b[0m\u001b[0mchart\u001b[0m\u001b[1;33m(\u001b[0m\u001b[0mCurve\u001b[0m\u001b[1;33m,\u001b[0m \u001b[0mx\u001b[0m\u001b[1;33m,\u001b[0m \u001b[0my\u001b[0m\u001b[1;33m,\u001b[0m \u001b[0mdata\u001b[0m\u001b[1;33m)\u001b[0m\u001b[1;33m\u001b[0m\u001b[1;33m\u001b[0m\u001b[0m\n\u001b[0m\u001b[0;32m   1655\u001b[0m \u001b[1;33m\u001b[0m\u001b[0m\n\u001b[0;32m   1656\u001b[0m     \u001b[1;32mdef\u001b[0m \u001b[0mstep\u001b[0m\u001b[1;33m(\u001b[0m\u001b[0mself\u001b[0m\u001b[1;33m,\u001b[0m \u001b[0mx\u001b[0m\u001b[1;33m=\u001b[0m\u001b[1;32mNone\u001b[0m\u001b[1;33m,\u001b[0m \u001b[0my\u001b[0m\u001b[1;33m=\u001b[0m\u001b[1;32mNone\u001b[0m\u001b[1;33m,\u001b[0m \u001b[0mdata\u001b[0m\u001b[1;33m=\u001b[0m\u001b[1;32mNone\u001b[0m\u001b[1;33m)\u001b[0m\u001b[1;33m:\u001b[0m\u001b[1;33m\u001b[0m\u001b[1;33m\u001b[0m\u001b[0m\n",
      "\u001b[1;32mC:\\Program Files\\ArcGIS\\Pro\\bin\\Python\\envs\\arcgispro-py3\\lib\\site-packages\\hvplot\\converter.py\u001b[0m in \u001b[0;36mchart\u001b[1;34m(self, element, x, y, data)\u001b[0m\n\u001b[0;32m   1618\u001b[0m         \u001b[0mdata\u001b[0m\u001b[1;33m,\u001b[0m \u001b[0mx\u001b[0m\u001b[1;33m,\u001b[0m \u001b[0my\u001b[0m \u001b[1;33m=\u001b[0m \u001b[0mself\u001b[0m\u001b[1;33m.\u001b[0m\u001b[0m_process_chart_args\u001b[0m\u001b[1;33m(\u001b[0m\u001b[0mdata\u001b[0m\u001b[1;33m,\u001b[0m \u001b[0mx\u001b[0m\u001b[1;33m,\u001b[0m \u001b[0my\u001b[0m\u001b[1;33m)\u001b[0m\u001b[1;33m\u001b[0m\u001b[1;33m\u001b[0m\u001b[0m\n\u001b[0;32m   1619\u001b[0m         \u001b[1;32mif\u001b[0m \u001b[0mx\u001b[0m \u001b[1;32mand\u001b[0m \u001b[0my\u001b[0m \u001b[1;32mand\u001b[0m \u001b[1;32mnot\u001b[0m \u001b[0misinstance\u001b[0m\u001b[1;33m(\u001b[0m\u001b[0my\u001b[0m\u001b[1;33m,\u001b[0m \u001b[1;33m(\u001b[0m\u001b[0mlist\u001b[0m\u001b[1;33m,\u001b[0m \u001b[0mtuple\u001b[0m\u001b[1;33m)\u001b[0m\u001b[1;33m)\u001b[0m\u001b[1;33m:\u001b[0m\u001b[1;33m\u001b[0m\u001b[1;33m\u001b[0m\u001b[0m\n\u001b[1;32m-> 1620\u001b[1;33m             \u001b[1;32mreturn\u001b[0m \u001b[0mself\u001b[0m\u001b[1;33m.\u001b[0m\u001b[0msingle_chart\u001b[0m\u001b[1;33m(\u001b[0m\u001b[0melement\u001b[0m\u001b[1;33m,\u001b[0m \u001b[0mx\u001b[0m\u001b[1;33m,\u001b[0m \u001b[0my\u001b[0m\u001b[1;33m,\u001b[0m \u001b[0mdata\u001b[0m\u001b[1;33m)\u001b[0m\u001b[1;33m\u001b[0m\u001b[1;33m\u001b[0m\u001b[0m\n\u001b[0m\u001b[0;32m   1621\u001b[0m         \u001b[1;32melif\u001b[0m \u001b[0mx\u001b[0m \u001b[1;32mand\u001b[0m \u001b[0my\u001b[0m \u001b[1;32mand\u001b[0m \u001b[0mlen\u001b[0m\u001b[1;33m(\u001b[0m\u001b[0my\u001b[0m\u001b[1;33m)\u001b[0m \u001b[1;33m==\u001b[0m \u001b[1;36m1\u001b[0m\u001b[1;33m:\u001b[0m\u001b[1;33m\u001b[0m\u001b[1;33m\u001b[0m\u001b[0m\n\u001b[0;32m   1622\u001b[0m             \u001b[1;32mreturn\u001b[0m \u001b[0mself\u001b[0m\u001b[1;33m.\u001b[0m\u001b[0msingle_chart\u001b[0m\u001b[1;33m(\u001b[0m\u001b[0melement\u001b[0m\u001b[1;33m,\u001b[0m \u001b[0mx\u001b[0m\u001b[1;33m,\u001b[0m \u001b[0my\u001b[0m\u001b[1;33m[\u001b[0m\u001b[1;36m0\u001b[0m\u001b[1;33m]\u001b[0m\u001b[1;33m,\u001b[0m \u001b[0mdata\u001b[0m\u001b[1;33m)\u001b[0m\u001b[1;33m\u001b[0m\u001b[1;33m\u001b[0m\u001b[0m\n",
      "\u001b[1;32mC:\\Program Files\\ArcGIS\\Pro\\bin\\Python\\envs\\arcgispro-py3\\lib\\site-packages\\hvplot\\converter.py\u001b[0m in \u001b[0;36msingle_chart\u001b[1;34m(self, element, x, y, data)\u001b[0m\n\u001b[0;32m   1540\u001b[0m             \u001b[0mchart\u001b[0m \u001b[1;33m=\u001b[0m \u001b[0mchart\u001b[0m\u001b[1;33m.\u001b[0m\u001b[0mlayout\u001b[0m\u001b[1;33m(\u001b[0m\u001b[1;33m)\u001b[0m \u001b[1;32mif\u001b[0m \u001b[0mself\u001b[0m\u001b[1;33m.\u001b[0m\u001b[0msubplots\u001b[0m \u001b[1;32melse\u001b[0m \u001b[0mchart\u001b[0m\u001b[1;33m.\u001b[0m\u001b[0moverlay\u001b[0m\u001b[1;33m(\u001b[0m\u001b[0msort\u001b[0m\u001b[1;33m=\u001b[0m\u001b[1;32mFalse\u001b[0m\u001b[1;33m)\u001b[0m\u001b[1;33m\u001b[0m\u001b[1;33m\u001b[0m\u001b[0m\n\u001b[0;32m   1541\u001b[0m         \u001b[1;32melse\u001b[0m\u001b[1;33m:\u001b[0m\u001b[1;33m\u001b[0m\u001b[1;33m\u001b[0m\u001b[0m\n\u001b[1;32m-> 1542\u001b[1;33m             \u001b[0mchart\u001b[0m \u001b[1;33m=\u001b[0m \u001b[0melement\u001b[0m\u001b[1;33m(\u001b[0m\u001b[0mdata\u001b[0m\u001b[1;33m,\u001b[0m \u001b[0mkdims\u001b[0m\u001b[1;33m,\u001b[0m \u001b[0mvdims\u001b[0m\u001b[1;33m)\u001b[0m\u001b[1;33m.\u001b[0m\u001b[0mrelabel\u001b[0m\u001b[1;33m(\u001b[0m\u001b[1;33m**\u001b[0m\u001b[0mself\u001b[0m\u001b[1;33m.\u001b[0m\u001b[0m_relabel\u001b[0m\u001b[1;33m)\u001b[0m\u001b[1;33m\u001b[0m\u001b[1;33m\u001b[0m\u001b[0m\n\u001b[0m\u001b[0;32m   1543\u001b[0m         return (chart.redim(**self._redim)\n\u001b[0;32m   1544\u001b[0m                 \u001b[1;33m.\u001b[0m\u001b[0mopts\u001b[0m\u001b[1;33m(\u001b[0m\u001b[0mcur_opts\u001b[0m\u001b[1;33m,\u001b[0m \u001b[0mbackend\u001b[0m\u001b[1;33m=\u001b[0m\u001b[1;34m'bokeh'\u001b[0m\u001b[1;33m)\u001b[0m\u001b[1;33m\u001b[0m\u001b[1;33m\u001b[0m\u001b[0m\n",
      "\u001b[1;32mC:\\Program Files\\ArcGIS\\Pro\\bin\\Python\\envs\\arcgispro-py3\\lib\\site-packages\\holoviews\\element\\selection.py\u001b[0m in \u001b[0;36m__init__\u001b[1;34m(self, *args, **kwargs)\u001b[0m\n\u001b[0;32m     22\u001b[0m \u001b[1;33m\u001b[0m\u001b[0m\n\u001b[0;32m     23\u001b[0m     \u001b[1;32mdef\u001b[0m \u001b[0m__init__\u001b[0m\u001b[1;33m(\u001b[0m\u001b[0mself\u001b[0m\u001b[1;33m,\u001b[0m \u001b[1;33m*\u001b[0m\u001b[0margs\u001b[0m\u001b[1;33m,\u001b[0m \u001b[1;33m**\u001b[0m\u001b[0mkwargs\u001b[0m\u001b[1;33m)\u001b[0m\u001b[1;33m:\u001b[0m\u001b[1;33m\u001b[0m\u001b[1;33m\u001b[0m\u001b[0m\n\u001b[1;32m---> 24\u001b[1;33m         \u001b[0msuper\u001b[0m\u001b[1;33m(\u001b[0m\u001b[1;33m)\u001b[0m\u001b[1;33m.\u001b[0m\u001b[0m__init__\u001b[0m\u001b[1;33m(\u001b[0m\u001b[1;33m*\u001b[0m\u001b[0margs\u001b[0m\u001b[1;33m,\u001b[0m \u001b[1;33m**\u001b[0m\u001b[0mkwargs\u001b[0m\u001b[1;33m)\u001b[0m\u001b[1;33m\u001b[0m\u001b[1;33m\u001b[0m\u001b[0m\n\u001b[0m\u001b[0;32m     25\u001b[0m         \u001b[0mself\u001b[0m\u001b[1;33m.\u001b[0m\u001b[0m_index_skip\u001b[0m \u001b[1;33m=\u001b[0m \u001b[1;32mFalse\u001b[0m\u001b[1;33m\u001b[0m\u001b[1;33m\u001b[0m\u001b[0m\n\u001b[0;32m     26\u001b[0m \u001b[1;33m\u001b[0m\u001b[0m\n",
      "\u001b[1;32mC:\\Program Files\\ArcGIS\\Pro\\bin\\Python\\envs\\arcgispro-py3\\lib\\site-packages\\holoviews\\element\\chart.py\u001b[0m in \u001b[0;36m__init__\u001b[1;34m(self, data, kdims, vdims, **params)\u001b[0m\n\u001b[0;32m     49\u001b[0m         \u001b[1;32mif\u001b[0m \u001b[0mlen\u001b[0m\u001b[1;33m(\u001b[0m\u001b[0mparams\u001b[0m\u001b[1;33m.\u001b[0m\u001b[0mget\u001b[0m\u001b[1;33m(\u001b[0m\u001b[1;34m'kdims'\u001b[0m\u001b[1;33m,\u001b[0m \u001b[1;33m[\u001b[0m\u001b[1;33m]\u001b[0m\u001b[1;33m)\u001b[0m\u001b[1;33m)\u001b[0m \u001b[1;33m==\u001b[0m \u001b[0mself\u001b[0m\u001b[1;33m.\u001b[0m\u001b[0m_max_kdim_count\u001b[0m \u001b[1;33m+\u001b[0m \u001b[1;36m1\u001b[0m\u001b[1;33m:\u001b[0m\u001b[1;33m\u001b[0m\u001b[1;33m\u001b[0m\u001b[0m\n\u001b[0;32m     50\u001b[0m             \u001b[0mself\u001b[0m\u001b[1;33m.\u001b[0m\u001b[0mparam\u001b[0m\u001b[1;33m.\u001b[0m\u001b[0mwarning\u001b[0m\u001b[1;33m(\u001b[0m\u001b[1;34m'Chart elements should only be supplied a single kdim'\u001b[0m\u001b[1;33m)\u001b[0m\u001b[1;33m\u001b[0m\u001b[1;33m\u001b[0m\u001b[0m\n\u001b[1;32m---> 51\u001b[1;33m         \u001b[0msuper\u001b[0m\u001b[1;33m(\u001b[0m\u001b[1;33m)\u001b[0m\u001b[1;33m.\u001b[0m\u001b[0m__init__\u001b[0m\u001b[1;33m(\u001b[0m\u001b[0mdata\u001b[0m\u001b[1;33m,\u001b[0m \u001b[1;33m**\u001b[0m\u001b[0mparams\u001b[0m\u001b[1;33m)\u001b[0m\u001b[1;33m\u001b[0m\u001b[1;33m\u001b[0m\u001b[0m\n\u001b[0m\u001b[0;32m     52\u001b[0m \u001b[1;33m\u001b[0m\u001b[0m\n\u001b[0;32m     53\u001b[0m     \u001b[1;32mdef\u001b[0m \u001b[0m__getitem__\u001b[0m\u001b[1;33m(\u001b[0m\u001b[0mself\u001b[0m\u001b[1;33m,\u001b[0m \u001b[0mindex\u001b[0m\u001b[1;33m)\u001b[0m\u001b[1;33m:\u001b[0m\u001b[1;33m\u001b[0m\u001b[1;33m\u001b[0m\u001b[0m\n",
      "\u001b[1;32mC:\\Program Files\\ArcGIS\\Pro\\bin\\Python\\envs\\arcgispro-py3\\lib\\site-packages\\holoviews\\core\\data\\__init__.py\u001b[0m in \u001b[0;36m__init__\u001b[1;34m(self, data, kdims, vdims, **kwargs)\u001b[0m\n\u001b[0;32m    333\u001b[0m         \u001b[1;33m(\u001b[0m\u001b[0mdata\u001b[0m\u001b[1;33m,\u001b[0m \u001b[0mself\u001b[0m\u001b[1;33m.\u001b[0m\u001b[0minterface\u001b[0m\u001b[1;33m,\u001b[0m \u001b[0mdims\u001b[0m\u001b[1;33m,\u001b[0m \u001b[0mextra_kws\u001b[0m\u001b[1;33m)\u001b[0m \u001b[1;33m=\u001b[0m \u001b[0minitialized\u001b[0m\u001b[1;33m\u001b[0m\u001b[1;33m\u001b[0m\u001b[0m\n\u001b[0;32m    334\u001b[0m         \u001b[0msuper\u001b[0m\u001b[1;33m(\u001b[0m\u001b[1;33m)\u001b[0m\u001b[1;33m.\u001b[0m\u001b[0m__init__\u001b[0m\u001b[1;33m(\u001b[0m\u001b[0mdata\u001b[0m\u001b[1;33m,\u001b[0m \u001b[1;33m**\u001b[0m\u001b[0mdict\u001b[0m\u001b[1;33m(\u001b[0m\u001b[0mkwargs\u001b[0m\u001b[1;33m,\u001b[0m \u001b[1;33m**\u001b[0m\u001b[0mdict\u001b[0m\u001b[1;33m(\u001b[0m\u001b[0mdims\u001b[0m\u001b[1;33m,\u001b[0m \u001b[1;33m**\u001b[0m\u001b[0mextra_kws\u001b[0m\u001b[1;33m)\u001b[0m\u001b[1;33m)\u001b[0m\u001b[1;33m)\u001b[0m\u001b[1;33m\u001b[0m\u001b[1;33m\u001b[0m\u001b[0m\n\u001b[1;32m--> 335\u001b[1;33m         \u001b[0mself\u001b[0m\u001b[1;33m.\u001b[0m\u001b[0minterface\u001b[0m\u001b[1;33m.\u001b[0m\u001b[0mvalidate\u001b[0m\u001b[1;33m(\u001b[0m\u001b[0mself\u001b[0m\u001b[1;33m,\u001b[0m \u001b[0mvalidate_vdims\u001b[0m\u001b[1;33m)\u001b[0m\u001b[1;33m\u001b[0m\u001b[1;33m\u001b[0m\u001b[0m\n\u001b[0m\u001b[0;32m    336\u001b[0m \u001b[1;33m\u001b[0m\u001b[0m\n\u001b[0;32m    337\u001b[0m         \u001b[1;31m# Handle _pipeline property\u001b[0m\u001b[1;33m\u001b[0m\u001b[1;33m\u001b[0m\u001b[1;33m\u001b[0m\u001b[0m\n",
      "\u001b[1;32mC:\\Program Files\\ArcGIS\\Pro\\bin\\Python\\envs\\arcgispro-py3\\lib\\site-packages\\holoviews\\core\\data\\pandas.py\u001b[0m in \u001b[0;36mvalidate\u001b[1;34m(cls, dataset, vdims)\u001b[0m\n\u001b[0;32m    168\u001b[0m             raise DataError(\"Supplied data does not contain specified \"\n\u001b[0;32m    169\u001b[0m                             \u001b[1;34m\"dimensions, the following dimensions were \"\u001b[0m\u001b[1;33m\u001b[0m\u001b[1;33m\u001b[0m\u001b[0m\n\u001b[1;32m--> 170\u001b[1;33m                             \"not found: %s\" % repr(not_found), cls)\n\u001b[0m\u001b[0;32m    171\u001b[0m \u001b[1;33m\u001b[0m\u001b[0m\n\u001b[0;32m    172\u001b[0m \u001b[1;33m\u001b[0m\u001b[0m\n",
      "\u001b[1;31mDataError\u001b[0m: Supplied data does not contain specified dimensions, the following dimensions were not found: ['str(WAD.Baptisms)']\n\nPandasInterface expects tabular data, for more information on supported datatypes see http://holoviews.org/user_guide/Tabular_Datasets.html"
     ]
    }
   ],
   "source": [
    "WADplot = WADataPipeLine.hvplot(x = 'Year', y ='str(WAD.Baptisms)', line_width = 2, title = 'UnionDashboard' )\n",
    "WADplot"
   ]
  },
  {
   "cell_type": "code",
   "execution_count": 97,
   "metadata": {},
   "outputs": [
    {
     "data": {
      "text/plain": [
       "0        North Ghana Union Conference\n",
       "1        North Ghana Union Conference\n",
       "2        North Ghana Union Conference\n",
       "3        North Ghana Union Conference\n",
       "4        North Ghana Union Conference\n",
       "5        North Ghana Union Conference\n",
       "6        North Ghana Union Conference\n",
       "7        North Ghana Union Conference\n",
       "8        North Ghana Union Conference\n",
       "9     Southern Ghana Union Conference\n",
       "10    Southern Ghana Union Conference\n",
       "11    Southern Ghana Union Conference\n",
       "12    Southern Ghana Union Conference\n",
       "13    Southern Ghana Union Conference\n",
       "14    Southern Ghana Union Conference\n",
       "15    Southern Ghana Union Conference\n",
       "16    Southern Ghana Union Conference\n",
       "17    Southern Ghana Union Conference\n",
       "Name: Ghana, dtype: object"
      ]
     },
     "execution_count": 97,
     "metadata": {},
     "output_type": "execute_result"
    }
   ],
   "source": [
    "WAD.Ghana"
   ]
  },
  {
   "cell_type": "markdown",
   "metadata": {},
   "source": [
    "### Dash"
   ]
  },
  {
   "cell_type": "code",
   "execution_count": 44,
   "metadata": {
    "scrolled": true
   },
   "outputs": [
    {
     "data": {
      "text/html": [
       "<div>\n",
       "<style scoped>\n",
       "    .dataframe tbody tr th:only-of-type {\n",
       "        vertical-align: middle;\n",
       "    }\n",
       "\n",
       "    .dataframe tbody tr th {\n",
       "        vertical-align: top;\n",
       "    }\n",
       "\n",
       "    .dataframe thead th {\n",
       "        text-align: right;\n",
       "    }\n",
       "</style>\n",
       "<table border=\"1\" class=\"dataframe\">\n",
       "  <thead>\n",
       "    <tr style=\"text-align: right;\">\n",
       "      <th></th>\n",
       "      <th>Ghana</th>\n",
       "      <th>Year</th>\n",
       "      <th>Churches</th>\n",
       "      <th>Companies</th>\n",
       "      <th>Congregations</th>\n",
       "      <th>Beginning Membership</th>\n",
       "      <th>Baptisms</th>\n",
       "      <th>Former Member Baptisms</th>\n",
       "      <th>Professions of Faith</th>\n",
       "      <th>Transfers In</th>\n",
       "      <th>...</th>\n",
       "      <th>Total Losses</th>\n",
       "      <th>Adjust</th>\n",
       "      <th>Net Growth</th>\n",
       "      <th>Ending Membership</th>\n",
       "      <th>Growth Rate</th>\n",
       "      <th>Accession Rate</th>\n",
       "      <th>Death Rate</th>\n",
       "      <th>Ordained Ministers</th>\n",
       "      <th>Licensed Ministers</th>\n",
       "      <th>Ministers</th>\n",
       "    </tr>\n",
       "  </thead>\n",
       "  <tbody>\n",
       "    <tr>\n",
       "      <th>0</th>\n",
       "      <td>North Ghana Union Conference</td>\n",
       "      <td>2013</td>\n",
       "      <td>733</td>\n",
       "      <td>1021</td>\n",
       "      <td>1754</td>\n",
       "      <td>256864</td>\n",
       "      <td>11354</td>\n",
       "      <td>0.0</td>\n",
       "      <td>110</td>\n",
       "      <td>581</td>\n",
       "      <td>...</td>\n",
       "      <td>1505</td>\n",
       "      <td>2</td>\n",
       "      <td>10542</td>\n",
       "      <td>267406</td>\n",
       "      <td>0.0410</td>\n",
       "      <td>0.0446</td>\n",
       "      <td>0.0024</td>\n",
       "      <td>139.0</td>\n",
       "      <td>67.0</td>\n",
       "      <td>206</td>\n",
       "    </tr>\n",
       "    <tr>\n",
       "      <th>1</th>\n",
       "      <td>North Ghana Union Conference</td>\n",
       "      <td>2014</td>\n",
       "      <td>689</td>\n",
       "      <td>939</td>\n",
       "      <td>1628</td>\n",
       "      <td>267406</td>\n",
       "      <td>15015</td>\n",
       "      <td>0.0</td>\n",
       "      <td>120</td>\n",
       "      <td>12861</td>\n",
       "      <td>...</td>\n",
       "      <td>15635</td>\n",
       "      <td>-125335</td>\n",
       "      <td>-112974</td>\n",
       "      <td>154432</td>\n",
       "      <td>-0.4225</td>\n",
       "      <td>0.0566</td>\n",
       "      <td>0.0024</td>\n",
       "      <td>161.0</td>\n",
       "      <td>71.0</td>\n",
       "      <td>232</td>\n",
       "    </tr>\n",
       "    <tr>\n",
       "      <th>2</th>\n",
       "      <td>North Ghana Union Conference</td>\n",
       "      <td>2015</td>\n",
       "      <td>705</td>\n",
       "      <td>955</td>\n",
       "      <td>1660</td>\n",
       "      <td>154432</td>\n",
       "      <td>15148</td>\n",
       "      <td>0.0</td>\n",
       "      <td>158</td>\n",
       "      <td>114886</td>\n",
       "      <td>...</td>\n",
       "      <td>116040</td>\n",
       "      <td>72</td>\n",
       "      <td>14224</td>\n",
       "      <td>168656</td>\n",
       "      <td>0.0921</td>\n",
       "      <td>0.0991</td>\n",
       "      <td>0.0058</td>\n",
       "      <td>0.0</td>\n",
       "      <td>0.0</td>\n",
       "      <td>0</td>\n",
       "    </tr>\n",
       "    <tr>\n",
       "      <th>3</th>\n",
       "      <td>North Ghana Union Conference</td>\n",
       "      <td>2016</td>\n",
       "      <td>783</td>\n",
       "      <td>986</td>\n",
       "      <td>1769</td>\n",
       "      <td>168656</td>\n",
       "      <td>13144</td>\n",
       "      <td>0.0</td>\n",
       "      <td>116</td>\n",
       "      <td>8763</td>\n",
       "      <td>...</td>\n",
       "      <td>11584</td>\n",
       "      <td>64</td>\n",
       "      <td>10503</td>\n",
       "      <td>179159</td>\n",
       "      <td>0.0623</td>\n",
       "      <td>0.0786</td>\n",
       "      <td>0.0053</td>\n",
       "      <td>0.0</td>\n",
       "      <td>0.0</td>\n",
       "      <td>0</td>\n",
       "    </tr>\n",
       "    <tr>\n",
       "      <th>4</th>\n",
       "      <td>North Ghana Union Conference</td>\n",
       "      <td>2017</td>\n",
       "      <td>835</td>\n",
       "      <td>1046</td>\n",
       "      <td>1881</td>\n",
       "      <td>179159</td>\n",
       "      <td>13985</td>\n",
       "      <td>8.0</td>\n",
       "      <td>106</td>\n",
       "      <td>2673</td>\n",
       "      <td>...</td>\n",
       "      <td>5248</td>\n",
       "      <td>-35</td>\n",
       "      <td>11489</td>\n",
       "      <td>190648</td>\n",
       "      <td>0.0641</td>\n",
       "      <td>0.0787</td>\n",
       "      <td>0.0042</td>\n",
       "      <td>0.0</td>\n",
       "      <td>0.0</td>\n",
       "      <td>0</td>\n",
       "    </tr>\n",
       "    <tr>\n",
       "      <th>5</th>\n",
       "      <td>North Ghana Union Conference</td>\n",
       "      <td>2018</td>\n",
       "      <td>902</td>\n",
       "      <td>1092</td>\n",
       "      <td>1994</td>\n",
       "      <td>190648</td>\n",
       "      <td>12076</td>\n",
       "      <td>114.0</td>\n",
       "      <td>87</td>\n",
       "      <td>4809</td>\n",
       "      <td>...</td>\n",
       "      <td>8528</td>\n",
       "      <td>-319</td>\n",
       "      <td>8239</td>\n",
       "      <td>198887</td>\n",
       "      <td>0.0432</td>\n",
       "      <td>0.0638</td>\n",
       "      <td>0.0039</td>\n",
       "      <td>0.0</td>\n",
       "      <td>0.0</td>\n",
       "      <td>0</td>\n",
       "    </tr>\n",
       "    <tr>\n",
       "      <th>6</th>\n",
       "      <td>North Ghana Union Conference</td>\n",
       "      <td>2019</td>\n",
       "      <td>967</td>\n",
       "      <td>1084</td>\n",
       "      <td>2051</td>\n",
       "      <td>198887</td>\n",
       "      <td>8378</td>\n",
       "      <td>17.0</td>\n",
       "      <td>105</td>\n",
       "      <td>4215</td>\n",
       "      <td>...</td>\n",
       "      <td>6284</td>\n",
       "      <td>-9804</td>\n",
       "      <td>-3373</td>\n",
       "      <td>195514</td>\n",
       "      <td>-0.0170</td>\n",
       "      <td>0.0427</td>\n",
       "      <td>0.0032</td>\n",
       "      <td>0.0</td>\n",
       "      <td>0.0</td>\n",
       "      <td>0</td>\n",
       "    </tr>\n",
       "    <tr>\n",
       "      <th>7</th>\n",
       "      <td>North Ghana Union Conference</td>\n",
       "      <td>2020</td>\n",
       "      <td>1014</td>\n",
       "      <td>1127</td>\n",
       "      <td>2141</td>\n",
       "      <td>195514</td>\n",
       "      <td>5697</td>\n",
       "      <td>16.0</td>\n",
       "      <td>20</td>\n",
       "      <td>2854</td>\n",
       "      <td>...</td>\n",
       "      <td>4020</td>\n",
       "      <td>-5364</td>\n",
       "      <td>-797</td>\n",
       "      <td>194717</td>\n",
       "      <td>-0.0041</td>\n",
       "      <td>0.0292</td>\n",
       "      <td>0.0019</td>\n",
       "      <td>0.0</td>\n",
       "      <td>0.0</td>\n",
       "      <td>0</td>\n",
       "    </tr>\n",
       "    <tr>\n",
       "      <th>8</th>\n",
       "      <td>North Ghana Union Conference</td>\n",
       "      <td>2021</td>\n",
       "      <td>1050</td>\n",
       "      <td>1112</td>\n",
       "      <td>2162</td>\n",
       "      <td>194717</td>\n",
       "      <td>9956</td>\n",
       "      <td>26.0</td>\n",
       "      <td>28</td>\n",
       "      <td>3371</td>\n",
       "      <td>...</td>\n",
       "      <td>4402</td>\n",
       "      <td>-2148</td>\n",
       "      <td>6831</td>\n",
       "      <td>201548</td>\n",
       "      <td>0.0351</td>\n",
       "      <td>0.0513</td>\n",
       "      <td>0.0024</td>\n",
       "      <td>0.0</td>\n",
       "      <td>0.0</td>\n",
       "      <td>0</td>\n",
       "    </tr>\n",
       "    <tr>\n",
       "      <th>9</th>\n",
       "      <td>Southern Ghana Union Conference</td>\n",
       "      <td>2013</td>\n",
       "      <td>548</td>\n",
       "      <td>799</td>\n",
       "      <td>1347</td>\n",
       "      <td>139951</td>\n",
       "      <td>9521</td>\n",
       "      <td>0.0</td>\n",
       "      <td>118</td>\n",
       "      <td>689</td>\n",
       "      <td>...</td>\n",
       "      <td>2022</td>\n",
       "      <td>-6819</td>\n",
       "      <td>1487</td>\n",
       "      <td>141438</td>\n",
       "      <td>0.0106</td>\n",
       "      <td>0.0689</td>\n",
       "      <td>0.0032</td>\n",
       "      <td>105.0</td>\n",
       "      <td>76.0</td>\n",
       "      <td>181</td>\n",
       "    </tr>\n",
       "    <tr>\n",
       "      <th>10</th>\n",
       "      <td>Southern Ghana Union Conference</td>\n",
       "      <td>2014</td>\n",
       "      <td>687</td>\n",
       "      <td>993</td>\n",
       "      <td>1680</td>\n",
       "      <td>141438</td>\n",
       "      <td>13703</td>\n",
       "      <td>0.0</td>\n",
       "      <td>1003</td>\n",
       "      <td>785</td>\n",
       "      <td>...</td>\n",
       "      <td>1141</td>\n",
       "      <td>-48437</td>\n",
       "      <td>-34087</td>\n",
       "      <td>107351</td>\n",
       "      <td>-0.2410</td>\n",
       "      <td>0.1040</td>\n",
       "      <td>0.0030</td>\n",
       "      <td>107.0</td>\n",
       "      <td>90.0</td>\n",
       "      <td>197</td>\n",
       "    </tr>\n",
       "    <tr>\n",
       "      <th>11</th>\n",
       "      <td>Southern Ghana Union Conference</td>\n",
       "      <td>2015</td>\n",
       "      <td>731</td>\n",
       "      <td>1037</td>\n",
       "      <td>1768</td>\n",
       "      <td>107351</td>\n",
       "      <td>13668</td>\n",
       "      <td>0.0</td>\n",
       "      <td>1228</td>\n",
       "      <td>21848</td>\n",
       "      <td>...</td>\n",
       "      <td>22787</td>\n",
       "      <td>-67</td>\n",
       "      <td>13890</td>\n",
       "      <td>121241</td>\n",
       "      <td>0.1294</td>\n",
       "      <td>0.1388</td>\n",
       "      <td>0.0046</td>\n",
       "      <td>0.0</td>\n",
       "      <td>0.0</td>\n",
       "      <td>0</td>\n",
       "    </tr>\n",
       "    <tr>\n",
       "      <th>12</th>\n",
       "      <td>Southern Ghana Union Conference</td>\n",
       "      <td>2016</td>\n",
       "      <td>806</td>\n",
       "      <td>1066</td>\n",
       "      <td>1872</td>\n",
       "      <td>121241</td>\n",
       "      <td>12664</td>\n",
       "      <td>0.0</td>\n",
       "      <td>612</td>\n",
       "      <td>1559</td>\n",
       "      <td>...</td>\n",
       "      <td>3000</td>\n",
       "      <td>631</td>\n",
       "      <td>12466</td>\n",
       "      <td>133707</td>\n",
       "      <td>0.1028</td>\n",
       "      <td>0.1095</td>\n",
       "      <td>0.0049</td>\n",
       "      <td>0.0</td>\n",
       "      <td>0.0</td>\n",
       "      <td>0</td>\n",
       "    </tr>\n",
       "    <tr>\n",
       "      <th>13</th>\n",
       "      <td>Southern Ghana Union Conference</td>\n",
       "      <td>2017</td>\n",
       "      <td>887</td>\n",
       "      <td>1168</td>\n",
       "      <td>2055</td>\n",
       "      <td>133707</td>\n",
       "      <td>17805</td>\n",
       "      <td>0.0</td>\n",
       "      <td>562</td>\n",
       "      <td>83096</td>\n",
       "      <td>...</td>\n",
       "      <td>83639</td>\n",
       "      <td>6</td>\n",
       "      <td>17836</td>\n",
       "      <td>151543</td>\n",
       "      <td>0.1334</td>\n",
       "      <td>0.1374</td>\n",
       "      <td>0.0045</td>\n",
       "      <td>0.0</td>\n",
       "      <td>0.0</td>\n",
       "      <td>0</td>\n",
       "    </tr>\n",
       "    <tr>\n",
       "      <th>14</th>\n",
       "      <td>Southern Ghana Union Conference</td>\n",
       "      <td>2018</td>\n",
       "      <td>927</td>\n",
       "      <td>1244</td>\n",
       "      <td>2171</td>\n",
       "      <td>151543</td>\n",
       "      <td>16127</td>\n",
       "      <td>0.0</td>\n",
       "      <td>180</td>\n",
       "      <td>1512</td>\n",
       "      <td>...</td>\n",
       "      <td>2444</td>\n",
       "      <td>-167</td>\n",
       "      <td>15225</td>\n",
       "      <td>166768</td>\n",
       "      <td>0.1005</td>\n",
       "      <td>0.1076</td>\n",
       "      <td>0.0040</td>\n",
       "      <td>0.0</td>\n",
       "      <td>0.0</td>\n",
       "      <td>0</td>\n",
       "    </tr>\n",
       "    <tr>\n",
       "      <th>15</th>\n",
       "      <td>Southern Ghana Union Conference</td>\n",
       "      <td>2019</td>\n",
       "      <td>964</td>\n",
       "      <td>1229</td>\n",
       "      <td>2193</td>\n",
       "      <td>166768</td>\n",
       "      <td>9679</td>\n",
       "      <td>0.0</td>\n",
       "      <td>76</td>\n",
       "      <td>1300</td>\n",
       "      <td>...</td>\n",
       "      <td>2448</td>\n",
       "      <td>502</td>\n",
       "      <td>9118</td>\n",
       "      <td>175886</td>\n",
       "      <td>0.0547</td>\n",
       "      <td>0.0585</td>\n",
       "      <td>0.0034</td>\n",
       "      <td>0.0</td>\n",
       "      <td>0.0</td>\n",
       "      <td>0</td>\n",
       "    </tr>\n",
       "    <tr>\n",
       "      <th>16</th>\n",
       "      <td>Southern Ghana Union Conference</td>\n",
       "      <td>2020</td>\n",
       "      <td>1009</td>\n",
       "      <td>1236</td>\n",
       "      <td>2245</td>\n",
       "      <td>175886</td>\n",
       "      <td>4199</td>\n",
       "      <td>0.0</td>\n",
       "      <td>26</td>\n",
       "      <td>1450</td>\n",
       "      <td>...</td>\n",
       "      <td>2005</td>\n",
       "      <td>-668</td>\n",
       "      <td>3055</td>\n",
       "      <td>178941</td>\n",
       "      <td>0.0174</td>\n",
       "      <td>0.0240</td>\n",
       "      <td>0.0025</td>\n",
       "      <td>0.0</td>\n",
       "      <td>0.0</td>\n",
       "      <td>0</td>\n",
       "    </tr>\n",
       "    <tr>\n",
       "      <th>17</th>\n",
       "      <td>Southern Ghana Union Conference</td>\n",
       "      <td>2021</td>\n",
       "      <td>1040</td>\n",
       "      <td>1259</td>\n",
       "      <td>2299</td>\n",
       "      <td>178941</td>\n",
       "      <td>7367</td>\n",
       "      <td>0.0</td>\n",
       "      <td>95</td>\n",
       "      <td>996</td>\n",
       "      <td>...</td>\n",
       "      <td>1840</td>\n",
       "      <td>239</td>\n",
       "      <td>6890</td>\n",
       "      <td>185831</td>\n",
       "      <td>0.0385</td>\n",
       "      <td>0.0417</td>\n",
       "      <td>0.0028</td>\n",
       "      <td>0.0</td>\n",
       "      <td>0.0</td>\n",
       "      <td>0</td>\n",
       "    </tr>\n",
       "  </tbody>\n",
       "</table>\n",
       "<p>18 rows × 25 columns</p>\n",
       "</div>"
      ],
      "text/plain": [
       "                              Ghana  Year  Churches  Companies  Congregations  \\\n",
       "0      North Ghana Union Conference  2013       733       1021           1754   \n",
       "1      North Ghana Union Conference  2014       689        939           1628   \n",
       "2      North Ghana Union Conference  2015       705        955           1660   \n",
       "3      North Ghana Union Conference  2016       783        986           1769   \n",
       "4      North Ghana Union Conference  2017       835       1046           1881   \n",
       "5      North Ghana Union Conference  2018       902       1092           1994   \n",
       "6      North Ghana Union Conference  2019       967       1084           2051   \n",
       "7      North Ghana Union Conference  2020      1014       1127           2141   \n",
       "8      North Ghana Union Conference  2021      1050       1112           2162   \n",
       "9   Southern Ghana Union Conference  2013       548        799           1347   \n",
       "10  Southern Ghana Union Conference  2014       687        993           1680   \n",
       "11  Southern Ghana Union Conference  2015       731       1037           1768   \n",
       "12  Southern Ghana Union Conference  2016       806       1066           1872   \n",
       "13  Southern Ghana Union Conference  2017       887       1168           2055   \n",
       "14  Southern Ghana Union Conference  2018       927       1244           2171   \n",
       "15  Southern Ghana Union Conference  2019       964       1229           2193   \n",
       "16  Southern Ghana Union Conference  2020      1009       1236           2245   \n",
       "17  Southern Ghana Union Conference  2021      1040       1259           2299   \n",
       "\n",
       "    Beginning Membership  Baptisms  Former Member Baptisms  \\\n",
       "0                 256864     11354                     0.0   \n",
       "1                 267406     15015                     0.0   \n",
       "2                 154432     15148                     0.0   \n",
       "3                 168656     13144                     0.0   \n",
       "4                 179159     13985                     8.0   \n",
       "5                 190648     12076                   114.0   \n",
       "6                 198887      8378                    17.0   \n",
       "7                 195514      5697                    16.0   \n",
       "8                 194717      9956                    26.0   \n",
       "9                 139951      9521                     0.0   \n",
       "10                141438     13703                     0.0   \n",
       "11                107351     13668                     0.0   \n",
       "12                121241     12664                     0.0   \n",
       "13                133707     17805                     0.0   \n",
       "14                151543     16127                     0.0   \n",
       "15                166768      9679                     0.0   \n",
       "16                175886      4199                     0.0   \n",
       "17                178941      7367                     0.0   \n",
       "\n",
       "    Professions of Faith  Transfers In  ...  Total Losses  Adjust  Net Growth  \\\n",
       "0                    110           581  ...          1505       2       10542   \n",
       "1                    120         12861  ...         15635 -125335     -112974   \n",
       "2                    158        114886  ...        116040      72       14224   \n",
       "3                    116          8763  ...         11584      64       10503   \n",
       "4                    106          2673  ...          5248     -35       11489   \n",
       "5                     87          4809  ...          8528    -319        8239   \n",
       "6                    105          4215  ...          6284   -9804       -3373   \n",
       "7                     20          2854  ...          4020   -5364        -797   \n",
       "8                     28          3371  ...          4402   -2148        6831   \n",
       "9                    118           689  ...          2022   -6819        1487   \n",
       "10                  1003           785  ...          1141  -48437      -34087   \n",
       "11                  1228         21848  ...         22787     -67       13890   \n",
       "12                   612          1559  ...          3000     631       12466   \n",
       "13                   562         83096  ...         83639       6       17836   \n",
       "14                   180          1512  ...          2444    -167       15225   \n",
       "15                    76          1300  ...          2448     502        9118   \n",
       "16                    26          1450  ...          2005    -668        3055   \n",
       "17                    95           996  ...          1840     239        6890   \n",
       "\n",
       "    Ending Membership  Growth Rate  Accession Rate  Death Rate  \\\n",
       "0              267406       0.0410          0.0446      0.0024   \n",
       "1              154432      -0.4225          0.0566      0.0024   \n",
       "2              168656       0.0921          0.0991      0.0058   \n",
       "3              179159       0.0623          0.0786      0.0053   \n",
       "4              190648       0.0641          0.0787      0.0042   \n",
       "5              198887       0.0432          0.0638      0.0039   \n",
       "6              195514      -0.0170          0.0427      0.0032   \n",
       "7              194717      -0.0041          0.0292      0.0019   \n",
       "8              201548       0.0351          0.0513      0.0024   \n",
       "9              141438       0.0106          0.0689      0.0032   \n",
       "10             107351      -0.2410          0.1040      0.0030   \n",
       "11             121241       0.1294          0.1388      0.0046   \n",
       "12             133707       0.1028          0.1095      0.0049   \n",
       "13             151543       0.1334          0.1374      0.0045   \n",
       "14             166768       0.1005          0.1076      0.0040   \n",
       "15             175886       0.0547          0.0585      0.0034   \n",
       "16             178941       0.0174          0.0240      0.0025   \n",
       "17             185831       0.0385          0.0417      0.0028   \n",
       "\n",
       "    Ordained Ministers  Licensed Ministers  Ministers  \n",
       "0                139.0                67.0        206  \n",
       "1                161.0                71.0        232  \n",
       "2                  0.0                 0.0          0  \n",
       "3                  0.0                 0.0          0  \n",
       "4                  0.0                 0.0          0  \n",
       "5                  0.0                 0.0          0  \n",
       "6                  0.0                 0.0          0  \n",
       "7                  0.0                 0.0          0  \n",
       "8                  0.0                 0.0          0  \n",
       "9                105.0                76.0        181  \n",
       "10               107.0                90.0        197  \n",
       "11                 0.0                 0.0          0  \n",
       "12                 0.0                 0.0          0  \n",
       "13                 0.0                 0.0          0  \n",
       "14                 0.0                 0.0          0  \n",
       "15                 0.0                 0.0          0  \n",
       "16                 0.0                 0.0          0  \n",
       "17                 0.0                 0.0          0  \n",
       "\n",
       "[18 rows x 25 columns]"
      ]
     },
     "execution_count": 44,
     "metadata": {},
     "output_type": "execute_result"
    }
   ],
   "source": [
    "WAD"
   ]
  },
  {
   "cell_type": "code",
   "execution_count": 13,
   "metadata": {},
   "outputs": [
    {
     "data": {
      "text/plain": [
       "<dash.dash.Dash at 0x1b16243f488>"
      ]
     },
     "execution_count": 13,
     "metadata": {},
     "output_type": "execute_result"
    }
   ],
   "source": [
    "app = dash.Dash()"
   ]
  },
  {
   "cell_type": "code",
   "execution_count": 67,
   "metadata": {},
   "outputs": [],
   "source": [
    "app.layout = html.Div([\n",
    "    html.H1('WAD Statistical Reporting Dashboard'),\n",
    "    html.Div([html.H2('Southern and Northern Ghana Union Conference')]),\n",
    "    \n",
    "    dcc.Graph(\n",
    "        id = 'Baptism',\n",
    "        figure = {\n",
    "            'data': [\n",
    "                \n",
    "                {'x': WAD['Year'], 'y': WAD['Churches'], 'type': 'bar', 'name': 'Churches' }\n",
    "            ],\n",
    "            \n",
    "            'layout'\n",
    "           \n",
    "        }\n",
    "        \n",
    "        \n",
    "    )\n",
    "])"
   ]
  },
  {
   "cell_type": "code",
   "execution_count": 68,
   "metadata": {},
   "outputs": [
    {
     "data": {
      "text/plain": [
       "Div([H1('WAD Statistical Reporting Dashboard'), Div([H2('Southern and Northern Ghana Union Conference')]), Graph(id='Baptism', figure={'data': [{'x': 0     2013\n",
       "1     2014\n",
       "2     2015\n",
       "3     2016\n",
       "4     2017\n",
       "5     2018\n",
       "6     2019\n",
       "7     2020\n",
       "8     2021\n",
       "9     2013\n",
       "10    2014\n",
       "11    2015\n",
       "12    2016\n",
       "13    2017\n",
       "14    2018\n",
       "15    2019\n",
       "16    2020\n",
       "17    2021\n",
       "Name: Year, dtype: int64, 'y': 0      733\n",
       "1      689\n",
       "2      705\n",
       "3      783\n",
       "4      835\n",
       "5      902\n",
       "6      967\n",
       "7     1014\n",
       "8     1050\n",
       "9      548\n",
       "10     687\n",
       "11     731\n",
       "12     806\n",
       "13     887\n",
       "14     927\n",
       "15     964\n",
       "16    1009\n",
       "17    1040\n",
       "Name: Churches, dtype: int64, 'type': 'bar', 'name': 'Churches'}]})])"
      ]
     },
     "execution_count": 68,
     "metadata": {},
     "output_type": "execute_result"
    }
   ],
   "source": [
    "app.layout"
   ]
  },
  {
   "cell_type": "code",
   "execution_count": 69,
   "metadata": {},
   "outputs": [
    {
     "data": {
      "text/html": [
       "\n",
       "        <iframe\n",
       "            width=\"100%\"\n",
       "            height=\"650\"\n",
       "            src=\"http://127.0.0.1:8050/\"\n",
       "            frameborder=\"0\"\n",
       "            allowfullscreen\n",
       "        ></iframe>\n",
       "        "
      ],
      "text/plain": [
       "<IPython.lib.display.IFrame at 0x1b1615560c8>"
      ]
     },
     "metadata": {},
     "output_type": "display_data"
    }
   ],
   "source": [
    "app.run_server()"
   ]
  },
  {
   "cell_type": "code",
   "execution_count": null,
   "metadata": {},
   "outputs": [],
   "source": []
  }
 ],
 "metadata": {
  "kernelspec": {
   "display_name": "Python 3",
   "language": "python",
   "name": "python3"
  },
  "language_info": {
   "codemirror_mode": {
    "name": "ipython",
    "version": 3
   },
   "file_extension": ".py",
   "mimetype": "text/x-python",
   "name": "python",
   "nbconvert_exporter": "python",
   "pygments_lexer": "ipython3",
   "version": "3.7.9"
  }
 },
 "nbformat": 4,
 "nbformat_minor": 4
}
