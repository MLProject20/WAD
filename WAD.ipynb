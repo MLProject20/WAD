{
 "cells": [
  {
   "cell_type": "markdown",
   "metadata": {},
   "source": [
    "### Import Libraries"
   ]
  },
  {
   "cell_type": "code",
   "execution_count": 7,
   "metadata": {},
   "outputs": [],
   "source": [
    "import pandas as pd\n",
    "import numpy as np\n",
    "import os\n",
    "import panel as pn\n",
    "\n",
    "pn.extension('tabulator')\n",
    "\n",
    "import hvplot.pandas\n",
    "\n",
    "import dash\n",
    "from dash import dcc\n",
    "from dash import html\n",
    "\n",
    "import seaborn as sns\n",
    "import matplotlib.pyplot as plt\n",
    "\n",
    "from shiny import ui, render, App"
   ]
  },
  {
   "cell_type": "markdown",
   "metadata": {},
   "source": [
    "### Read Data"
   ]
  },
  {
   "cell_type": "code",
   "execution_count": 8,
   "metadata": {},
   "outputs": [
    {
     "data": {
      "text/plain": [
       "Index(['Ghana', 'Year', 'Churches', 'Companies', 'Congregations',\n",
       "       'Beginning Membership', 'Baptisms', 'Former Member Baptisms',\n",
       "       'Professions of Faith', 'Transfers In', 'Transfers Out', 'Deaths',\n",
       "       'Dropped', 'Missing', 'Total Gains', 'Total Losses', 'Adjust',\n",
       "       'Net Growth', 'Ending Membership', 'Growth Rate', 'Accession Rate',\n",
       "       'Death Rate', 'Ordained Ministers', 'Licensed Ministers', 'Ministers'],\n",
       "      dtype='object')"
      ]
     },
     "execution_count": 8,
     "metadata": {},
     "output_type": "execute_result"
    }
   ],
   "source": [
    "WAD = pd.read_excel ('C:\\\\Users\\\\padu\\\\Downloads\\\\WAD\\\\Statistical Report Dataset.xlsx', sheet_name= 'Ghana Union Data')\n",
    "WAD.columns"
   ]
  },
  {
   "cell_type": "markdown",
   "metadata": {},
   "source": [
    "### Preprocessing "
   ]
  },
  {
   "cell_type": "code",
   "execution_count": 9,
   "metadata": {},
   "outputs": [],
   "source": [
    "WAD = WAD.fillna(0)"
   ]
  },
  {
   "cell_type": "code",
   "execution_count": 10,
   "metadata": {},
   "outputs": [
    {
     "data": {
      "text/plain": [
       "Index(['Ghana', 'Year', 'Churches', 'Companies', 'Congregations',\n",
       "       'Beginning Membership', 'Baptisms', 'Former Member Baptisms',\n",
       "       'Professions of Faith', 'Transfers In', 'Transfers Out', 'Deaths',\n",
       "       'Dropped', 'Missing', 'Total Gains', 'Total Losses', 'Adjust',\n",
       "       'Net Growth', 'Ending Membership', 'Growth Rate', 'Accession Rate',\n",
       "       'Death Rate', 'Ordained Ministers', 'Licensed Ministers', 'Ministers'],\n",
       "      dtype='object')"
      ]
     },
     "execution_count": 10,
     "metadata": {},
     "output_type": "execute_result"
    }
   ],
   "source": [
    "WAD.columns "
   ]
  },
  {
   "cell_type": "markdown",
   "metadata": {},
   "source": [
    "### Make Dataframe Interactive"
   ]
  },
  {
   "cell_type": "code",
   "execution_count": 11,
   "metadata": {},
   "outputs": [],
   "source": [
    "WADInteractive = WAD.interactive()"
   ]
  },
  {
   "cell_type": "markdown",
   "metadata": {},
   "source": [
    "## Year Widget"
   ]
  },
  {
   "cell_type": "code",
   "execution_count": 12,
   "metadata": {},
   "outputs": [
    {
     "data": {},
     "metadata": {},
     "output_type": "display_data"
    },
    {
     "data": {
      "application/vnd.holoviews_exec.v0+json": "",
      "text/html": [
       "<div id='1002'>\n",
       "  <div class=\"bk-root\" id=\"6525605f-40c9-40dc-a841-a03194978520\" data-root-id=\"1002\"></div>\n",
       "</div>\n",
       "<script type=\"application/javascript\">(function(root) {\n",
       "  function embed_document(root) {\n",
       "    var docs_json = {\"74d4e901-aff1-4a52-86be-e3ce626b1a05\":{\"defs\":[{\"extends\":null,\"module\":null,\"name\":\"ReactiveHTML1\",\"overrides\":[],\"properties\":[]},{\"extends\":null,\"module\":null,\"name\":\"FlexBox1\",\"overrides\":[],\"properties\":[{\"default\":\"flex-start\",\"kind\":null,\"name\":\"align_content\"},{\"default\":\"flex-start\",\"kind\":null,\"name\":\"align_items\"},{\"default\":\"row\",\"kind\":null,\"name\":\"flex_direction\"},{\"default\":\"wrap\",\"kind\":null,\"name\":\"flex_wrap\"},{\"default\":\"flex-start\",\"kind\":null,\"name\":\"justify_content\"}]},{\"extends\":null,\"module\":null,\"name\":\"GridStack1\",\"overrides\":[],\"properties\":[{\"default\":\"warn\",\"kind\":null,\"name\":\"mode\"},{\"default\":null,\"kind\":null,\"name\":\"ncols\"},{\"default\":null,\"kind\":null,\"name\":\"nrows\"},{\"default\":true,\"kind\":null,\"name\":\"allow_resize\"},{\"default\":true,\"kind\":null,\"name\":\"allow_drag\"},{\"default\":[],\"kind\":null,\"name\":\"state\"}]},{\"extends\":null,\"module\":null,\"name\":\"click1\",\"overrides\":[],\"properties\":[{\"default\":\"\",\"kind\":null,\"name\":\"terminal_output\"},{\"default\":\"\",\"kind\":null,\"name\":\"debug_name\"},{\"default\":0,\"kind\":null,\"name\":\"clears\"}]},{\"extends\":null,\"module\":null,\"name\":\"NotificationAreaBase1\",\"overrides\":[],\"properties\":[{\"default\":\"bottom-right\",\"kind\":null,\"name\":\"position\"},{\"default\":0,\"kind\":null,\"name\":\"_clear\"}]},{\"extends\":null,\"module\":null,\"name\":\"NotificationArea1\",\"overrides\":[],\"properties\":[{\"default\":[],\"kind\":null,\"name\":\"notifications\"},{\"default\":\"bottom-right\",\"kind\":null,\"name\":\"position\"},{\"default\":0,\"kind\":null,\"name\":\"_clear\"},{\"default\":[{\"background\":\"#ffc107\",\"icon\":{\"className\":\"fas fa-exclamation-triangle\",\"color\":\"white\",\"tagName\":\"i\"},\"type\":\"warning\"},{\"background\":\"#007bff\",\"icon\":{\"className\":\"fas fa-info-circle\",\"color\":\"white\",\"tagName\":\"i\"},\"type\":\"info\"}],\"kind\":null,\"name\":\"types\"}]},{\"extends\":null,\"module\":null,\"name\":\"Notification\",\"overrides\":[],\"properties\":[{\"default\":null,\"kind\":null,\"name\":\"background\"},{\"default\":3000,\"kind\":null,\"name\":\"duration\"},{\"default\":null,\"kind\":null,\"name\":\"icon\"},{\"default\":\"\",\"kind\":null,\"name\":\"message\"},{\"default\":null,\"kind\":null,\"name\":\"notification_type\"},{\"default\":false,\"kind\":null,\"name\":\"_destroyed\"}]},{\"extends\":null,\"module\":null,\"name\":\"TemplateActions1\",\"overrides\":[],\"properties\":[{\"default\":0,\"kind\":null,\"name\":\"open_modal\"},{\"default\":0,\"kind\":null,\"name\":\"close_modal\"}]},{\"extends\":null,\"module\":null,\"name\":\"MaterialTemplateActions1\",\"overrides\":[],\"properties\":[{\"default\":0,\"kind\":null,\"name\":\"open_modal\"},{\"default\":0,\"kind\":null,\"name\":\"close_modal\"}]}],\"roots\":{\"references\":[{\"attributes\":{\"client_comm_id\":\"1ea805e7521042e1b989cff15d83e9d4\",\"comm_id\":\"97b5d31268594155bcc7199585a3237c\",\"plot_id\":\"1002\"},\"id\":\"1003\",\"type\":\"panel.models.comm_manager.CommManager\"},{\"attributes\":{\"margin\":[5,10,5,10],\"options\":[\"2013\",\"2014\",\"2015\",\"2016\",\"2017\",\"2018\",\"2019\",\"2020\",\"2021\",\"2013\",\"2014\",\"2015\",\"2016\",\"2017\",\"2018\",\"2019\",\"2020\",\"2021\"],\"title\":\"Year\",\"value\":\"2013\"},\"id\":\"1002\",\"type\":\"panel.models.widgets.CustomSelect\"},{\"attributes\":{\"reload\":false},\"id\":\"1004\",\"type\":\"panel.models.location.Location\"}],\"root_ids\":[\"1002\",\"1003\",\"1004\"]},\"title\":\"Bokeh Application\",\"version\":\"2.4.3\"}};\n",
       "    var render_items = [{\"docid\":\"74d4e901-aff1-4a52-86be-e3ce626b1a05\",\"root_ids\":[\"1002\"],\"roots\":{\"1002\":\"6525605f-40c9-40dc-a841-a03194978520\"}}];\n",
       "    root.Bokeh.embed.embed_items_notebook(docs_json, render_items);\n",
       "    for (const render_item of render_items) {\n",
       "      for (const root_id of render_item.root_ids) {\n",
       "\tconst id_el = document.getElementById(root_id)\n",
       "\tif (id_el.children.length && (id_el.children[0].className === 'bk-root')) {\n",
       "\t  const root_el = id_el.children[0]\n",
       "\t  root_el.id = root_el.id + '-rendered'\n",
       "\t}\n",
       "      }\n",
       "    }\n",
       "  }\n",
       "  if (root.Bokeh !== undefined && root.Bokeh.Panel !== undefined && ( root['Tabulator'] !== undefined) && ( root['Tabulator'] !== undefined) && ( root['Tabulator'] !== undefined)) {\n",
       "    embed_document(root);\n",
       "  } else {\n",
       "    var attempts = 0;\n",
       "    var timer = setInterval(function(root) {\n",
       "      if (root.Bokeh !== undefined && root.Bokeh.Panel !== undefined && (root['Tabulator'] !== undefined) && (root['Tabulator'] !== undefined) && (root['Tabulator'] !== undefined)) {\n",
       "        clearInterval(timer);\n",
       "        embed_document(root);\n",
       "      } else if (document.readyState == \"complete\") {\n",
       "        attempts++;\n",
       "        if (attempts > 200) {\n",
       "          clearInterval(timer);\n",
       "          console.log(\"Bokeh: ERROR: Unable to run BokehJS code because BokehJS library is missing\");\n",
       "        }\n",
       "      }\n",
       "    }, 25, root)\n",
       "  }\n",
       "})(window);</script>"
      ],
      "text/plain": [
       "Select(name='Year', options=[2013, 2014, 2015, ...], value=2013)"
      ]
     },
     "execution_count": 12,
     "metadata": {
      "application/vnd.holoviews_exec.v0+json": {
       "id": "1002"
      }
     },
     "output_type": "execute_result"
    }
   ],
   "source": [
    "sliderYear = pn.widgets.Select(name = 'Year', options= list(WAD['Year']))\n",
    "sliderYear"
   ]
  },
  {
   "cell_type": "code",
   "execution_count": 13,
   "metadata": {},
   "outputs": [
    {
     "data": {},
     "metadata": {},
     "output_type": "display_data"
    },
    {
     "data": {
      "application/vnd.holoviews_exec.v0+json": "",
      "text/html": [
       "<div id='1005'>\n",
       "  <div class=\"bk-root\" id=\"f3c26ba6-dab3-4274-8be8-f7523cb6e3a2\" data-root-id=\"1005\"></div>\n",
       "</div>\n",
       "<script type=\"application/javascript\">(function(root) {\n",
       "  function embed_document(root) {\n",
       "    var docs_json = {\"27fe7122-8760-41b8-826f-bcceb8b655e4\":{\"defs\":[{\"extends\":null,\"module\":null,\"name\":\"ReactiveHTML1\",\"overrides\":[],\"properties\":[]},{\"extends\":null,\"module\":null,\"name\":\"FlexBox1\",\"overrides\":[],\"properties\":[{\"default\":\"flex-start\",\"kind\":null,\"name\":\"align_content\"},{\"default\":\"flex-start\",\"kind\":null,\"name\":\"align_items\"},{\"default\":\"row\",\"kind\":null,\"name\":\"flex_direction\"},{\"default\":\"wrap\",\"kind\":null,\"name\":\"flex_wrap\"},{\"default\":\"flex-start\",\"kind\":null,\"name\":\"justify_content\"}]},{\"extends\":null,\"module\":null,\"name\":\"GridStack1\",\"overrides\":[],\"properties\":[{\"default\":\"warn\",\"kind\":null,\"name\":\"mode\"},{\"default\":null,\"kind\":null,\"name\":\"ncols\"},{\"default\":null,\"kind\":null,\"name\":\"nrows\"},{\"default\":true,\"kind\":null,\"name\":\"allow_resize\"},{\"default\":true,\"kind\":null,\"name\":\"allow_drag\"},{\"default\":[],\"kind\":null,\"name\":\"state\"}]},{\"extends\":null,\"module\":null,\"name\":\"click1\",\"overrides\":[],\"properties\":[{\"default\":\"\",\"kind\":null,\"name\":\"terminal_output\"},{\"default\":\"\",\"kind\":null,\"name\":\"debug_name\"},{\"default\":0,\"kind\":null,\"name\":\"clears\"}]},{\"extends\":null,\"module\":null,\"name\":\"NotificationAreaBase1\",\"overrides\":[],\"properties\":[{\"default\":\"bottom-right\",\"kind\":null,\"name\":\"position\"},{\"default\":0,\"kind\":null,\"name\":\"_clear\"}]},{\"extends\":null,\"module\":null,\"name\":\"NotificationArea1\",\"overrides\":[],\"properties\":[{\"default\":[],\"kind\":null,\"name\":\"notifications\"},{\"default\":\"bottom-right\",\"kind\":null,\"name\":\"position\"},{\"default\":0,\"kind\":null,\"name\":\"_clear\"},{\"default\":[{\"background\":\"#ffc107\",\"icon\":{\"className\":\"fas fa-exclamation-triangle\",\"color\":\"white\",\"tagName\":\"i\"},\"type\":\"warning\"},{\"background\":\"#007bff\",\"icon\":{\"className\":\"fas fa-info-circle\",\"color\":\"white\",\"tagName\":\"i\"},\"type\":\"info\"}],\"kind\":null,\"name\":\"types\"}]},{\"extends\":null,\"module\":null,\"name\":\"Notification\",\"overrides\":[],\"properties\":[{\"default\":null,\"kind\":null,\"name\":\"background\"},{\"default\":3000,\"kind\":null,\"name\":\"duration\"},{\"default\":null,\"kind\":null,\"name\":\"icon\"},{\"default\":\"\",\"kind\":null,\"name\":\"message\"},{\"default\":null,\"kind\":null,\"name\":\"notification_type\"},{\"default\":false,\"kind\":null,\"name\":\"_destroyed\"}]},{\"extends\":null,\"module\":null,\"name\":\"TemplateActions1\",\"overrides\":[],\"properties\":[{\"default\":0,\"kind\":null,\"name\":\"open_modal\"},{\"default\":0,\"kind\":null,\"name\":\"close_modal\"}]},{\"extends\":null,\"module\":null,\"name\":\"MaterialTemplateActions1\",\"overrides\":[],\"properties\":[{\"default\":0,\"kind\":null,\"name\":\"open_modal\"},{\"default\":0,\"kind\":null,\"name\":\"close_modal\"}]}],\"roots\":{\"references\":[{\"attributes\":{\"client_comm_id\":\"dd33a9b15ebf44ef94e5f379829bd7f8\",\"comm_id\":\"2cc47108c89d44d4bd5598f8a2997a76\",\"plot_id\":\"1005\"},\"id\":\"1006\",\"type\":\"panel.models.comm_manager.CommManager\"},{\"attributes\":{\"active\":0,\"button_type\":\"warning\",\"labels\":[\"Southern Union Conference\",\"Northern Union Conference\"],\"margin\":[5,10,5,10]},\"id\":\"1005\",\"type\":\"RadioButtonGroup\"}],\"root_ids\":[\"1005\",\"1006\"]},\"title\":\"Bokeh Application\",\"version\":\"2.4.3\"}};\n",
       "    var render_items = [{\"docid\":\"27fe7122-8760-41b8-826f-bcceb8b655e4\",\"root_ids\":[\"1005\"],\"roots\":{\"1005\":\"f3c26ba6-dab3-4274-8be8-f7523cb6e3a2\"}}];\n",
       "    root.Bokeh.embed.embed_items_notebook(docs_json, render_items);\n",
       "    for (const render_item of render_items) {\n",
       "      for (const root_id of render_item.root_ids) {\n",
       "\tconst id_el = document.getElementById(root_id)\n",
       "\tif (id_el.children.length && (id_el.children[0].className === 'bk-root')) {\n",
       "\t  const root_el = id_el.children[0]\n",
       "\t  root_el.id = root_el.id + '-rendered'\n",
       "\t}\n",
       "      }\n",
       "    }\n",
       "  }\n",
       "  if (root.Bokeh !== undefined && root.Bokeh.Panel !== undefined && ( root['Tabulator'] !== undefined) && ( root['Tabulator'] !== undefined) && ( root['Tabulator'] !== undefined)) {\n",
       "    embed_document(root);\n",
       "  } else {\n",
       "    var attempts = 0;\n",
       "    var timer = setInterval(function(root) {\n",
       "      if (root.Bokeh !== undefined && root.Bokeh.Panel !== undefined && (root['Tabulator'] !== undefined) && (root['Tabulator'] !== undefined) && (root['Tabulator'] !== undefined)) {\n",
       "        clearInterval(timer);\n",
       "        embed_document(root);\n",
       "      } else if (document.readyState == \"complete\") {\n",
       "        attempts++;\n",
       "        if (attempts > 200) {\n",
       "          clearInterval(timer);\n",
       "          console.log(\"Bokeh: ERROR: Unable to run BokehJS code because BokehJS library is missing\");\n",
       "        }\n",
       "      }\n",
       "    }, 25, root)\n",
       "  }\n",
       "})(window);</script>"
      ],
      "text/plain": [
       "RadioButtonGroup(button_type='warning', name='Y axis', options=['Southern Union Conferenc...], value='Southern Union C...)"
      ]
     },
     "execution_count": 13,
     "metadata": {
      "application/vnd.holoviews_exec.v0+json": {
       "id": "1005"
      }
     },
     "output_type": "execute_result"
    }
   ],
   "source": [
    "Yearaxis = pn.widgets.RadioButtonGroup(name = 'Y axis', options= ['Southern Union Conference', 'Northern Union Conference'],\n",
    "                                    button_type = 'warning')\n",
    "Yearaxis"
   ]
  },
  {
   "cell_type": "markdown",
   "metadata": {},
   "source": [
    "### Data Pipeline "
   ]
  },
  {
   "cell_type": "code",
   "execution_count": 14,
   "metadata": {},
   "outputs": [
    {
     "data": {
      "text/plain": [
       "[2016, 2017, 2018, 2019, 2020, 2021, 2013, 2014, 2015]"
      ]
     },
     "execution_count": 14,
     "metadata": {},
     "output_type": "execute_result"
    }
   ],
   "source": [
    "Ghanaconferences = list(set(WAD.Ghana))\n",
    "Years  = list(set(WAD.Year))\n",
    "Years"
   ]
  },
  {
   "cell_type": "code",
   "execution_count": 15,
   "metadata": {
    "scrolled": true
   },
   "outputs": [
    {
     "data": {},
     "metadata": {},
     "output_type": "display_data"
    },
    {
     "data": {
      "application/vnd.holoviews_exec.v0+json": "",
      "text/html": [
       "<div id='1007'>\n",
       "  <div class=\"bk-root\" id=\"3f0d83d6-2048-4d2e-8823-91829507eaf2\" data-root-id=\"1007\"></div>\n",
       "</div>\n",
       "<script type=\"application/javascript\">(function(root) {\n",
       "  function embed_document(root) {\n",
       "    var docs_json = {\"a2a97f1e-aa55-4981-953f-666e035cc07f\":{\"defs\":[{\"extends\":null,\"module\":null,\"name\":\"ReactiveHTML1\",\"overrides\":[],\"properties\":[]},{\"extends\":null,\"module\":null,\"name\":\"FlexBox1\",\"overrides\":[],\"properties\":[{\"default\":\"flex-start\",\"kind\":null,\"name\":\"align_content\"},{\"default\":\"flex-start\",\"kind\":null,\"name\":\"align_items\"},{\"default\":\"row\",\"kind\":null,\"name\":\"flex_direction\"},{\"default\":\"wrap\",\"kind\":null,\"name\":\"flex_wrap\"},{\"default\":\"flex-start\",\"kind\":null,\"name\":\"justify_content\"}]},{\"extends\":null,\"module\":null,\"name\":\"GridStack1\",\"overrides\":[],\"properties\":[{\"default\":\"warn\",\"kind\":null,\"name\":\"mode\"},{\"default\":null,\"kind\":null,\"name\":\"ncols\"},{\"default\":null,\"kind\":null,\"name\":\"nrows\"},{\"default\":true,\"kind\":null,\"name\":\"allow_resize\"},{\"default\":true,\"kind\":null,\"name\":\"allow_drag\"},{\"default\":[],\"kind\":null,\"name\":\"state\"}]},{\"extends\":null,\"module\":null,\"name\":\"click1\",\"overrides\":[],\"properties\":[{\"default\":\"\",\"kind\":null,\"name\":\"terminal_output\"},{\"default\":\"\",\"kind\":null,\"name\":\"debug_name\"},{\"default\":0,\"kind\":null,\"name\":\"clears\"}]},{\"extends\":null,\"module\":null,\"name\":\"NotificationAreaBase1\",\"overrides\":[],\"properties\":[{\"default\":\"bottom-right\",\"kind\":null,\"name\":\"position\"},{\"default\":0,\"kind\":null,\"name\":\"_clear\"}]},{\"extends\":null,\"module\":null,\"name\":\"NotificationArea1\",\"overrides\":[],\"properties\":[{\"default\":[],\"kind\":null,\"name\":\"notifications\"},{\"default\":\"bottom-right\",\"kind\":null,\"name\":\"position\"},{\"default\":0,\"kind\":null,\"name\":\"_clear\"},{\"default\":[{\"background\":\"#ffc107\",\"icon\":{\"className\":\"fas fa-exclamation-triangle\",\"color\":\"white\",\"tagName\":\"i\"},\"type\":\"warning\"},{\"background\":\"#007bff\",\"icon\":{\"className\":\"fas fa-info-circle\",\"color\":\"white\",\"tagName\":\"i\"},\"type\":\"info\"}],\"kind\":null,\"name\":\"types\"}]},{\"extends\":null,\"module\":null,\"name\":\"Notification\",\"overrides\":[],\"properties\":[{\"default\":null,\"kind\":null,\"name\":\"background\"},{\"default\":3000,\"kind\":null,\"name\":\"duration\"},{\"default\":null,\"kind\":null,\"name\":\"icon\"},{\"default\":\"\",\"kind\":null,\"name\":\"message\"},{\"default\":null,\"kind\":null,\"name\":\"notification_type\"},{\"default\":false,\"kind\":null,\"name\":\"_destroyed\"}]},{\"extends\":null,\"module\":null,\"name\":\"TemplateActions1\",\"overrides\":[],\"properties\":[{\"default\":0,\"kind\":null,\"name\":\"open_modal\"},{\"default\":0,\"kind\":null,\"name\":\"close_modal\"}]},{\"extends\":null,\"module\":null,\"name\":\"MaterialTemplateActions1\",\"overrides\":[],\"properties\":[{\"default\":0,\"kind\":null,\"name\":\"open_modal\"},{\"default\":0,\"kind\":null,\"name\":\"close_modal\"}]}],\"roots\":{\"references\":[{\"attributes\":{\"children\":[{\"id\":\"1010\"},{\"id\":\"1011\"}],\"margin\":[0,0,0,0],\"name\":\"Row01104\"},\"id\":\"1009\",\"type\":\"Row\"},{\"attributes\":{\"margin\":[5,5,5,5],\"name\":\"HSpacer01103\",\"sizing_mode\":\"stretch_width\"},\"id\":\"1011\",\"type\":\"Spacer\"},{\"attributes\":{\"children\":[{\"id\":\"1013\"},{\"id\":\"1014\"}],\"margin\":[0,0,0,0],\"name\":\"Column01098\"},\"id\":\"1012\",\"type\":\"Column\"},{\"attributes\":{\"children\":[{\"id\":\"1009\"},{\"id\":\"1012\"}],\"margin\":[0,0,0,0],\"name\":\"Column01105\"},\"id\":\"1008\",\"type\":\"Column\"},{\"attributes\":{\"children\":[{\"id\":\"1008\"}],\"margin\":[0,0,0,0],\"name\":\"Row01106\"},\"id\":\"1007\",\"type\":\"Row\"},{\"attributes\":{\"margin\":[0,0,0,0],\"name\":\"Column01102\"},\"id\":\"1013\",\"type\":\"Column\"},{\"attributes\":{\"children\":[{\"id\":\"1015\"}],\"margin\":[0,0,0,0],\"name\":\"Row01101\"},\"id\":\"1014\",\"type\":\"Row\"},{\"attributes\":{\"margin\":[5,5,5,5],\"name\":\"DataFrame01099\",\"text\":\"&lt;table border=&quot;0&quot; class=&quot;dataframe panel-df&quot;&gt;\\n  &lt;thead&gt;\\n    &lt;tr style=&quot;text-align: right;&quot;&gt;\\n      &lt;th&gt;&lt;/th&gt;\\n      &lt;th&gt;index&lt;/th&gt;\\n      &lt;th&gt;Ghana&lt;/th&gt;\\n      &lt;th&gt;Year&lt;/th&gt;\\n      &lt;th&gt;Churches&lt;/th&gt;\\n      &lt;th&gt;Companies&lt;/th&gt;\\n      &lt;th&gt;Congregations&lt;/th&gt;\\n      &lt;th&gt;Beginning Membership&lt;/th&gt;\\n      &lt;th&gt;Baptisms&lt;/th&gt;\\n      &lt;th&gt;Former Member Baptisms&lt;/th&gt;\\n      &lt;th&gt;Professions of Faith&lt;/th&gt;\\n      &lt;th&gt;Transfers In&lt;/th&gt;\\n      &lt;th&gt;Transfers Out&lt;/th&gt;\\n      &lt;th&gt;Deaths&lt;/th&gt;\\n      &lt;th&gt;Dropped&lt;/th&gt;\\n      &lt;th&gt;Missing&lt;/th&gt;\\n      &lt;th&gt;Total Gains&lt;/th&gt;\\n      &lt;th&gt;Total Losses&lt;/th&gt;\\n      &lt;th&gt;Adjust&lt;/th&gt;\\n      &lt;th&gt;Net Growth&lt;/th&gt;\\n      &lt;th&gt;Ending Membership&lt;/th&gt;\\n      &lt;th&gt;Growth Rate&lt;/th&gt;\\n      &lt;th&gt;Accession Rate&lt;/th&gt;\\n      &lt;th&gt;Death Rate&lt;/th&gt;\\n      &lt;th&gt;Ordained Ministers&lt;/th&gt;\\n      &lt;th&gt;Licensed Ministers&lt;/th&gt;\\n      &lt;th&gt;Ministers&lt;/th&gt;\\n    &lt;/tr&gt;\\n  &lt;/thead&gt;\\n  &lt;tbody&gt;\\n    &lt;tr&gt;\\n      &lt;th&gt;0&lt;/th&gt;\\n      &lt;td&gt;0&lt;/td&gt;\\n      &lt;td&gt;North Ghana Union Conference&lt;/td&gt;\\n      &lt;td&gt;2013&lt;/td&gt;\\n      &lt;td&gt;733&lt;/td&gt;\\n      &lt;td&gt;1021&lt;/td&gt;\\n      &lt;td&gt;1754&lt;/td&gt;\\n      &lt;td&gt;256864&lt;/td&gt;\\n      &lt;td&gt;11354&lt;/td&gt;\\n      &lt;td&gt;0.0&lt;/td&gt;\\n      &lt;td&gt;110&lt;/td&gt;\\n      &lt;td&gt;581&lt;/td&gt;\\n      &lt;td&gt;679&lt;/td&gt;\\n      &lt;td&gt;620&lt;/td&gt;\\n      &lt;td&gt;111&lt;/td&gt;\\n      &lt;td&gt;95&lt;/td&gt;\\n      &lt;td&gt;12045&lt;/td&gt;\\n      &lt;td&gt;1505&lt;/td&gt;\\n      &lt;td&gt;2&lt;/td&gt;\\n      &lt;td&gt;10542&lt;/td&gt;\\n      &lt;td&gt;267406&lt;/td&gt;\\n      &lt;td&gt;0.0410&lt;/td&gt;\\n      &lt;td&gt;0.0446&lt;/td&gt;\\n      &lt;td&gt;0.0024&lt;/td&gt;\\n      &lt;td&gt;139.0&lt;/td&gt;\\n      &lt;td&gt;67.0&lt;/td&gt;\\n      &lt;td&gt;206&lt;/td&gt;\\n    &lt;/tr&gt;\\n    &lt;tr&gt;\\n      &lt;th&gt;9&lt;/th&gt;\\n      &lt;td&gt;9&lt;/td&gt;\\n      &lt;td&gt;Southern Ghana Union Conference&lt;/td&gt;\\n      &lt;td&gt;2013&lt;/td&gt;\\n      &lt;td&gt;548&lt;/td&gt;\\n      &lt;td&gt;799&lt;/td&gt;\\n      &lt;td&gt;1347&lt;/td&gt;\\n      &lt;td&gt;139951&lt;/td&gt;\\n      &lt;td&gt;9521&lt;/td&gt;\\n      &lt;td&gt;0.0&lt;/td&gt;\\n      &lt;td&gt;118&lt;/td&gt;\\n      &lt;td&gt;689&lt;/td&gt;\\n      &lt;td&gt;751&lt;/td&gt;\\n      &lt;td&gt;454&lt;/td&gt;\\n      &lt;td&gt;132&lt;/td&gt;\\n      &lt;td&gt;685&lt;/td&gt;\\n      &lt;td&gt;10328&lt;/td&gt;\\n      &lt;td&gt;2022&lt;/td&gt;\\n      &lt;td&gt;-6819&lt;/td&gt;\\n      &lt;td&gt;1487&lt;/td&gt;\\n      &lt;td&gt;141438&lt;/td&gt;\\n      &lt;td&gt;0.0106&lt;/td&gt;\\n      &lt;td&gt;0.0689&lt;/td&gt;\\n      &lt;td&gt;0.0032&lt;/td&gt;\\n      &lt;td&gt;105.0&lt;/td&gt;\\n      &lt;td&gt;76.0&lt;/td&gt;\\n      &lt;td&gt;181&lt;/td&gt;\\n    &lt;/tr&gt;\\n    &lt;tr&gt;\\n      &lt;th&gt;1&lt;/th&gt;\\n      &lt;td&gt;1&lt;/td&gt;\\n      &lt;td&gt;North Ghana Union Conference&lt;/td&gt;\\n      &lt;td&gt;2014&lt;/td&gt;\\n      &lt;td&gt;689&lt;/td&gt;\\n      &lt;td&gt;939&lt;/td&gt;\\n      &lt;td&gt;1628&lt;/td&gt;\\n      &lt;td&gt;267406&lt;/td&gt;\\n      &lt;td&gt;15015&lt;/td&gt;\\n      &lt;td&gt;0.0&lt;/td&gt;\\n      &lt;td&gt;120&lt;/td&gt;\\n      &lt;td&gt;12861&lt;/td&gt;\\n      &lt;td&gt;14740&lt;/td&gt;\\n      &lt;td&gt;653&lt;/td&gt;\\n      &lt;td&gt;201&lt;/td&gt;\\n      &lt;td&gt;41&lt;/td&gt;\\n      &lt;td&gt;27996&lt;/td&gt;\\n      &lt;td&gt;15635&lt;/td&gt;\\n      &lt;td&gt;-125335&lt;/td&gt;\\n      &lt;td&gt;-112974&lt;/td&gt;\\n      &lt;td&gt;154432&lt;/td&gt;\\n      &lt;td&gt;-0.4225&lt;/td&gt;\\n      &lt;td&gt;0.0566&lt;/td&gt;\\n      &lt;td&gt;0.0024&lt;/td&gt;\\n      &lt;td&gt;161.0&lt;/td&gt;\\n      &lt;td&gt;71.0&lt;/td&gt;\\n      &lt;td&gt;232&lt;/td&gt;\\n    &lt;/tr&gt;\\n    &lt;tr&gt;\\n      &lt;th&gt;10&lt;/th&gt;\\n      &lt;td&gt;10&lt;/td&gt;\\n      &lt;td&gt;Southern Ghana Union Conference&lt;/td&gt;\\n      &lt;td&gt;2014&lt;/td&gt;\\n      &lt;td&gt;687&lt;/td&gt;\\n      &lt;td&gt;993&lt;/td&gt;\\n      &lt;td&gt;1680&lt;/td&gt;\\n      &lt;td&gt;141438&lt;/td&gt;\\n      &lt;td&gt;13703&lt;/td&gt;\\n      &lt;td&gt;0.0&lt;/td&gt;\\n      &lt;td&gt;1003&lt;/td&gt;\\n      &lt;td&gt;785&lt;/td&gt;\\n      &lt;td&gt;484&lt;/td&gt;\\n      &lt;td&gt;420&lt;/td&gt;\\n      &lt;td&gt;95&lt;/td&gt;\\n      &lt;td&gt;142&lt;/td&gt;\\n      &lt;td&gt;15491&lt;/td&gt;\\n      &lt;td&gt;1141&lt;/td&gt;\\n      &lt;td&gt;-48437&lt;/td&gt;\\n      &lt;td&gt;-34087&lt;/td&gt;\\n      &lt;td&gt;107351&lt;/td&gt;\\n      &lt;td&gt;-0.2410&lt;/td&gt;\\n      &lt;td&gt;0.1040&lt;/td&gt;\\n      &lt;td&gt;0.0030&lt;/td&gt;\\n      &lt;td&gt;107.0&lt;/td&gt;\\n      &lt;td&gt;90.0&lt;/td&gt;\\n      &lt;td&gt;197&lt;/td&gt;\\n    &lt;/tr&gt;\\n    &lt;tr&gt;\\n      &lt;th&gt;2&lt;/th&gt;\\n      &lt;td&gt;2&lt;/td&gt;\\n      &lt;td&gt;North Ghana Union Conference&lt;/td&gt;\\n      &lt;td&gt;2015&lt;/td&gt;\\n      &lt;td&gt;705&lt;/td&gt;\\n      &lt;td&gt;955&lt;/td&gt;\\n      &lt;td&gt;1660&lt;/td&gt;\\n      &lt;td&gt;154432&lt;/td&gt;\\n      &lt;td&gt;15148&lt;/td&gt;\\n      &lt;td&gt;0.0&lt;/td&gt;\\n      &lt;td&gt;158&lt;/td&gt;\\n      &lt;td&gt;114886&lt;/td&gt;\\n      &lt;td&gt;114668&lt;/td&gt;\\n      &lt;td&gt;901&lt;/td&gt;\\n      &lt;td&gt;184&lt;/td&gt;\\n      &lt;td&gt;287&lt;/td&gt;\\n      &lt;td&gt;130192&lt;/td&gt;\\n      &lt;td&gt;116040&lt;/td&gt;\\n      &lt;td&gt;72&lt;/td&gt;\\n      &lt;td&gt;14224&lt;/td&gt;\\n      &lt;td&gt;168656&lt;/td&gt;\\n      &lt;td&gt;0.0921&lt;/td&gt;\\n      &lt;td&gt;0.0991&lt;/td&gt;\\n      &lt;td&gt;0.0058&lt;/td&gt;\\n      &lt;td&gt;0.0&lt;/td&gt;\\n      &lt;td&gt;0.0&lt;/td&gt;\\n      &lt;td&gt;0&lt;/td&gt;\\n    &lt;/tr&gt;\\n    &lt;tr&gt;\\n      &lt;th&gt;11&lt;/th&gt;\\n      &lt;td&gt;11&lt;/td&gt;\\n      &lt;td&gt;Southern Ghana Union Conference&lt;/td&gt;\\n      &lt;td&gt;2015&lt;/td&gt;\\n      &lt;td&gt;731&lt;/td&gt;\\n      &lt;td&gt;1037&lt;/td&gt;\\n      &lt;td&gt;1768&lt;/td&gt;\\n      &lt;td&gt;107351&lt;/td&gt;\\n      &lt;td&gt;13668&lt;/td&gt;\\n      &lt;td&gt;0.0&lt;/td&gt;\\n      &lt;td&gt;1228&lt;/td&gt;\\n      &lt;td&gt;21848&lt;/td&gt;\\n      &lt;td&gt;21589&lt;/td&gt;\\n      &lt;td&gt;492&lt;/td&gt;\\n      &lt;td&gt;95&lt;/td&gt;\\n      &lt;td&gt;611&lt;/td&gt;\\n      &lt;td&gt;36744&lt;/td&gt;\\n      &lt;td&gt;22787&lt;/td&gt;\\n      &lt;td&gt;-67&lt;/td&gt;\\n      &lt;td&gt;13890&lt;/td&gt;\\n      &lt;td&gt;121241&lt;/td&gt;\\n      &lt;td&gt;0.1294&lt;/td&gt;\\n      &lt;td&gt;0.1388&lt;/td&gt;\\n      &lt;td&gt;0.0046&lt;/td&gt;\\n      &lt;td&gt;0.0&lt;/td&gt;\\n      &lt;td&gt;0.0&lt;/td&gt;\\n      &lt;td&gt;0&lt;/td&gt;\\n    &lt;/tr&gt;\\n    &lt;tr&gt;\\n      &lt;th&gt;3&lt;/th&gt;\\n      &lt;td&gt;3&lt;/td&gt;\\n      &lt;td&gt;North Ghana Union Conference&lt;/td&gt;\\n      &lt;td&gt;2016&lt;/td&gt;\\n      &lt;td&gt;783&lt;/td&gt;\\n      &lt;td&gt;986&lt;/td&gt;\\n      &lt;td&gt;1769&lt;/td&gt;\\n      &lt;td&gt;168656&lt;/td&gt;\\n      &lt;td&gt;13144&lt;/td&gt;\\n      &lt;td&gt;0.0&lt;/td&gt;\\n      &lt;td&gt;116&lt;/td&gt;\\n      &lt;td&gt;8763&lt;/td&gt;\\n      &lt;td&gt;10016&lt;/td&gt;\\n      &lt;td&gt;889&lt;/td&gt;\\n      &lt;td&gt;330&lt;/td&gt;\\n      &lt;td&gt;349&lt;/td&gt;\\n      &lt;td&gt;22023&lt;/td&gt;\\n      &lt;td&gt;11584&lt;/td&gt;\\n      &lt;td&gt;64&lt;/td&gt;\\n      &lt;td&gt;10503&lt;/td&gt;\\n      &lt;td&gt;179159&lt;/td&gt;\\n      &lt;td&gt;0.0623&lt;/td&gt;\\n      &lt;td&gt;0.0786&lt;/td&gt;\\n      &lt;td&gt;0.0053&lt;/td&gt;\\n      &lt;td&gt;0.0&lt;/td&gt;\\n      &lt;td&gt;0.0&lt;/td&gt;\\n      &lt;td&gt;0&lt;/td&gt;\\n    &lt;/tr&gt;\\n    &lt;tr&gt;\\n      &lt;th&gt;12&lt;/th&gt;\\n      &lt;td&gt;12&lt;/td&gt;\\n      &lt;td&gt;Southern Ghana Union Conference&lt;/td&gt;\\n      &lt;td&gt;2016&lt;/td&gt;\\n      &lt;td&gt;806&lt;/td&gt;\\n      &lt;td&gt;1066&lt;/td&gt;\\n      &lt;td&gt;1872&lt;/td&gt;\\n      &lt;td&gt;121241&lt;/td&gt;\\n      &lt;td&gt;12664&lt;/td&gt;\\n      &lt;td&gt;0.0&lt;/td&gt;\\n      &lt;td&gt;612&lt;/td&gt;\\n      &lt;td&gt;1559&lt;/td&gt;\\n      &lt;td&gt;1822&lt;/td&gt;\\n      &lt;td&gt;591&lt;/td&gt;\\n      &lt;td&gt;264&lt;/td&gt;\\n      &lt;td&gt;323&lt;/td&gt;\\n      &lt;td&gt;14835&lt;/td&gt;\\n      &lt;td&gt;3000&lt;/td&gt;\\n      &lt;td&gt;631&lt;/td&gt;\\n      &lt;td&gt;12466&lt;/td&gt;\\n      &lt;td&gt;133707&lt;/td&gt;\\n      &lt;td&gt;0.1028&lt;/td&gt;\\n      &lt;td&gt;0.1095&lt;/td&gt;\\n      &lt;td&gt;0.0049&lt;/td&gt;\\n      &lt;td&gt;0.0&lt;/td&gt;\\n      &lt;td&gt;0.0&lt;/td&gt;\\n      &lt;td&gt;0&lt;/td&gt;\\n    &lt;/tr&gt;\\n    &lt;tr&gt;\\n      &lt;th&gt;4&lt;/th&gt;\\n      &lt;td&gt;4&lt;/td&gt;\\n      &lt;td&gt;North Ghana Union Conference&lt;/td&gt;\\n      &lt;td&gt;2017&lt;/td&gt;\\n      &lt;td&gt;835&lt;/td&gt;\\n      &lt;td&gt;1046&lt;/td&gt;\\n      &lt;td&gt;1881&lt;/td&gt;\\n      &lt;td&gt;179159&lt;/td&gt;\\n      &lt;td&gt;13985&lt;/td&gt;\\n      &lt;td&gt;8.0&lt;/td&gt;\\n      &lt;td&gt;106&lt;/td&gt;\\n      &lt;td&gt;2673&lt;/td&gt;\\n      &lt;td&gt;4062&lt;/td&gt;\\n      &lt;td&gt;755&lt;/td&gt;\\n      &lt;td&gt;249&lt;/td&gt;\\n      &lt;td&gt;182&lt;/td&gt;\\n      &lt;td&gt;16772&lt;/td&gt;\\n      &lt;td&gt;5248&lt;/td&gt;\\n      &lt;td&gt;-35&lt;/td&gt;\\n      &lt;td&gt;11489&lt;/td&gt;\\n      &lt;td&gt;190648&lt;/td&gt;\\n      &lt;td&gt;0.0641&lt;/td&gt;\\n      &lt;td&gt;0.0787&lt;/td&gt;\\n      &lt;td&gt;0.0042&lt;/td&gt;\\n      &lt;td&gt;0.0&lt;/td&gt;\\n      &lt;td&gt;0.0&lt;/td&gt;\\n      &lt;td&gt;0&lt;/td&gt;\\n    &lt;/tr&gt;\\n    &lt;tr&gt;\\n      &lt;th&gt;13&lt;/th&gt;\\n      &lt;td&gt;13&lt;/td&gt;\\n      &lt;td&gt;Southern Ghana Union Conference&lt;/td&gt;\\n      &lt;td&gt;2017&lt;/td&gt;\\n      &lt;td&gt;887&lt;/td&gt;\\n      &lt;td&gt;1168&lt;/td&gt;\\n      &lt;td&gt;2055&lt;/td&gt;\\n      &lt;td&gt;133707&lt;/td&gt;\\n      &lt;td&gt;17805&lt;/td&gt;\\n      &lt;td&gt;0.0&lt;/td&gt;\\n      &lt;td&gt;562&lt;/td&gt;\\n      &lt;td&gt;83096&lt;/td&gt;\\n      &lt;td&gt;82746&lt;/td&gt;\\n      &lt;td&gt;602&lt;/td&gt;\\n      &lt;td&gt;143&lt;/td&gt;\\n      &lt;td&gt;148&lt;/td&gt;\\n      &lt;td&gt;101463&lt;/td&gt;\\n      &lt;td&gt;83639&lt;/td&gt;\\n      &lt;td&gt;6&lt;/td&gt;\\n      &lt;td&gt;17836&lt;/td&gt;\\n      &lt;td&gt;151543&lt;/td&gt;\\n      &lt;td&gt;0.1334&lt;/td&gt;\\n      &lt;td&gt;0.1374&lt;/td&gt;\\n      &lt;td&gt;0.0045&lt;/td&gt;\\n      &lt;td&gt;0.0&lt;/td&gt;\\n      &lt;td&gt;0.0&lt;/td&gt;\\n      &lt;td&gt;0&lt;/td&gt;\\n    &lt;/tr&gt;\\n    &lt;tr&gt;\\n      &lt;th&gt;5&lt;/th&gt;\\n      &lt;td&gt;5&lt;/td&gt;\\n      &lt;td&gt;North Ghana Union Conference&lt;/td&gt;\\n      &lt;td&gt;2018&lt;/td&gt;\\n      &lt;td&gt;902&lt;/td&gt;\\n      &lt;td&gt;1092&lt;/td&gt;\\n      &lt;td&gt;1994&lt;/td&gt;\\n      &lt;td&gt;190648&lt;/td&gt;\\n      &lt;td&gt;12076&lt;/td&gt;\\n      &lt;td&gt;114.0&lt;/td&gt;\\n      &lt;td&gt;87&lt;/td&gt;\\n      &lt;td&gt;4809&lt;/td&gt;\\n      &lt;td&gt;7190&lt;/td&gt;\\n      &lt;td&gt;734&lt;/td&gt;\\n      &lt;td&gt;245&lt;/td&gt;\\n      &lt;td&gt;359&lt;/td&gt;\\n      &lt;td&gt;17086&lt;/td&gt;\\n      &lt;td&gt;8528&lt;/td&gt;\\n      &lt;td&gt;-319&lt;/td&gt;\\n      &lt;td&gt;8239&lt;/td&gt;\\n      &lt;td&gt;198887&lt;/td&gt;\\n      &lt;td&gt;0.0432&lt;/td&gt;\\n      &lt;td&gt;0.0638&lt;/td&gt;\\n      &lt;td&gt;0.0039&lt;/td&gt;\\n      &lt;td&gt;0.0&lt;/td&gt;\\n      &lt;td&gt;0.0&lt;/td&gt;\\n      &lt;td&gt;0&lt;/td&gt;\\n    &lt;/tr&gt;\\n    &lt;tr&gt;\\n      &lt;th&gt;14&lt;/th&gt;\\n      &lt;td&gt;14&lt;/td&gt;\\n      &lt;td&gt;Southern Ghana Union Conference&lt;/td&gt;\\n      &lt;td&gt;2018&lt;/td&gt;\\n      &lt;td&gt;927&lt;/td&gt;\\n      &lt;td&gt;1244&lt;/td&gt;\\n      &lt;td&gt;2171&lt;/td&gt;\\n      &lt;td&gt;151543&lt;/td&gt;\\n      &lt;td&gt;16127&lt;/td&gt;\\n      &lt;td&gt;0.0&lt;/td&gt;\\n      &lt;td&gt;180&lt;/td&gt;\\n      &lt;td&gt;1512&lt;/td&gt;\\n      &lt;td&gt;1351&lt;/td&gt;\\n      &lt;td&gt;611&lt;/td&gt;\\n      &lt;td&gt;157&lt;/td&gt;\\n      &lt;td&gt;325&lt;/td&gt;\\n      &lt;td&gt;17819&lt;/td&gt;\\n      &lt;td&gt;2444&lt;/td&gt;\\n      &lt;td&gt;-167&lt;/td&gt;\\n      &lt;td&gt;15225&lt;/td&gt;\\n      &lt;td&gt;166768&lt;/td&gt;\\n      &lt;td&gt;0.1005&lt;/td&gt;\\n      &lt;td&gt;0.1076&lt;/td&gt;\\n      &lt;td&gt;0.0040&lt;/td&gt;\\n      &lt;td&gt;0.0&lt;/td&gt;\\n      &lt;td&gt;0.0&lt;/td&gt;\\n      &lt;td&gt;0&lt;/td&gt;\\n    &lt;/tr&gt;\\n    &lt;tr&gt;\\n      &lt;th&gt;6&lt;/th&gt;\\n      &lt;td&gt;6&lt;/td&gt;\\n      &lt;td&gt;North Ghana Union Conference&lt;/td&gt;\\n      &lt;td&gt;2019&lt;/td&gt;\\n      &lt;td&gt;967&lt;/td&gt;\\n      &lt;td&gt;1084&lt;/td&gt;\\n      &lt;td&gt;2051&lt;/td&gt;\\n      &lt;td&gt;198887&lt;/td&gt;\\n      &lt;td&gt;8378&lt;/td&gt;\\n      &lt;td&gt;17.0&lt;/td&gt;\\n      &lt;td&gt;105&lt;/td&gt;\\n      &lt;td&gt;4215&lt;/td&gt;\\n      &lt;td&gt;4757&lt;/td&gt;\\n      &lt;td&gt;629&lt;/td&gt;\\n      &lt;td&gt;501&lt;/td&gt;\\n      &lt;td&gt;397&lt;/td&gt;\\n      &lt;td&gt;12715&lt;/td&gt;\\n      &lt;td&gt;6284&lt;/td&gt;\\n      &lt;td&gt;-9804&lt;/td&gt;\\n      &lt;td&gt;-3373&lt;/td&gt;\\n      &lt;td&gt;195514&lt;/td&gt;\\n      &lt;td&gt;-0.0170&lt;/td&gt;\\n      &lt;td&gt;0.0427&lt;/td&gt;\\n      &lt;td&gt;0.0032&lt;/td&gt;\\n      &lt;td&gt;0.0&lt;/td&gt;\\n      &lt;td&gt;0.0&lt;/td&gt;\\n      &lt;td&gt;0&lt;/td&gt;\\n    &lt;/tr&gt;\\n    &lt;tr&gt;\\n      &lt;th&gt;15&lt;/th&gt;\\n      &lt;td&gt;15&lt;/td&gt;\\n      &lt;td&gt;Southern Ghana Union Conference&lt;/td&gt;\\n      &lt;td&gt;2019&lt;/td&gt;\\n      &lt;td&gt;964&lt;/td&gt;\\n      &lt;td&gt;1229&lt;/td&gt;\\n      &lt;td&gt;2193&lt;/td&gt;\\n      &lt;td&gt;166768&lt;/td&gt;\\n      &lt;td&gt;9679&lt;/td&gt;\\n      &lt;td&gt;0.0&lt;/td&gt;\\n      &lt;td&gt;76&lt;/td&gt;\\n      &lt;td&gt;1300&lt;/td&gt;\\n      &lt;td&gt;1282&lt;/td&gt;\\n      &lt;td&gt;561&lt;/td&gt;\\n      &lt;td&gt;117&lt;/td&gt;\\n      &lt;td&gt;488&lt;/td&gt;\\n      &lt;td&gt;11055&lt;/td&gt;\\n      &lt;td&gt;2448&lt;/td&gt;\\n      &lt;td&gt;502&lt;/td&gt;\\n      &lt;td&gt;9118&lt;/td&gt;\\n      &lt;td&gt;175886&lt;/td&gt;\\n      &lt;td&gt;0.0547&lt;/td&gt;\\n      &lt;td&gt;0.0585&lt;/td&gt;\\n      &lt;td&gt;0.0034&lt;/td&gt;\\n      &lt;td&gt;0.0&lt;/td&gt;\\n      &lt;td&gt;0.0&lt;/td&gt;\\n      &lt;td&gt;0&lt;/td&gt;\\n    &lt;/tr&gt;\\n    &lt;tr&gt;\\n      &lt;th&gt;7&lt;/th&gt;\\n      &lt;td&gt;7&lt;/td&gt;\\n      &lt;td&gt;North Ghana Union Conference&lt;/td&gt;\\n      &lt;td&gt;2020&lt;/td&gt;\\n      &lt;td&gt;1014&lt;/td&gt;\\n      &lt;td&gt;1127&lt;/td&gt;\\n      &lt;td&gt;2141&lt;/td&gt;\\n      &lt;td&gt;195514&lt;/td&gt;\\n      &lt;td&gt;5697&lt;/td&gt;\\n      &lt;td&gt;16.0&lt;/td&gt;\\n      &lt;td&gt;20&lt;/td&gt;\\n      &lt;td&gt;2854&lt;/td&gt;\\n      &lt;td&gt;3078&lt;/td&gt;\\n      &lt;td&gt;368&lt;/td&gt;\\n      &lt;td&gt;49&lt;/td&gt;\\n      &lt;td&gt;525&lt;/td&gt;\\n      &lt;td&gt;8587&lt;/td&gt;\\n      &lt;td&gt;4020&lt;/td&gt;\\n      &lt;td&gt;-5364&lt;/td&gt;\\n      &lt;td&gt;-797&lt;/td&gt;\\n      &lt;td&gt;194717&lt;/td&gt;\\n      &lt;td&gt;-0.0041&lt;/td&gt;\\n      &lt;td&gt;0.0292&lt;/td&gt;\\n      &lt;td&gt;0.0019&lt;/td&gt;\\n      &lt;td&gt;0.0&lt;/td&gt;\\n      &lt;td&gt;0.0&lt;/td&gt;\\n      &lt;td&gt;0&lt;/td&gt;\\n    &lt;/tr&gt;\\n    &lt;tr&gt;\\n      &lt;th&gt;16&lt;/th&gt;\\n      &lt;td&gt;16&lt;/td&gt;\\n      &lt;td&gt;Southern Ghana Union Conference&lt;/td&gt;\\n      &lt;td&gt;2020&lt;/td&gt;\\n      &lt;td&gt;1009&lt;/td&gt;\\n      &lt;td&gt;1236&lt;/td&gt;\\n      &lt;td&gt;2245&lt;/td&gt;\\n      &lt;td&gt;175886&lt;/td&gt;\\n      &lt;td&gt;4199&lt;/td&gt;\\n      &lt;td&gt;0.0&lt;/td&gt;\\n      &lt;td&gt;26&lt;/td&gt;\\n      &lt;td&gt;1450&lt;/td&gt;\\n      &lt;td&gt;1121&lt;/td&gt;\\n      &lt;td&gt;448&lt;/td&gt;\\n      &lt;td&gt;116&lt;/td&gt;\\n      &lt;td&gt;320&lt;/td&gt;\\n      &lt;td&gt;5675&lt;/td&gt;\\n      &lt;td&gt;2005&lt;/td&gt;\\n      &lt;td&gt;-668&lt;/td&gt;\\n      &lt;td&gt;3055&lt;/td&gt;\\n      &lt;td&gt;178941&lt;/td&gt;\\n      &lt;td&gt;0.0174&lt;/td&gt;\\n      &lt;td&gt;0.0240&lt;/td&gt;\\n      &lt;td&gt;0.0025&lt;/td&gt;\\n      &lt;td&gt;0.0&lt;/td&gt;\\n      &lt;td&gt;0.0&lt;/td&gt;\\n      &lt;td&gt;0&lt;/td&gt;\\n    &lt;/tr&gt;\\n    &lt;tr&gt;\\n      &lt;th&gt;8&lt;/th&gt;\\n      &lt;td&gt;8&lt;/td&gt;\\n      &lt;td&gt;North Ghana Union Conference&lt;/td&gt;\\n      &lt;td&gt;2021&lt;/td&gt;\\n      &lt;td&gt;1050&lt;/td&gt;\\n      &lt;td&gt;1112&lt;/td&gt;\\n      &lt;td&gt;2162&lt;/td&gt;\\n      &lt;td&gt;194717&lt;/td&gt;\\n      &lt;td&gt;9956&lt;/td&gt;\\n      &lt;td&gt;26.0&lt;/td&gt;\\n      &lt;td&gt;28&lt;/td&gt;\\n      &lt;td&gt;3371&lt;/td&gt;\\n      &lt;td&gt;3389&lt;/td&gt;\\n      &lt;td&gt;469&lt;/td&gt;\\n      &lt;td&gt;387&lt;/td&gt;\\n      &lt;td&gt;157&lt;/td&gt;\\n      &lt;td&gt;13381&lt;/td&gt;\\n      &lt;td&gt;4402&lt;/td&gt;\\n      &lt;td&gt;-2148&lt;/td&gt;\\n      &lt;td&gt;6831&lt;/td&gt;\\n      &lt;td&gt;201548&lt;/td&gt;\\n      &lt;td&gt;0.0351&lt;/td&gt;\\n      &lt;td&gt;0.0513&lt;/td&gt;\\n      &lt;td&gt;0.0024&lt;/td&gt;\\n      &lt;td&gt;0.0&lt;/td&gt;\\n      &lt;td&gt;0.0&lt;/td&gt;\\n      &lt;td&gt;0&lt;/td&gt;\\n    &lt;/tr&gt;\\n    &lt;tr&gt;\\n      &lt;th&gt;17&lt;/th&gt;\\n      &lt;td&gt;17&lt;/td&gt;\\n      &lt;td&gt;Southern Ghana Union Conference&lt;/td&gt;\\n      &lt;td&gt;2021&lt;/td&gt;\\n      &lt;td&gt;1040&lt;/td&gt;\\n      &lt;td&gt;1259&lt;/td&gt;\\n      &lt;td&gt;2299&lt;/td&gt;\\n      &lt;td&gt;178941&lt;/td&gt;\\n      &lt;td&gt;7367&lt;/td&gt;\\n      &lt;td&gt;0.0&lt;/td&gt;\\n      &lt;td&gt;95&lt;/td&gt;\\n      &lt;td&gt;996&lt;/td&gt;\\n      &lt;td&gt;1070&lt;/td&gt;\\n      &lt;td&gt;495&lt;/td&gt;\\n      &lt;td&gt;56&lt;/td&gt;\\n      &lt;td&gt;219&lt;/td&gt;\\n      &lt;td&gt;8458&lt;/td&gt;\\n      &lt;td&gt;1840&lt;/td&gt;\\n      &lt;td&gt;239&lt;/td&gt;\\n      &lt;td&gt;6890&lt;/td&gt;\\n      &lt;td&gt;185831&lt;/td&gt;\\n      &lt;td&gt;0.0385&lt;/td&gt;\\n      &lt;td&gt;0.0417&lt;/td&gt;\\n      &lt;td&gt;0.0028&lt;/td&gt;\\n      &lt;td&gt;0.0&lt;/td&gt;\\n      &lt;td&gt;0.0&lt;/td&gt;\\n      &lt;td&gt;0&lt;/td&gt;\\n    &lt;/tr&gt;\\n  &lt;/tbody&gt;\\n&lt;/table&gt;\"},\"id\":\"1015\",\"type\":\"panel.models.markup.HTML\"},{\"attributes\":{\"margin\":[0,0,0,0],\"name\":\"Column01096\"},\"id\":\"1010\",\"type\":\"Column\"},{\"attributes\":{\"client_comm_id\":\"93b8ab8416c44979a990bd5c78e01eae\",\"comm_id\":\"79b40b4120de42eb88f35053c8e3ec1d\",\"plot_id\":\"1007\"},\"id\":\"1016\",\"type\":\"panel.models.comm_manager.CommManager\"}],\"root_ids\":[\"1007\",\"1016\"]},\"title\":\"Bokeh Application\",\"version\":\"2.4.3\"}};\n",
       "    var render_items = [{\"docid\":\"a2a97f1e-aa55-4981-953f-666e035cc07f\",\"root_ids\":[\"1007\"],\"roots\":{\"1007\":\"3f0d83d6-2048-4d2e-8823-91829507eaf2\"}}];\n",
       "    root.Bokeh.embed.embed_items_notebook(docs_json, render_items);\n",
       "    for (const render_item of render_items) {\n",
       "      for (const root_id of render_item.root_ids) {\n",
       "\tconst id_el = document.getElementById(root_id)\n",
       "\tif (id_el.children.length && (id_el.children[0].className === 'bk-root')) {\n",
       "\t  const root_el = id_el.children[0]\n",
       "\t  root_el.id = root_el.id + '-rendered'\n",
       "\t}\n",
       "      }\n",
       "    }\n",
       "  }\n",
       "  if (root.Bokeh !== undefined && root.Bokeh.Panel !== undefined && ( root['Tabulator'] !== undefined) && ( root['Tabulator'] !== undefined) && ( root['Tabulator'] !== undefined)) {\n",
       "    embed_document(root);\n",
       "  } else {\n",
       "    var attempts = 0;\n",
       "    var timer = setInterval(function(root) {\n",
       "      if (root.Bokeh !== undefined && root.Bokeh.Panel !== undefined && (root['Tabulator'] !== undefined) && (root['Tabulator'] !== undefined) && (root['Tabulator'] !== undefined)) {\n",
       "        clearInterval(timer);\n",
       "        embed_document(root);\n",
       "      } else if (document.readyState == \"complete\") {\n",
       "        attempts++;\n",
       "        if (attempts > 200) {\n",
       "          clearInterval(timer);\n",
       "          console.log(\"Bokeh: ERROR: Unable to run BokehJS code because BokehJS library is missing\");\n",
       "        }\n",
       "      }\n",
       "    }, 25, root)\n",
       "  }\n",
       "})(window);</script>"
      ],
      "text/plain": [
       "<hvplot.interactive.Interactive at 0x271af81fcc8>"
      ]
     },
     "execution_count": 15,
     "metadata": {
      "application/vnd.holoviews_exec.v0+json": {
       "id": "1007"
      }
     },
     "output_type": "execute_result"
    }
   ],
   "source": [
    "WADataPipeLine = (WADInteractive[(WAD.Year.isin(Years))].reset_index().sort_values(by = 'Year'))\n",
    "WADataPipeLine\n"
   ]
  },
  {
   "cell_type": "code",
   "execution_count": 16,
   "metadata": {},
   "outputs": [],
   "source": [
    "# WADplot = WADataPipeLine.hvplot(x = 'Year', y ='str(WAD.Baptisms)', line_width = 2, title = 'UnionDashboard' )\n",
    "# WADplot"
   ]
  },
  {
   "cell_type": "code",
   "execution_count": 17,
   "metadata": {},
   "outputs": [
    {
     "data": {
      "text/plain": [
       "0        North Ghana Union Conference\n",
       "1        North Ghana Union Conference\n",
       "2        North Ghana Union Conference\n",
       "3        North Ghana Union Conference\n",
       "4        North Ghana Union Conference\n",
       "5        North Ghana Union Conference\n",
       "6        North Ghana Union Conference\n",
       "7        North Ghana Union Conference\n",
       "8        North Ghana Union Conference\n",
       "9     Southern Ghana Union Conference\n",
       "10    Southern Ghana Union Conference\n",
       "11    Southern Ghana Union Conference\n",
       "12    Southern Ghana Union Conference\n",
       "13    Southern Ghana Union Conference\n",
       "14    Southern Ghana Union Conference\n",
       "15    Southern Ghana Union Conference\n",
       "16    Southern Ghana Union Conference\n",
       "17    Southern Ghana Union Conference\n",
       "Name: Ghana, dtype: object"
      ]
     },
     "execution_count": 17,
     "metadata": {},
     "output_type": "execute_result"
    }
   ],
   "source": [
    "WAD.Ghana"
   ]
  },
  {
   "cell_type": "markdown",
   "metadata": {},
   "source": [
    "### Dash"
   ]
  },
  {
   "cell_type": "code",
   "execution_count": 18,
   "metadata": {},
   "outputs": [],
   "source": [
    "app = dash.Dash()\n"
   ]
  },
  {
   "cell_type": "code",
   "execution_count": 39,
   "metadata": {},
   "outputs": [],
   "source": [
    "app.layout = html.Div([\n",
    "    html.H1('WAD Dashboard'),\n",
    "    html.Div('Union Report'),\n",
    "    \n",
    "    \n",
    "    dcc.Graph(\n",
    "    id = 'Charts',\n",
    "    figure = {\n",
    "        \n",
    "        'data' : {'x': WAD['Year'], 'y': WAD['Churches'], 'type': 'line','name':'first quarter'},\n",
    "        'data': {'x': WAD['Year'], 'y': WAD['Baptisms'], 'type': 'bar','name':'second quarter'},\n",
    "        'layout':{'title':'church report'}\n",
    "    }\n",
    "    )\n",
    "])"
   ]
  },
  {
   "cell_type": "code",
   "execution_count": 40,
   "metadata": {},
   "outputs": [
    {
     "data": {
      "text/html": [
       "\n",
       "        <iframe\n",
       "            width=\"100%\"\n",
       "            height=\"650\"\n",
       "            src=\"http://127.0.0.1:8051/\"\n",
       "            frameborder=\"0\"\n",
       "            allowfullscreen\n",
       "        ></iframe>\n",
       "        "
      ],
      "text/plain": [
       "<IPython.lib.display.IFrame at 0x271afc759c8>"
      ]
     },
     "metadata": {},
     "output_type": "display_data"
    }
   ],
   "source": [
    "app.run_server(port =8051)"
   ]
  },
  {
   "cell_type": "code",
   "execution_count": null,
   "metadata": {},
   "outputs": [],
   "source": []
  }
 ],
 "metadata": {
  "kernelspec": {
   "display_name": "Python 3",
   "language": "python",
   "name": "python3"
  },
  "language_info": {
   "codemirror_mode": {
    "name": "ipython",
    "version": 3
   },
   "file_extension": ".py",
   "mimetype": "text/x-python",
   "name": "python",
   "nbconvert_exporter": "python",
   "pygments_lexer": "ipython3",
   "version": "3.7.9"
  }
 },
 "nbformat": 4,
 "nbformat_minor": 4
}
